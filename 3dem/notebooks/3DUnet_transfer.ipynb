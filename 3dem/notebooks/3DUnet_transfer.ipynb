{
 "cells": [
  {
   "cell_type": "markdown",
   "metadata": {},
   "source": [
    "#### 3D Unet using tranfer learning of VGG16 on first sythetic data"
   ]
  },
  {
   "cell_type": "code",
   "execution_count": 1,
   "metadata": {},
   "outputs": [
    {
     "name": "stderr",
     "output_type": "stream",
     "text": [
      "2022-04-28 16:45:59.289988: I tensorflow/stream_executor/platform/default/dso_loader.cc:49] Successfully opened dynamic library libcudart.so.10.1\n"
     ]
    },
    {
     "name": "stdout",
     "output_type": "stream",
     "text": [
      "name: \"/device:GPU:0\"\n",
      "device_type: \"GPU\"\n",
      "memory_limit: 31596363136\n",
      "locality {\n",
      "  bus_id: 1\n",
      "  links {\n",
      "  }\n",
      "}\n",
      "incarnation: 8121928971473665799\n",
      "physical_device_desc: \"device: 0, name: Tesla V100-SXM2-32GB, pci bus id: 0000:61:00.0, compute capability: 7.0\"\n",
      "\n"
     ]
    },
    {
     "name": "stderr",
     "output_type": "stream",
     "text": [
      "2022-04-28 16:46:00.679106: I tensorflow/core/platform/cpu_feature_guard.cc:142] This TensorFlow binary is optimized with oneAPI Deep Neural Network Library (oneDNN) to use the following CPU instructions in performance-critical operations:  SSE4.1 SSE4.2 AVX AVX2 AVX512F FMA\n",
      "To enable them in other operations, rebuild TensorFlow with the appropriate compiler flags.\n",
      "2022-04-28 16:46:00.680760: I tensorflow/stream_executor/platform/default/dso_loader.cc:49] Successfully opened dynamic library libcuda.so.1\n",
      "2022-04-28 16:46:00.740366: I tensorflow/core/common_runtime/gpu/gpu_device.cc:1720] Found device 0 with properties: \n",
      "pciBusID: 0000:61:00.0 name: Tesla V100-SXM2-32GB computeCapability: 7.0\n",
      "coreClock: 1.53GHz coreCount: 80 deviceMemorySize: 31.75GiB deviceMemoryBandwidth: 836.37GiB/s\n",
      "2022-04-28 16:46:00.740399: I tensorflow/stream_executor/platform/default/dso_loader.cc:49] Successfully opened dynamic library libcudart.so.10.1\n",
      "2022-04-28 16:46:00.743179: I tensorflow/stream_executor/platform/default/dso_loader.cc:49] Successfully opened dynamic library libcublas.so.10\n",
      "2022-04-28 16:46:00.743226: I tensorflow/stream_executor/platform/default/dso_loader.cc:49] Successfully opened dynamic library libcublasLt.so.10\n",
      "2022-04-28 16:46:00.745637: I tensorflow/stream_executor/platform/default/dso_loader.cc:49] Successfully opened dynamic library libcufft.so.10\n",
      "2022-04-28 16:46:00.746071: I tensorflow/stream_executor/platform/default/dso_loader.cc:49] Successfully opened dynamic library libcurand.so.10\n",
      "2022-04-28 16:46:00.748840: I tensorflow/stream_executor/platform/default/dso_loader.cc:49] Successfully opened dynamic library libcusolver.so.10\n",
      "2022-04-28 16:46:00.750165: I tensorflow/stream_executor/platform/default/dso_loader.cc:49] Successfully opened dynamic library libcusparse.so.10\n",
      "2022-04-28 16:46:00.755659: I tensorflow/stream_executor/platform/default/dso_loader.cc:49] Successfully opened dynamic library libcudnn.so.7\n",
      "2022-04-28 16:46:00.756578: I tensorflow/core/common_runtime/gpu/gpu_device.cc:1862] Adding visible gpu devices: 0\n",
      "2022-04-28 16:46:00.756608: I tensorflow/stream_executor/platform/default/dso_loader.cc:49] Successfully opened dynamic library libcudart.so.10.1\n",
      "2022-04-28 16:46:01.356761: I tensorflow/core/common_runtime/gpu/gpu_device.cc:1261] Device interconnect StreamExecutor with strength 1 edge matrix:\n",
      "2022-04-28 16:46:01.356797: I tensorflow/core/common_runtime/gpu/gpu_device.cc:1267]      0 \n",
      "2022-04-28 16:46:01.356808: I tensorflow/core/common_runtime/gpu/gpu_device.cc:1280] 0:   N \n",
      "2022-04-28 16:46:01.358294: I tensorflow/core/common_runtime/gpu/gpu_device.cc:1406] Created TensorFlow device (/device:GPU:0 with 30132 MB memory) -> physical GPU (device: 0, name: Tesla V100-SXM2-32GB, pci bus id: 0000:61:00.0, compute capability: 7.0)\n",
      "2022-04-28 16:46:01.358525: I tensorflow/compiler/jit/xla_gpu_device.cc:99] Not creating XLA devices, tf_xla_enable_xla_devices not set\n"
     ]
    },
    {
     "data": {
      "text/plain": [
       "[None]"
      ]
     },
     "execution_count": 1,
     "metadata": {},
     "output_type": "execute_result"
    }
   ],
   "source": [
    "# check the status of GPU\n",
    "from tensorflow.python.client import device_lib\n",
    "\n",
    "local_device_protos = device_lib.list_local_devices()\n",
    "\n",
    "[print(x) for x in local_device_protos if x.device_type == 'GPU']\n"
   ]
  },
  {
   "cell_type": "code",
   "execution_count": 2,
   "metadata": {},
   "outputs": [],
   "source": [
    "# !pip install classification-models-3D\n",
    "# !pip install efficientnet-3D"
   ]
  },
  {
   "cell_type": "code",
   "execution_count": 3,
   "metadata": {},
   "outputs": [],
   "source": [
    "DOCUMENT = True"
   ]
  },
  {
   "cell_type": "code",
   "execution_count": 4,
   "metadata": {},
   "outputs": [
    {
     "name": "stdout",
     "output_type": "stream",
     "text": [
      "https://app.neptune.ai/leeleeroy/UNet-3D-EM/e/UN1-5\n",
      "Remember to stop your run once you’ve finished logging your metadata (https://docs.neptune.ai/api-reference/run#.stop). It will be stopped automatically only when the notebook kernel/interactive console is terminated.\n"
     ]
    },
    {
     "name": "stderr",
     "output_type": "stream",
     "text": [
      "/home/li52/.conda/envs/seg/lib/python3.7/site-packages/neptune/new/internal/utils/git.py:35: UserWarning: GitPython could not be initialized\n",
      "  warnings.warn(\"GitPython could not be initialized\")\n",
      "/home/li52/.conda/envs/seg/lib/python3.7/site-packages/neptune/new/internal/utils/git.py:35: UserWarning: GitPython could not be initialized\n",
      "  warnings.warn(\"GitPython could not be initialized\")\n"
     ]
    }
   ],
   "source": [
    "# neptune document\n",
    "\n",
    "import neptune.new as neptune\n",
    "from neptune.new.integrations.tensorflow_keras import NeptuneCallback\n",
    "\n",
    "if DOCUMENT:\n",
    "\n",
    "    run = neptune.init(\n",
    "        project=\"leeleeroy/UNet-3D-EM\",\n",
    "        api_token=\"eyJhcGlfYWRkcmVzcyI6Imh0dHBzOi8vYXBwLm5lcHR1bmUuYWkiLCJhcGlfdXJsIjoiaHR0cHM6Ly9hcHAubmVwdHVuZS5haSIsImFwaV9rZXkiOiI3YjVjOGVmZi04MjA4LTQ4N2QtOWIzYy05M2YyZWI1NzY3MmEifQ==\",\n",
    "        name = \"UNet3D_64_vgg16\",\n",
    "    ) # necessary credentials, the name could be used to reproduce the results \n",
    "\n",
    "    # for callbacks in training\n",
    "\n",
    "\n",
    "\n",
    "    neptune_cbk = NeptuneCallback(run=run, base_namespace='metrics')  # neptune for the training process\n",
    "    \n",
    "    # neptune document the hyper param.\n",
    "\n",
    "    PARAMS = {'patchify': 64,\n",
    "              \"optimizer\": {\"learning_rate\": 0.001, \"beta_1\":0.9,\"optimizer\": \"Adam\"},\n",
    "              'epochs':100,\n",
    "              'batch_size':8}\n",
    "\n",
    "    # log hyper-parameters\n",
    "    run['hyper-parameters'] = PARAMS\n",
    "    run[\"sys/tags\"].add([\"3D_64\",\"transfer\", \"vgg16\", \"val\", \"test\", \"100\"])\n"
   ]
  },
  {
   "cell_type": "markdown",
   "metadata": {},
   "source": [
    "#### read in the raw data"
   ]
  },
  {
   "cell_type": "code",
   "execution_count": 5,
   "metadata": {},
   "outputs": [
    {
     "name": "stderr",
     "output_type": "stream",
     "text": [
      "Using TensorFlow backend.\n"
     ]
    },
    {
     "name": "stdout",
     "output_type": "stream",
     "text": [
      "Segmentation Models: using `tf.keras` framework.\n"
     ]
    }
   ],
   "source": [
    "import os\n",
    "import mrcfile\n",
    "import numpy as np\n",
    "import matplotlib.pyplot as plt\n",
    "from scipy import ndimage\n",
    "from tqdm import tqdm  # ! this might result into problem with 'object'\n",
    "import os\n",
    "import pandas as pd\n",
    "import random\n",
    "import tensorflow as tf\n",
    "from tensorflow import keras\n",
    "import tensorflow.keras as k\n",
    "import segmentation_models_3D as sm\n",
    "from tensorflow.keras.utils import to_categorical\n",
    "\n",
    "from skimage import io\n",
    "from patchify import patchify, unpatchify\n",
    "from sklearn.model_selection import train_test_split\n",
    "# import keras"
   ]
  },
  {
   "cell_type": "code",
   "execution_count": 6,
   "metadata": {},
   "outputs": [
    {
     "name": "stderr",
     "output_type": "stream",
     "text": [
      "  0%|          | 0/3 [00:00<?, ?it/s]"
     ]
    },
    {
     "name": "stdout",
     "output_type": "stream",
     "text": [
      "tomo2_focalseries.mrc\n",
      "tomo3_focalseries.mrc\n",
      "tomo1_focalseries.mrc\n"
     ]
    },
    {
     "name": "stderr",
     "output_type": "stream",
     "text": [
      "/home/li52/.conda/envs/seg/lib/python3.7/site-packages/mrcfile/mrcinterpreter.py:219: RuntimeWarning: Unrecognised machine stamp: 0x00 0x00 0x00 0x00\n",
      "  warnings.warn(str(err), RuntimeWarning)\n"
     ]
    },
    {
     "name": "stdout",
     "output_type": "stream",
     "text": [
      "tomo2_groundtruth.mrc\n",
      "tomo3_groundtruth.mrc\n"
     ]
    },
    {
     "name": "stderr",
     "output_type": "stream",
     "text": [
      "100%|██████████| 3/3 [00:00<00:00, 12.12it/s]"
     ]
    },
    {
     "name": "stdout",
     "output_type": "stream",
     "text": [
      "tomo1_groundtruth.mrc\n"
     ]
    },
    {
     "name": "stderr",
     "output_type": "stream",
     "text": [
      "\n"
     ]
    }
   ],
   "source": [
    "def readMRC(path):\n",
    "    with mrcfile.open(path, mode='r+', permissive=True) as mrc:\n",
    "        mrc.header.map = mrcfile.constants.MAP_ID # for synthetic data, need to generate ID\n",
    "        data = mrc.data\n",
    "    return data\n",
    "\n",
    "# DATA_PATH = 'F:/MDC/4.1dataAugNeat/EM/3dem/data/interim/synthetic/'\n",
    "DATA_PATH = './synthetic/'  # in hemera, only use relative path\n",
    "data_ids = next(os.walk(DATA_PATH))[1]\n",
    "raw = []\n",
    "for n, id_ in tqdm(enumerate(data_ids), total=len(data_ids)):  \n",
    "    path = DATA_PATH + id_\n",
    "    datanames = os.listdir(path)\n",
    "    for dataname in datanames:\n",
    "        if os.path.splitext(dataname)[1] == '.mrc': # all .mrc under the path\n",
    "            temp = readMRC(path + \"/\" + dataname).astype(np.uint8)\n",
    "            raw.append(temp)\n",
    "            print(dataname)\n",
    "            \n",
    "focal = raw[0:3]\n",
    "GT = raw[3:len(raw)]\n",
    "del raw, temp, datanames, dataname, path, data_ids, n, id_"
   ]
  },
  {
   "cell_type": "code",
   "execution_count": 7,
   "metadata": {},
   "outputs": [],
   "source": [
    "# sanity check for the data type\n",
    "\n",
    "# test = focal[0]\n",
    "# print(test.dtype, test.shape)\n",
    "# test1 = test[0,...]\n",
    "# print(test1)\n"
   ]
  },
  {
   "cell_type": "code",
   "execution_count": 8,
   "metadata": {},
   "outputs": [
    {
     "name": "stderr",
     "output_type": "stream",
     "text": [
      "/home/li52/.conda/envs/seg/lib/python3.7/site-packages/tqdm/auto.py:22: TqdmWarning: IProgress not found. Please update jupyter and ipywidgets. See https://ipywidgets.readthedocs.io/en/stable/user_install.html\n",
      "  from .autonotebook import tqdm as notebook_tqdm\n"
     ]
    },
    {
     "name": "stdout",
     "output_type": "stream",
     "text": [
      "(512, 256, 256)\n",
      "(512, 256, 256)\n"
     ]
    }
   ],
   "source": [
    "# raw data sorting: padding, reshape\n",
    "\n",
    "import torchio as tio\n",
    "from patchify import patchify, unpatchify\n",
    "\n",
    "# training dataset raw\n",
    "train_raw = np.vstack(([focal[0], focal[1]]));train = train_raw[...,np.newaxis].transpose((3,1,2,0)); label = np.vstack(([GT[0], GT[1]]))#;label = train_label[...,np.newaxis]\n",
    "\n",
    "trainIO = tio.ScalarImage(tensor=train)\n",
    "target_shape = 256,256,512  # padding into the same size\n",
    "crop_pad = tio.CropOrPad(target_shape, padding_mode='mean'); resized = crop_pad(trainIO) # padding with mean\n",
    "train_padd = resized.numpy().transpose((3,1,2,0)); train_padd = train_padd[...,0]\n",
    "print(train_padd.shape);print(label.shape)\n",
    "\n",
    "# testing dataset raw\n",
    "X_test = focal[2]; X_test = X_test[...,np.newaxis].transpose((3,1,2,0))\n",
    "Y_test_label = GT[2]\n",
    "# Y_test_label = (Y_test_label > 0.5).astype(np.float) # 这里不要做二元化，下面再做二元化\n",
    "\n",
    "testIO = tio.ScalarImage(tensor=X_test)\n",
    "target_shape = 256,256,256\n",
    "crop_pad = tio.CropOrPad(target_shape, padding_mode='mean'); resized = crop_pad(testIO)\n",
    "test_padd = resized.numpy().transpose((3,1,2,0)); test_padd = test_padd[...,0];\n",
    "\n",
    "testStackSize = test_padd.shape  # document the original size of image stack"
   ]
  },
  {
   "cell_type": "code",
   "execution_count": 9,
   "metadata": {},
   "outputs": [],
   "source": [
    "# print(X_test.dtype, X_test.shape)"
   ]
  },
  {
   "cell_type": "code",
   "execution_count": 10,
   "metadata": {},
   "outputs": [
    {
     "name": "stdout",
     "output_type": "stream",
     "text": [
      "uint8 float64\n",
      "(4, 4, 4, 64, 64, 64) (4, 4, 4, 64, 64, 64)\n"
     ]
    },
    {
     "name": "stderr",
     "output_type": "stream",
     "text": [
      "/home/li52/.conda/envs/seg/lib/python3.7/site-packages/ipykernel_launcher.py:9: DeprecationWarning: `np.float` is a deprecated alias for the builtin `float`. To silence this warning, use `float` by itself. Doing this will not modify any behavior and is safe. If you specifically wanted the numpy scalar type, use `np.float64` here.\n",
      "Deprecated in NumPy 1.20; for more details and guidance: https://numpy.org/devdocs/release/1.20.0-notes.html#deprecations\n",
      "  if __name__ == '__main__':\n",
      "/home/li52/.conda/envs/seg/lib/python3.7/site-packages/ipykernel_launcher.py:12: DeprecationWarning: `np.float` is a deprecated alias for the builtin `float`. To silence this warning, use `float` by itself. Doing this will not modify any behavior and is safe. If you specifically wanted the numpy scalar type, use `np.float64` here.\n",
      "Deprecated in NumPy 1.20; for more details and guidance: https://numpy.org/devdocs/release/1.20.0-notes.html#deprecations\n",
      "  if sys.path[0] == '':\n"
     ]
    }
   ],
   "source": [
    "# pre-processing the data: scaling, binarize \n",
    "\n",
    "X_train = train_padd; Y_train = label\n",
    "\n",
    "X_test_raw = test_padd; Y_test_raw = Y_test_label\n",
    "\n",
    "# binary the mask here\n",
    "# X_train = (X_train / 255.).astype(np.float)  # 不需要scale，之后的会在进行scale\n",
    "Y_train = ((Y_train / 255) > 0.5).astype(np.float)\n",
    "\n",
    "# X_test = (X_test / 255.).astype(np.float)\n",
    "Y_test = ((Y_test_raw / 255) > 0.5).astype(np.float)\n",
    "\n",
    "print(X_train.dtype, Y_train.dtype)\n",
    "\n",
    "# patchify the training data\n",
    "img_patches = patchify(X_train, (64, 64, 64), step=64)  #Step=64 for 64 patches means no overlap\n",
    "mask_patches = patchify(Y_train, (64, 64, 64), step=64)  \n",
    "unpatchParaTrain = img_patches.shape\n",
    "\n",
    "# patchify the test data\n",
    "test_img_patches = patchify(X_test_raw, (64, 64, 64), step=64) \n",
    "test_mask_patches = patchify(Y_test_raw, (64, 64, 64), step=64) \n",
    "unpatchParaTest = test_img_patches.shape\n",
    "\n",
    "print(test_mask_patches.shape, test_img_patches.shape)\n",
    "# print(X_test_raw.shape)"
   ]
  },
  {
   "cell_type": "code",
   "execution_count": 11,
   "metadata": {},
   "outputs": [
    {
     "name": "stdout",
     "output_type": "stream",
     "text": [
      "uint8 float64\n"
     ]
    }
   ],
   "source": [
    "# sanity check for the data type\n",
    "\n",
    "print(X_test.dtype, Y_test.dtype)"
   ]
  },
  {
   "cell_type": "code",
   "execution_count": 12,
   "metadata": {},
   "outputs": [
    {
     "data": {
      "text/plain": [
       "<matplotlib.image.AxesImage at 0x2aac5a4cd0d0>"
      ]
     },
     "execution_count": 12,
     "metadata": {},
     "output_type": "execute_result"
    },
    {
     "data": {
      "image/png": "[encoded data removed]",
      "text/plain": [
       "<Figure size 432x288 with 1 Axes>"
      ]
     },
     "metadata": {
      "needs_background": "light"
     },
     "output_type": "display_data"
    },
    {
     "data": {
      "image/png": "[encoded data removed]",
      "text/plain": [
       "<Figure size 432x288 with 1 Axes>"
      ]
     },
     "metadata": {
      "needs_background": "light"
     },
     "output_type": "display_data"
    }
   ],
   "source": [
    "# sanity check\n",
    "\n",
    "plt.imshow(img_patches[1,2,3,32,:,:], cmap='gray')  # 注意交换过次序，第一维表示图片\n",
    "plt.figure();plt.imshow(mask_patches[1,2,3,32,:,:], cmap='gray')"
   ]
  },
  {
   "cell_type": "code",
   "execution_count": 13,
   "metadata": {},
   "outputs": [
    {
     "name": "stdout",
     "output_type": "stream",
     "text": [
      "(64, 64, 64, 64)\n",
      "(64, 64, 64, 64)\n"
     ]
    }
   ],
   "source": [
    "# flatten the patches\n",
    "\n",
    "input_img = np.reshape(img_patches, (-1, unpatchParaTrain[3], unpatchParaTrain[4], unpatchParaTrain[5]))\n",
    "input_mask = np.reshape(mask_patches, (-1, unpatchParaTrain[3], unpatchParaTrain[4], unpatchParaTrain[5]))\n",
    "\n",
    "X_test = np.reshape(test_img_patches, (-1, unpatchParaTest[3], unpatchParaTest[4], unpatchParaTest[5]))\n",
    "Y_test = np.reshape(test_mask_patches, (-1, unpatchParaTest[3], unpatchParaTest[4], unpatchParaTest[5]))\n",
    "\n",
    "print(X_test.shape)  # n_patches, x, y, z\n",
    "print(Y_test.shape)"
   ]
  },
  {
   "cell_type": "code",
   "execution_count": 14,
   "metadata": {},
   "outputs": [
    {
     "name": "stdout",
     "output_type": "stream",
     "text": [
      "(64, 64, 64) uint8\n",
      "[[125 147  90 ... 131 117  98]\n",
      " [148 141 129 ... 142 147 109]\n",
      " [158 109 104 ... 147 127 130]\n",
      " ...\n",
      " [148 129  99 ... 131 128 127]\n",
      " [117 150 153 ... 133 118 106]\n",
      " [144 132 106 ... 115 108  92]]\n"
     ]
    },
    {
     "data": {
      "image/png": "[encoded data removed]",
      "text/plain": [
       "<Figure size 432x288 with 1 Axes>"
      ]
     },
     "metadata": {
      "needs_background": "light"
     },
     "output_type": "display_data"
    }
   ],
   "source": [
    "# sanity check the order\n",
    "\n",
    "test1 = X_test[0,...]\n",
    "print(test1.shape, test1.dtype)\n",
    "plt.imshow(test1[0,...], cmap='gray')\n",
    "print(test1[0,...])"
   ]
  },
  {
   "cell_type": "code",
   "execution_count": 15,
   "metadata": {},
   "outputs": [
    {
     "name": "stdout",
     "output_type": "stream",
     "text": [
      "train img: (128, 64, 64, 64, 3) train mask: (128, 64, 64, 64, 1)\n",
      "test img: (64, 64, 64, 64, 3) test mask: (64, 64, 64, 64, 1)\n"
     ]
    }
   ],
   "source": [
    "# preprocessing the img into RGB 3 channel\n",
    "n_classes = 2   # many classes by the final segmentation # 需要二元化mask才能做分类\n",
    "\n",
    "train_img = np.stack((input_img,)*3, axis=-1)\n",
    "train_mask = np.expand_dims(input_mask, axis=4) # expand one version\n",
    "print('train img:', train_img.shape, 'train mask:', train_mask.shape)\n",
    "\n",
    "# pre-processing for the test image\n",
    "\n",
    "X_test = np.stack((X_test,)*3, axis=-1)\n",
    "Y_test = np.expand_dims(Y_test, axis=4) # expand one version\n",
    "print('test img:', X_test.shape, 'test mask:', Y_test.shape)"
   ]
  },
  {
   "cell_type": "code",
   "execution_count": 16,
   "metadata": {},
   "outputs": [
    {
     "name": "stdout",
     "output_type": "stream",
     "text": [
      "[[0. 1. 0. ... 1. 0. 0.]\n",
      " [1. 0. 0. ... 0. 0. 0.]\n",
      " [0. 0. 0. ... 1. 0. 1.]\n",
      " ...\n",
      " [0. 0. 0. ... 0. 0. 0.]\n",
      " [0. 0. 0. ... 0. 0. 0.]\n",
      " [0. 0. 0. ... 0. 0. 0.]]\n"
     ]
    }
   ],
   "source": [
    "# sanity check for the binary of training mask\n",
    "\n",
    "test = train_mask[0,...]\n",
    "print(test[0,:,:,0])\n",
    "# print(X_test[0,0,...])  # still 0-1"
   ]
  },
  {
   "cell_type": "code",
   "execution_count": 17,
   "metadata": {},
   "outputs": [],
   "source": [
    "# pre-processing the data into categories\n",
    "\n",
    "train_mask_cat = to_categorical(train_mask, num_classes=n_classes) # trun into the sorts. transform last dimension into 2\n",
    "\n",
    "X_train, X_val, Y_train, Y_val = train_test_split(train_img, train_mask_cat, test_size = 0.25, random_state = 0) # Slitting into validation sets"
   ]
  },
  {
   "cell_type": "code",
   "execution_count": 18,
   "metadata": {},
   "outputs": [
    {
     "name": "stdout",
     "output_type": "stream",
     "text": [
      "(96, 64, 64, 64, 3)\n",
      "before pre: 0 255\n"
     ]
    }
   ],
   "source": [
    "print(X_train.shape) #[0,0,...]\n",
    "# print(X_train[0,0,...])  # 此时的状态是正确的\n",
    "print('before pre:', np.min(X_train), np.max(X_train))"
   ]
  },
  {
   "cell_type": "code",
   "execution_count": 19,
   "metadata": {},
   "outputs": [],
   "source": [
    "# define the loss\n",
    "\n",
    "# careful with the focal loss\n",
    "def dice_coefficient(y_true, y_pred):\n",
    "    smoothing_factor = 1\n",
    "    flat_y_true = K.flatten(y_true)\n",
    "    flat_y_pred = K.flatten(y_pred)\n",
    "    return (2. * K.sum(flat_y_true * flat_y_pred) + smoothing_factor) / (K.sum(flat_y_true) + K.sum(flat_y_pred) + smoothing_factor)  # 损失函数\n",
    "\n",
    "def dice_coefficient_loss(y_true, y_pred):\n",
    "    return 1 - dice_coefficient(y_true, y_pred)"
   ]
  },
  {
   "cell_type": "code",
   "execution_count": 20,
   "metadata": {},
   "outputs": [],
   "source": [
    "# hyper param of the models\n",
    "\n",
    "encoder_weights = 'imagenet'\n",
    "BACKBONE = 'vgg16'  # other available models: vgg16, efficientnetb7, inceptionv3, resnet50\n",
    "AKTIV = 'softmax'  \n",
    "patch_size = 64\n",
    "n_classes = 2\n",
    "channels=3\n",
    "\n",
    "LR = 0.0001\n",
    "optim = k.optimizers.Adam(LR)\n",
    "\n",
    "# Segmentation models losses can be combined together by '+' and scaled by integer or float factor\n",
    "# set class weights for dice_loss (car: 1.; pedestrian: 2.; background: 0.5;)\n",
    "dice_loss = sm.losses.DiceLoss(class_weights=np.array([0.5, 0.5])) # weights for segmentation classes\n",
    "focal_loss = sm.losses.CategoricalFocalLoss()  # handiling the inbalance dataset\n",
    "total_loss = dice_loss + (1 * focal_loss)\n",
    "\n",
    "# actulally total_loss can be imported directly from library, above example just show you how to manipulate with losses\n",
    "# total_loss = sm.losses.binary_focal_dice_loss # or sm.losses.categorical_focal_dice_loss \n",
    "\n",
    "metrics = [sm.metrics.IOUScore(threshold=0.5), sm.metrics.FScore(threshold=0.5)]  "
   ]
  },
  {
   "cell_type": "code",
   "execution_count": 21,
   "metadata": {},
   "outputs": [
    {
     "name": "stderr",
     "output_type": "stream",
     "text": [
      "2022-04-28 16:46:07.527313: I tensorflow/core/profiler/lib/profiler_session.cc:136] Profiler session initializing.\n",
      "2022-04-28 16:46:07.527345: I tensorflow/core/profiler/lib/profiler_session.cc:155] Profiler session started.\n",
      "2022-04-28 16:46:07.527390: I tensorflow/core/profiler/internal/gpu/cupti_tracer.cc:1365] Profiler found 1 GPUs\n",
      "2022-04-28 16:46:07.528733: I tensorflow/stream_executor/platform/default/dso_loader.cc:49] Successfully opened dynamic library libcupti.so.10.1\n",
      "2022-04-28 16:46:07.629132: E tensorflow/core/profiler/internal/gpu/cupti_tracer.cc:1415] function cupti_interface_->Subscribe( &subscriber_, (CUpti_CallbackFunc)ApiCallback, this)failed with error CUPTI_ERROR_INSUFFICIENT_PRIVILEGES\n",
      "2022-04-28 16:46:07.629397: I tensorflow/core/profiler/lib/profiler_session.cc:172] Profiler session tear down.\n"
     ]
    }
   ],
   "source": [
    "# define the callback \n",
    "\n",
    "# setting checkpoints\n",
    "checkpointer = k.callbacks.ModelCheckpoint('./transfer3D/model/3d_unet_transfer.h5', verbose=1, save_best_only=True)\n",
    "\n",
    "if DOCUMENT:\n",
    "    callbacks = [\n",
    "        #k.callbacks.EarlyStopping(patience=10, monitor='val_loss'),\n",
    "        neptune_cbk, \n",
    "        k.callbacks.TensorBoard(log_dir = './transfer3D/tensorBoard')  # save in new folder in hemera. Also update in neptune\n",
    "    ]\n",
    "else:\n",
    "    callbacks = [\n",
    "        #k.callbacks.EarlyStopping(patience=10, monitor='val_loss'),\n",
    "        k.callbacks.TensorBoard(log_dir = './transfer3D/tensorBoard')  # save in new folder in hemera. Also update in neptune\n",
    "    ]"
   ]
  },
  {
   "cell_type": "code",
   "execution_count": 22,
   "metadata": {},
   "outputs": [
    {
     "name": "stdout",
     "output_type": "stream",
     "text": [
      "(96, 64, 64, 64, 3) (32, 64, 64, 64, 3) (96, 64, 64, 64, 2)\n",
      "(64, 64, 64, 3)\n",
      "-123.68\n",
      "before pre: 0 255\n",
      "after pre: -123.68 151.061\n"
     ]
    }
   ],
   "source": [
    "# preprocess the training data\n",
    "\n",
    "preprocess_input = sm.get_preprocessing(BACKBONE)\n",
    "X_train_prep = preprocess_input(X_train)  # scale the dataset\n",
    "X_val_prep = preprocess_input(X_val)\n",
    "\n",
    "print(X_train_prep.shape, X_val_prep.shape, Y_train.shape)\n",
    "\n",
    "testImg = X_train_prep[0,...]; testMask = Y_train[0,...]\n",
    "print(testImg.shape)\n",
    "print(np.min(testImg[0,...]))  # 这之后数值rescale了\n",
    "print('before pre:', np.min(X_train), np.max(X_train))\n",
    "print('after pre:', np.min(X_train_prep), np.max(X_train_prep))"
   ]
  },
  {
   "cell_type": "code",
   "execution_count": 23,
   "metadata": {},
   "outputs": [
    {
     "name": "stderr",
     "output_type": "stream",
     "text": [
      "2022-04-28 16:46:08.242434: I tensorflow/compiler/jit/xla_cpu_device.cc:41] Not creating XLA devices, tf_xla_enable_xla_devices not set\n",
      "2022-04-28 16:46:08.243082: I tensorflow/core/common_runtime/gpu/gpu_device.cc:1720] Found device 0 with properties: \n",
      "pciBusID: 0000:61:00.0 name: Tesla V100-SXM2-32GB computeCapability: 7.0\n",
      "coreClock: 1.53GHz coreCount: 80 deviceMemorySize: 31.75GiB deviceMemoryBandwidth: 836.37GiB/s\n",
      "2022-04-28 16:46:08.243117: I tensorflow/stream_executor/platform/default/dso_loader.cc:49] Successfully opened dynamic library libcudart.so.10.1\n",
      "2022-04-28 16:46:08.243148: I tensorflow/stream_executor/platform/default/dso_loader.cc:49] Successfully opened dynamic library libcublas.so.10\n",
      "2022-04-28 16:46:08.243159: I tensorflow/stream_executor/platform/default/dso_loader.cc:49] Successfully opened dynamic library libcublasLt.so.10\n",
      "2022-04-28 16:46:08.243171: I tensorflow/stream_executor/platform/default/dso_loader.cc:49] Successfully opened dynamic library libcufft.so.10\n",
      "2022-04-28 16:46:08.243182: I tensorflow/stream_executor/platform/default/dso_loader.cc:49] Successfully opened dynamic library libcurand.so.10\n",
      "2022-04-28 16:46:08.243193: I tensorflow/stream_executor/platform/default/dso_loader.cc:49] Successfully opened dynamic library libcusolver.so.10\n",
      "2022-04-28 16:46:08.243205: I tensorflow/stream_executor/platform/default/dso_loader.cc:49] Successfully opened dynamic library libcusparse.so.10\n",
      "2022-04-28 16:46:08.243216: I tensorflow/stream_executor/platform/default/dso_loader.cc:49] Successfully opened dynamic library libcudnn.so.7\n",
      "2022-04-28 16:46:08.244052: I tensorflow/core/common_runtime/gpu/gpu_device.cc:1862] Adding visible gpu devices: 0\n",
      "2022-04-28 16:46:08.244790: I tensorflow/core/common_runtime/gpu/gpu_device.cc:1720] Found device 0 with properties: \n",
      "pciBusID: 0000:61:00.0 name: Tesla V100-SXM2-32GB computeCapability: 7.0\n",
      "coreClock: 1.53GHz coreCount: 80 deviceMemorySize: 31.75GiB deviceMemoryBandwidth: 836.37GiB/s\n",
      "2022-04-28 16:46:08.244813: I tensorflow/stream_executor/platform/default/dso_loader.cc:49] Successfully opened dynamic library libcudart.so.10.1\n",
      "2022-04-28 16:46:08.244830: I tensorflow/stream_executor/platform/default/dso_loader.cc:49] Successfully opened dynamic library libcublas.so.10\n",
      "2022-04-28 16:46:08.244841: I tensorflow/stream_executor/platform/default/dso_loader.cc:49] Successfully opened dynamic library libcublasLt.so.10\n",
      "2022-04-28 16:46:08.244850: I tensorflow/stream_executor/platform/default/dso_loader.cc:49] Successfully opened dynamic library libcufft.so.10\n",
      "2022-04-28 16:46:08.244860: I tensorflow/stream_executor/platform/default/dso_loader.cc:49] Successfully opened dynamic library libcurand.so.10\n",
      "2022-04-28 16:46:08.244870: I tensorflow/stream_executor/platform/default/dso_loader.cc:49] Successfully opened dynamic library libcusolver.so.10\n",
      "2022-04-28 16:46:08.244879: I tensorflow/stream_executor/platform/default/dso_loader.cc:49] Successfully opened dynamic library libcusparse.so.10\n",
      "2022-04-28 16:46:08.244889: I tensorflow/stream_executor/platform/default/dso_loader.cc:49] Successfully opened dynamic library libcudnn.so.7\n",
      "2022-04-28 16:46:08.245712: I tensorflow/core/common_runtime/gpu/gpu_device.cc:1862] Adding visible gpu devices: 0\n",
      "2022-04-28 16:46:08.245756: I tensorflow/core/common_runtime/gpu/gpu_device.cc:1261] Device interconnect StreamExecutor with strength 1 edge matrix:\n",
      "2022-04-28 16:46:08.245762: I tensorflow/core/common_runtime/gpu/gpu_device.cc:1267]      0 \n",
      "2022-04-28 16:46:08.245768: I tensorflow/core/common_runtime/gpu/gpu_device.cc:1280] 0:   N \n",
      "2022-04-28 16:46:08.246628: I tensorflow/core/common_runtime/gpu/gpu_device.cc:1406] Created TensorFlow device (/job:localhost/replica:0/task:0/device:GPU:0 with 30132 MB memory) -> physical GPU (device: 0, name: Tesla V100-SXM2-32GB, pci bus id: 0000:61:00.0, compute capability: 7.0)\n",
      "2022-04-28 16:46:08.246648: I tensorflow/compiler/jit/xla_gpu_device.cc:99] Not creating XLA devices, tf_xla_enable_xla_devices not set\n"
     ]
    },
    {
     "name": "stdout",
     "output_type": "stream",
     "text": [
      "Model: \"model\"\n",
      "__________________________________________________________________________________________________\n",
      "Layer (type)                    Output Shape         Param #     Connected to                     \n",
      "==================================================================================================\n",
      "input_1 (InputLayer)            [(None, 64, 64, 64,  0                                            \n",
      "__________________________________________________________________________________________________\n",
      "block1_conv1 (Conv3D)           (None, 64, 64, 64, 6 5248        input_1[0][0]                    \n",
      "__________________________________________________________________________________________________\n",
      "block1_conv2 (Conv3D)           (None, 64, 64, 64, 6 110656      block1_conv1[0][0]               \n",
      "__________________________________________________________________________________________________\n",
      "block1_pool (MaxPooling3D)      (None, 32, 32, 32, 6 0           block1_conv2[0][0]               \n",
      "__________________________________________________________________________________________________\n",
      "block2_conv1 (Conv3D)           (None, 32, 32, 32, 1 221312      block1_pool[0][0]                \n",
      "__________________________________________________________________________________________________\n",
      "block2_conv2 (Conv3D)           (None, 32, 32, 32, 1 442496      block2_conv1[0][0]               \n",
      "__________________________________________________________________________________________________\n",
      "block2_pool (MaxPooling3D)      (None, 16, 16, 16, 1 0           block2_conv2[0][0]               \n",
      "__________________________________________________________________________________________________\n",
      "block3_conv1 (Conv3D)           (None, 16, 16, 16, 2 884992      block2_pool[0][0]                \n",
      "__________________________________________________________________________________________________\n",
      "block3_conv2 (Conv3D)           (None, 16, 16, 16, 2 1769728     block3_conv1[0][0]               \n",
      "__________________________________________________________________________________________________\n",
      "block3_conv3 (Conv3D)           (None, 16, 16, 16, 2 1769728     block3_conv2[0][0]               \n",
      "__________________________________________________________________________________________________\n",
      "block3_pool (MaxPooling3D)      (None, 8, 8, 8, 256) 0           block3_conv3[0][0]               \n",
      "__________________________________________________________________________________________________\n",
      "block4_conv1 (Conv3D)           (None, 8, 8, 8, 512) 3539456     block3_pool[0][0]                \n",
      "__________________________________________________________________________________________________\n",
      "block4_conv2 (Conv3D)           (None, 8, 8, 8, 512) 7078400     block4_conv1[0][0]               \n",
      "__________________________________________________________________________________________________\n",
      "block4_conv3 (Conv3D)           (None, 8, 8, 8, 512) 7078400     block4_conv2[0][0]               \n",
      "__________________________________________________________________________________________________\n",
      "block4_pool (MaxPooling3D)      (None, 4, 4, 4, 512) 0           block4_conv3[0][0]               \n",
      "__________________________________________________________________________________________________\n",
      "block5_conv1 (Conv3D)           (None, 4, 4, 4, 512) 7078400     block4_pool[0][0]                \n",
      "__________________________________________________________________________________________________\n",
      "block5_conv2 (Conv3D)           (None, 4, 4, 4, 512) 7078400     block5_conv1[0][0]               \n",
      "__________________________________________________________________________________________________\n",
      "block5_conv3 (Conv3D)           (None, 4, 4, 4, 512) 7078400     block5_conv2[0][0]               \n",
      "__________________________________________________________________________________________________\n",
      "block5_pool (MaxPooling3D)      (None, 2, 2, 2, 512) 0           block5_conv3[0][0]               \n",
      "__________________________________________________________________________________________________\n",
      "center_block1_conv (Conv3D)     (None, 2, 2, 2, 512) 7077888     block5_pool[0][0]                \n",
      "__________________________________________________________________________________________________\n",
      "center_block1_bn (BatchNormaliz (None, 2, 2, 2, 512) 2048        center_block1_conv[0][0]         \n",
      "__________________________________________________________________________________________________\n",
      "center_block1_relu (Activation) (None, 2, 2, 2, 512) 0           center_block1_bn[0][0]           \n",
      "__________________________________________________________________________________________________\n",
      "center_block2_conv (Conv3D)     (None, 2, 2, 2, 512) 7077888     center_block1_relu[0][0]         \n",
      "__________________________________________________________________________________________________\n",
      "center_block2_bn (BatchNormaliz (None, 2, 2, 2, 512) 2048        center_block2_conv[0][0]         \n",
      "__________________________________________________________________________________________________\n",
      "center_block2_relu (Activation) (None, 2, 2, 2, 512) 0           center_block2_bn[0][0]           \n",
      "__________________________________________________________________________________________________\n",
      "decoder_stage0_upsampling (UpSa (None, 4, 4, 4, 512) 0           center_block2_relu[0][0]         \n",
      "__________________________________________________________________________________________________\n",
      "decoder_stage0_concat (Concaten (None, 4, 4, 4, 1024 0           decoder_stage0_upsampling[0][0]  \n",
      "                                                                 block5_conv3[0][0]               \n",
      "__________________________________________________________________________________________________\n",
      "decoder_stage0a_conv (Conv3D)   (None, 4, 4, 4, 256) 7077888     decoder_stage0_concat[0][0]      \n",
      "__________________________________________________________________________________________________\n",
      "decoder_stage0a_bn (BatchNormal (None, 4, 4, 4, 256) 1024        decoder_stage0a_conv[0][0]       \n",
      "__________________________________________________________________________________________________\n",
      "decoder_stage0a_relu (Activatio (None, 4, 4, 4, 256) 0           decoder_stage0a_bn[0][0]         \n",
      "__________________________________________________________________________________________________\n",
      "decoder_stage0b_conv (Conv3D)   (None, 4, 4, 4, 256) 1769472     decoder_stage0a_relu[0][0]       \n",
      "__________________________________________________________________________________________________\n",
      "decoder_stage0b_bn (BatchNormal (None, 4, 4, 4, 256) 1024        decoder_stage0b_conv[0][0]       \n",
      "__________________________________________________________________________________________________\n",
      "decoder_stage0b_relu (Activatio (None, 4, 4, 4, 256) 0           decoder_stage0b_bn[0][0]         \n",
      "__________________________________________________________________________________________________\n",
      "decoder_stage1_upsampling (UpSa (None, 8, 8, 8, 256) 0           decoder_stage0b_relu[0][0]       \n",
      "__________________________________________________________________________________________________\n",
      "decoder_stage1_concat (Concaten (None, 8, 8, 8, 768) 0           decoder_stage1_upsampling[0][0]  \n",
      "                                                                 block4_conv3[0][0]               \n",
      "__________________________________________________________________________________________________\n",
      "decoder_stage1a_conv (Conv3D)   (None, 8, 8, 8, 128) 2654208     decoder_stage1_concat[0][0]      \n",
      "__________________________________________________________________________________________________\n",
      "decoder_stage1a_bn (BatchNormal (None, 8, 8, 8, 128) 512         decoder_stage1a_conv[0][0]       \n",
      "__________________________________________________________________________________________________\n",
      "decoder_stage1a_relu (Activatio (None, 8, 8, 8, 128) 0           decoder_stage1a_bn[0][0]         \n",
      "__________________________________________________________________________________________________\n",
      "decoder_stage1b_conv (Conv3D)   (None, 8, 8, 8, 128) 442368      decoder_stage1a_relu[0][0]       \n",
      "__________________________________________________________________________________________________\n",
      "decoder_stage1b_bn (BatchNormal (None, 8, 8, 8, 128) 512         decoder_stage1b_conv[0][0]       \n",
      "__________________________________________________________________________________________________\n",
      "decoder_stage1b_relu (Activatio (None, 8, 8, 8, 128) 0           decoder_stage1b_bn[0][0]         \n",
      "__________________________________________________________________________________________________\n",
      "decoder_stage2_upsampling (UpSa (None, 16, 16, 16, 1 0           decoder_stage1b_relu[0][0]       \n",
      "__________________________________________________________________________________________________\n",
      "decoder_stage2_concat (Concaten (None, 16, 16, 16, 3 0           decoder_stage2_upsampling[0][0]  \n",
      "                                                                 block3_conv3[0][0]               \n",
      "__________________________________________________________________________________________________\n",
      "decoder_stage2a_conv (Conv3D)   (None, 16, 16, 16, 6 663552      decoder_stage2_concat[0][0]      \n",
      "__________________________________________________________________________________________________\n",
      "decoder_stage2a_bn (BatchNormal (None, 16, 16, 16, 6 256         decoder_stage2a_conv[0][0]       \n",
      "__________________________________________________________________________________________________\n",
      "decoder_stage2a_relu (Activatio (None, 16, 16, 16, 6 0           decoder_stage2a_bn[0][0]         \n",
      "__________________________________________________________________________________________________\n",
      "decoder_stage2b_conv (Conv3D)   (None, 16, 16, 16, 6 110592      decoder_stage2a_relu[0][0]       \n",
      "__________________________________________________________________________________________________\n",
      "decoder_stage2b_bn (BatchNormal (None, 16, 16, 16, 6 256         decoder_stage2b_conv[0][0]       \n",
      "__________________________________________________________________________________________________\n",
      "decoder_stage2b_relu (Activatio (None, 16, 16, 16, 6 0           decoder_stage2b_bn[0][0]         \n",
      "__________________________________________________________________________________________________\n",
      "decoder_stage3_upsampling (UpSa (None, 32, 32, 32, 6 0           decoder_stage2b_relu[0][0]       \n",
      "__________________________________________________________________________________________________\n",
      "decoder_stage3_concat (Concaten (None, 32, 32, 32, 1 0           decoder_stage3_upsampling[0][0]  \n",
      "                                                                 block2_conv2[0][0]               \n",
      "__________________________________________________________________________________________________\n",
      "decoder_stage3a_conv (Conv3D)   (None, 32, 32, 32, 3 165888      decoder_stage3_concat[0][0]      \n",
      "__________________________________________________________________________________________________\n",
      "decoder_stage3a_bn (BatchNormal (None, 32, 32, 32, 3 128         decoder_stage3a_conv[0][0]       \n",
      "__________________________________________________________________________________________________\n",
      "decoder_stage3a_relu (Activatio (None, 32, 32, 32, 3 0           decoder_stage3a_bn[0][0]         \n",
      "__________________________________________________________________________________________________\n",
      "decoder_stage3b_conv (Conv3D)   (None, 32, 32, 32, 3 27648       decoder_stage3a_relu[0][0]       \n",
      "__________________________________________________________________________________________________\n",
      "decoder_stage3b_bn (BatchNormal (None, 32, 32, 32, 3 128         decoder_stage3b_conv[0][0]       \n",
      "__________________________________________________________________________________________________\n",
      "decoder_stage3b_relu (Activatio (None, 32, 32, 32, 3 0           decoder_stage3b_bn[0][0]         \n",
      "__________________________________________________________________________________________________\n",
      "decoder_stage4_upsampling (UpSa (None, 64, 64, 64, 3 0           decoder_stage3b_relu[0][0]       \n",
      "__________________________________________________________________________________________________\n",
      "decoder_stage4a_conv (Conv3D)   (None, 64, 64, 64, 1 13824       decoder_stage4_upsampling[0][0]  \n",
      "__________________________________________________________________________________________________\n",
      "decoder_stage4a_bn (BatchNormal (None, 64, 64, 64, 1 64          decoder_stage4a_conv[0][0]       \n",
      "__________________________________________________________________________________________________\n",
      "decoder_stage4a_relu (Activatio (None, 64, 64, 64, 1 0           decoder_stage4a_bn[0][0]         \n",
      "__________________________________________________________________________________________________\n",
      "decoder_stage4b_conv (Conv3D)   (None, 64, 64, 64, 1 6912        decoder_stage4a_relu[0][0]       \n",
      "__________________________________________________________________________________________________\n",
      "decoder_stage4b_bn (BatchNormal (None, 64, 64, 64, 1 64          decoder_stage4b_conv[0][0]       \n",
      "__________________________________________________________________________________________________\n",
      "decoder_stage4b_relu (Activatio (None, 64, 64, 64, 1 0           decoder_stage4b_bn[0][0]         \n",
      "__________________________________________________________________________________________________\n",
      "final_conv (Conv3D)             (None, 64, 64, 64, 2 866         decoder_stage4b_relu[0][0]       \n",
      "__________________________________________________________________________________________________\n",
      "softmax (Activation)            (None, 64, 64, 64, 2 0           final_conv[0][0]                 \n",
      "==================================================================================================\n",
      "Total params: 71,232,674\n",
      "Trainable params: 71,228,642\n",
      "Non-trainable params: 4,032\n",
      "__________________________________________________________________________________________________\n",
      "None\n"
     ]
    }
   ],
   "source": [
    "# define the model\n",
    "\n",
    "model = sm.Unet(BACKBONE, classes=n_classes, \n",
    "                input_shape=(patch_size, patch_size, patch_size, channels), # 64，64，64，3\n",
    "                encoder_weights=encoder_weights,  # encoder initialized with imagenet\n",
    "                activation=AKTIV)\n",
    "\n",
    "model.compile(optimizer = optim, loss=total_loss, metrics=metrics)\n",
    "print(model.summary())"
   ]
  },
  {
   "cell_type": "code",
   "execution_count": null,
   "metadata": {},
   "outputs": [
    {
     "name": "stderr",
     "output_type": "stream",
     "text": [
      "2022-04-28 16:46:09.784106: I tensorflow/compiler/mlir/mlir_graph_optimization_pass.cc:116] None of the MLIR optimization passes are enabled (registered 2)\n",
      "2022-04-28 16:46:09.784749: I tensorflow/core/platform/profile_utils/cpu_utils.cc:112] CPU Frequency: 3000000000 Hz\n"
     ]
    },
    {
     "name": "stdout",
     "output_type": "stream",
     "text": [
      "Epoch 1/100\n"
     ]
    },
    {
     "name": "stderr",
     "output_type": "stream",
     "text": [
      "2022-04-28 16:46:13.681641: I tensorflow/stream_executor/platform/default/dso_loader.cc:49] Successfully opened dynamic library libcudnn.so.7\n",
      "2022-04-28 16:46:14.766796: W tensorflow/stream_executor/gpu/asm_compiler.cc:98] *** WARNING *** You are using ptxas 9.0.176, which is older than 9.2.88. ptxas 9.x before 9.2.88 is known to miscompile XLA code, leading to incorrect results or invalid-address errors.\n",
      "\n",
      "You do not need to update to CUDA 9.2.88; cherry-picking the ptxas binary is sufficient.\n",
      "2022-04-28 16:46:14.863582: I tensorflow/stream_executor/platform/default/dso_loader.cc:49] Successfully opened dynamic library libcublas.so.10\n"
     ]
    },
    {
     "name": "stdout",
     "output_type": "stream",
     "text": [
      " 1/12 [=>............................] - ETA: 1:28 - loss: 0.8612 - iou_score: 0.2097 - f1-score: 0.3411"
     ]
    },
    {
     "name": "stderr",
     "output_type": "stream",
     "text": [
      "2022-04-28 16:46:17.942648: I tensorflow/core/profiler/lib/profiler_session.cc:136] Profiler session initializing.\n",
      "2022-04-28 16:46:17.942695: I tensorflow/core/profiler/lib/profiler_session.cc:155] Profiler session started.\n",
      "2022-04-28 16:46:17.943959: E tensorflow/core/profiler/internal/gpu/cupti_tracer.cc:1415] function cupti_interface_->Subscribe( &subscriber_, (CUpti_CallbackFunc)ApiCallback, this)failed with error CUPTI_ERROR_INSUFFICIENT_PRIVILEGES\n"
     ]
    },
    {
     "name": "stdout",
     "output_type": "stream",
     "text": [
      " 2/12 [====>.........................] - ETA: 7s - loss: 0.8594 - iou_score: 0.2115 - f1-score: 0.3430  "
     ]
    },
    {
     "name": "stderr",
     "output_type": "stream",
     "text": [
      "2022-04-28 16:46:18.572772: I tensorflow/core/profiler/lib/profiler_session.cc:71] Profiler session collecting data.\n",
      "2022-04-28 16:46:18.588169: I tensorflow/core/profiler/internal/gpu/cupti_collector.cc:228]  GpuTracer has collected 0 callback api events and 0 activity events. \n",
      "2022-04-28 16:46:18.594582: I tensorflow/core/profiler/lib/profiler_session.cc:172] Profiler session tear down.\n",
      "2022-04-28 16:46:18.598095: I tensorflow/core/profiler/rpc/client/save_profile.cc:137] Creating directory: ./transfer3D/tensorBoard/train/plugins/profile/2022_04_28_16_46_18\n",
      "2022-04-28 16:46:18.599425: I tensorflow/core/profiler/rpc/client/save_profile.cc:143] Dumped gzipped tool data for trace.json.gz to ./transfer3D/tensorBoard/train/plugins/profile/2022_04_28_16_46_18/gv017.cluster.trace.json.gz\n",
      "2022-04-28 16:46:18.635065: I tensorflow/core/profiler/rpc/client/save_profile.cc:137] Creating directory: ./transfer3D/tensorBoard/train/plugins/profile/2022_04_28_16_46_18\n",
      "2022-04-28 16:46:18.643722: I tensorflow/core/profiler/rpc/client/save_profile.cc:143] Dumped gzipped tool data for memory_profile.json.gz to ./transfer3D/tensorBoard/train/plugins/profile/2022_04_28_16_46_18/gv017.cluster.memory_profile.json.gz\n",
      "2022-04-28 16:46:18.648734: I tensorflow/core/profiler/rpc/client/capture_profile.cc:251] Creating directory: ./transfer3D/tensorBoard/train/plugins/profile/2022_04_28_16_46_18Dumped tool data for xplane.pb to ./transfer3D/tensorBoard/train/plugins/profile/2022_04_28_16_46_18/gv017.cluster.xplane.pb\n",
      "Dumped tool data for overview_page.pb to ./transfer3D/tensorBoard/train/plugins/profile/2022_04_28_16_46_18/gv017.cluster.overview_page.pb\n",
      "Dumped tool data for input_pipeline.pb to ./transfer3D/tensorBoard/train/plugins/profile/2022_04_28_16_46_18/gv017.cluster.input_pipeline.pb\n",
      "Dumped tool data for tensorflow_stats.pb to ./transfer3D/tensorBoard/train/plugins/profile/2022_04_28_16_46_18/gv017.cluster.tensorflow_stats.pb\n",
      "Dumped tool data for kernel_stats.pb to ./transfer3D/tensorBoard/train/plugins/profile/2022_04_28_16_46_18/gv017.cluster.kernel_stats.pb\n",
      "\n"
     ]
    },
    {
     "name": "stdout",
     "output_type": "stream",
     "text": [
      " 6/12 [==============>...............] - ETA: 3s - loss: 0.8518 - iou_score: 0.2220 - f1-score: 0.3544WARNING:tensorflow:Callback method `on_train_batch_end` is slow compared to the batch time (batch time: 0.2461s vs `on_train_batch_end` time: 0.3498s). Check your callbacks.\n",
      "12/12 [==============================] - 17s 818ms/step - loss: 0.8416 - iou_score: 0.2502 - f1-score: 0.3813 - val_loss: 0.8548 - val_iou_score: 0.4292 - val_f1-score: 0.4914\n",
      "Epoch 2/100\n",
      "12/12 [==============================] - 8s 703ms/step - loss: 0.7937 - iou_score: 0.4126 - f1-score: 0.4971 - val_loss: 0.8684 - val_iou_score: 0.4308 - val_f1-score: 0.4819\n",
      "Epoch 3/100\n",
      "12/12 [==============================] - 8s 702ms/step - loss: 0.7781 - iou_score: 0.4306 - f1-score: 0.4792 - val_loss: 0.8546 - val_iou_score: 0.4300 - val_f1-score: 0.4863\n",
      "Epoch 4/100\n",
      "12/12 [==============================] - 8s 706ms/step - loss: 0.7741 - iou_score: 0.4315 - f1-score: 0.4747 - val_loss: 0.8490 - val_iou_score: 0.3977 - val_f1-score: 0.4953\n",
      "Epoch 5/100\n",
      "12/12 [==============================] - 8s 704ms/step - loss: 0.7728 - iou_score: 0.4302 - f1-score: 0.4658 - val_loss: 0.8226 - val_iou_score: 0.4308 - val_f1-score: 0.4806\n",
      "Epoch 6/100\n",
      "12/12 [==============================] - 8s 705ms/step - loss: 0.7722 - iou_score: 0.4296 - f1-score: 0.4641 - val_loss: 0.8028 - val_iou_score: 0.4312 - val_f1-score: 0.4753\n",
      "Epoch 7/100\n",
      "12/12 [==============================] - 8s 705ms/step - loss: 0.7704 - iou_score: 0.4315 - f1-score: 0.4692 - val_loss: 0.7918 - val_iou_score: 0.4313 - val_f1-score: 0.4726\n",
      "Epoch 8/100\n",
      "12/12 [==============================] - 8s 704ms/step - loss: 0.7708 - iou_score: 0.4307 - f1-score: 0.4694 - val_loss: 0.7862 - val_iou_score: 0.4313 - val_f1-score: 0.4720\n",
      "Epoch 9/100\n",
      "12/12 [==============================] - 8s 706ms/step - loss: 0.7713 - iou_score: 0.4320 - f1-score: 0.4690 - val_loss: 0.7822 - val_iou_score: 0.4312 - val_f1-score: 0.4704\n",
      "Epoch 10/100\n",
      "12/12 [==============================] - 8s 706ms/step - loss: 0.7704 - iou_score: 0.4336 - f1-score: 0.4729 - val_loss: 0.7789 - val_iou_score: 0.4323 - val_f1-score: 0.4735\n",
      "Epoch 11/100\n",
      "12/12 [==============================] - 8s 708ms/step - loss: 0.7700 - iou_score: 0.4366 - f1-score: 0.4813 - val_loss: 0.7782 - val_iou_score: 0.4310 - val_f1-score: 0.4679\n",
      "Epoch 12/100\n",
      "12/12 [==============================] - 8s 709ms/step - loss: 0.7709 - iou_score: 0.4372 - f1-score: 0.4814 - val_loss: 0.7754 - val_iou_score: 0.4357 - val_f1-score: 0.4870\n",
      "Epoch 13/100\n",
      "12/12 [==============================] - 8s 706ms/step - loss: 0.7700 - iou_score: 0.4365 - f1-score: 0.4819 - val_loss: 0.7731 - val_iou_score: 0.4353 - val_f1-score: 0.4813\n",
      "Epoch 14/100\n",
      "12/12 [==============================] - 8s 708ms/step - loss: 0.7699 - iou_score: 0.4365 - f1-score: 0.4803 - val_loss: 0.7731 - val_iou_score: 0.4350 - val_f1-score: 0.4799\n",
      "Epoch 15/100\n",
      "12/12 [==============================] - 8s 706ms/step - loss: 0.7698 - iou_score: 0.4377 - f1-score: 0.4820 - val_loss: 0.7725 - val_iou_score: 0.4371 - val_f1-score: 0.4857\n",
      "Epoch 16/100\n",
      "12/12 [==============================] - 8s 708ms/step - loss: 0.7700 - iou_score: 0.4335 - f1-score: 0.4734 - val_loss: 0.7749 - val_iou_score: 0.4377 - val_f1-score: 0.4948\n",
      "Epoch 17/100\n",
      "12/12 [==============================] - 8s 707ms/step - loss: 0.7694 - iou_score: 0.4376 - f1-score: 0.4818 - val_loss: 0.7714 - val_iou_score: 0.4351 - val_f1-score: 0.4768\n",
      "Epoch 18/100\n",
      "12/12 [==============================] - 8s 708ms/step - loss: 0.7697 - iou_score: 0.4346 - f1-score: 0.4760 - val_loss: 0.7721 - val_iou_score: 0.4383 - val_f1-score: 0.4869\n",
      "Epoch 19/100\n",
      "12/12 [==============================] - 8s 707ms/step - loss: 0.7693 - iou_score: 0.4383 - f1-score: 0.4847 - val_loss: 0.7720 - val_iou_score: 0.4384 - val_f1-score: 0.4885\n",
      "Epoch 20/100\n",
      "12/12 [==============================] - 8s 709ms/step - loss: 0.7695 - iou_score: 0.4376 - f1-score: 0.4820 - val_loss: 0.7708 - val_iou_score: 0.4373 - val_f1-score: 0.4829\n",
      "Epoch 21/100\n",
      "12/12 [==============================] - 8s 709ms/step - loss: 0.7687 - iou_score: 0.4409 - f1-score: 0.4873 - val_loss: 0.7723 - val_iou_score: 0.4387 - val_f1-score: 0.4890\n",
      "Epoch 22/100\n",
      "12/12 [==============================] - 8s 708ms/step - loss: 0.7691 - iou_score: 0.4381 - f1-score: 0.4841 - val_loss: 0.7801 - val_iou_score: 0.4266 - val_f1-score: 0.5033\n",
      "Epoch 23/100\n",
      "12/12 [==============================] - 8s 711ms/step - loss: 0.7693 - iou_score: 0.4382 - f1-score: 0.4826 - val_loss: 0.7709 - val_iou_score: 0.4380 - val_f1-score: 0.4850\n",
      "Epoch 24/100\n",
      "12/12 [==============================] - 8s 708ms/step - loss: 0.7694 - iou_score: 0.4360 - f1-score: 0.4778 - val_loss: 0.8003 - val_iou_score: 0.3719 - val_f1-score: 0.4800\n",
      "Epoch 25/100\n",
      "12/12 [==============================] - 8s 710ms/step - loss: 0.7692 - iou_score: 0.4377 - f1-score: 0.4815 - val_loss: 0.7730 - val_iou_score: 0.4384 - val_f1-score: 0.4915\n",
      "Epoch 26/100\n",
      "12/12 [==============================] - 8s 710ms/step - loss: 0.7691 - iou_score: 0.4380 - f1-score: 0.4830 - val_loss: 0.7756 - val_iou_score: 0.4366 - val_f1-score: 0.4974\n",
      "Epoch 27/100\n",
      "12/12 [==============================] - 8s 710ms/step - loss: 0.7687 - iou_score: 0.4397 - f1-score: 0.4863 - val_loss: 0.7735 - val_iou_score: 0.4383 - val_f1-score: 0.4934\n",
      "Epoch 28/100\n",
      "12/12 [==============================] - 8s 709ms/step - loss: 0.7680 - iou_score: 0.4438 - f1-score: 0.4936 - val_loss: 0.7749 - val_iou_score: 0.4374 - val_f1-score: 0.4948\n",
      "Epoch 29/100\n",
      "12/12 [==============================] - 8s 707ms/step - loss: 0.7690 - iou_score: 0.4376 - f1-score: 0.4827 - val_loss: 0.7726 - val_iou_score: 0.4385 - val_f1-score: 0.4898\n",
      "Epoch 30/100\n",
      "12/12 [==============================] - 8s 709ms/step - loss: 0.7691 - iou_score: 0.4379 - f1-score: 0.4824 - val_loss: 0.7699 - val_iou_score: 0.4366 - val_f1-score: 0.4801\n",
      "Epoch 31/100\n",
      "12/12 [==============================] - 8s 708ms/step - loss: 0.7686 - iou_score: 0.4413 - f1-score: 0.4913 - val_loss: 0.7747 - val_iou_score: 0.4359 - val_f1-score: 0.4967\n",
      "Epoch 32/100\n",
      "12/12 [==============================] - 8s 708ms/step - loss: 0.7693 - iou_score: 0.4354 - f1-score: 0.4752 - val_loss: 0.7743 - val_iou_score: 0.4374 - val_f1-score: 0.4957\n",
      "Epoch 33/100\n",
      "12/12 [==============================] - 8s 709ms/step - loss: 0.7697 - iou_score: 0.4351 - f1-score: 0.4781 - val_loss: 0.7783 - val_iou_score: 0.4216 - val_f1-score: 0.5020\n",
      "Epoch 34/100\n",
      "12/12 [==============================] - 8s 709ms/step - loss: 0.7686 - iou_score: 0.4437 - f1-score: 0.4958 - val_loss: 0.7699 - val_iou_score: 0.4343 - val_f1-score: 0.4738\n",
      "Epoch 35/100\n",
      "12/12 [==============================] - 8s 708ms/step - loss: 0.7692 - iou_score: 0.4374 - f1-score: 0.4801 - val_loss: 0.7724 - val_iou_score: 0.4391 - val_f1-score: 0.4915\n",
      "Epoch 36/100\n",
      "12/12 [==============================] - 8s 708ms/step - loss: 0.7701 - iou_score: 0.4355 - f1-score: 0.4778 - val_loss: 0.7707 - val_iou_score: 0.4372 - val_f1-score: 0.4818\n",
      "Epoch 37/100\n",
      "12/12 [==============================] - 8s 709ms/step - loss: 0.7685 - iou_score: 0.4402 - f1-score: 0.4883 - val_loss: 0.7698 - val_iou_score: 0.4340 - val_f1-score: 0.4730\n",
      "Epoch 38/100\n",
      "12/12 [==============================] - 8s 709ms/step - loss: 0.7686 - iou_score: 0.4387 - f1-score: 0.4837 - val_loss: 0.7706 - val_iou_score: 0.4383 - val_f1-score: 0.4854\n",
      "Epoch 39/100\n",
      "12/12 [==============================] - 8s 710ms/step - loss: 0.7677 - iou_score: 0.4433 - f1-score: 0.4936 - val_loss: 0.7703 - val_iou_score: 0.4362 - val_f1-score: 0.4787\n",
      "Epoch 40/100\n",
      "12/12 [==============================] - 8s 707ms/step - loss: 0.7689 - iou_score: 0.4361 - f1-score: 0.4781 - val_loss: 0.7697 - val_iou_score: 0.4370 - val_f1-score: 0.4809\n",
      "Epoch 41/100\n",
      "12/12 [==============================] - 8s 707ms/step - loss: 0.7679 - iou_score: 0.4432 - f1-score: 0.4932 - val_loss: 0.7701 - val_iou_score: 0.4342 - val_f1-score: 0.4743\n",
      "Epoch 42/100\n",
      "12/12 [==============================] - 8s 706ms/step - loss: 0.7684 - iou_score: 0.4403 - f1-score: 0.4867 - val_loss: 0.7860 - val_iou_score: 0.3975 - val_f1-score: 0.4937\n",
      "Epoch 43/100\n",
      "12/12 [==============================] - 8s 707ms/step - loss: 0.7685 - iou_score: 0.4397 - f1-score: 0.4858 - val_loss: 0.7701 - val_iou_score: 0.4348 - val_f1-score: 0.4757\n",
      "Epoch 44/100\n",
      "12/12 [==============================] - 8s 706ms/step - loss: 0.7686 - iou_score: 0.4405 - f1-score: 0.4877 - val_loss: 0.7698 - val_iou_score: 0.4340 - val_f1-score: 0.4726\n",
      "Epoch 45/100\n",
      "12/12 [==============================] - 8s 707ms/step - loss: 0.7675 - iou_score: 0.4439 - f1-score: 0.4939 - val_loss: 0.7700 - val_iou_score: 0.4320 - val_f1-score: 0.4679\n",
      "Epoch 46/100\n",
      "12/12 [==============================] - 8s 707ms/step - loss: 0.7681 - iou_score: 0.4394 - f1-score: 0.4855 - val_loss: 0.7871 - val_iou_score: 0.3983 - val_f1-score: 0.4941\n",
      "Epoch 47/100\n",
      "12/12 [==============================] - 8s 707ms/step - loss: 0.7684 - iou_score: 0.4401 - f1-score: 0.4851 - val_loss: 0.7710 - val_iou_score: 0.4317 - val_f1-score: 0.4669\n",
      "Epoch 48/100\n",
      "12/12 [==============================] - 8s 704ms/step - loss: 0.7676 - iou_score: 0.4434 - f1-score: 0.4923 - val_loss: 0.7700 - val_iou_score: 0.4352 - val_f1-score: 0.4761\n",
      "Epoch 49/100\n",
      "12/12 [==============================] - 8s 707ms/step - loss: 0.7685 - iou_score: 0.4380 - f1-score: 0.4812 - val_loss: 0.7708 - val_iou_score: 0.4382 - val_f1-score: 0.4888\n",
      "Epoch 50/100\n",
      "12/12 [==============================] - 8s 707ms/step - loss: 0.7683 - iou_score: 0.4424 - f1-score: 0.4923 - val_loss: 0.7703 - val_iou_score: 0.4320 - val_f1-score: 0.4678\n",
      "Epoch 51/100\n",
      "12/12 [==============================] - 8s 710ms/step - loss: 0.7679 - iou_score: 0.4413 - f1-score: 0.4877 - val_loss: 0.7701 - val_iou_score: 0.4325 - val_f1-score: 0.4688\n",
      "Epoch 52/100\n",
      "12/12 [==============================] - 8s 709ms/step - loss: 0.7686 - iou_score: 0.4410 - f1-score: 0.4862 - val_loss: 0.7704 - val_iou_score: 0.4316 - val_f1-score: 0.4667\n",
      "Epoch 53/100\n",
      "12/12 [==============================] - 8s 706ms/step - loss: 0.7685 - iou_score: 0.4383 - f1-score: 0.4809 - val_loss: 0.7744 - val_iou_score: 0.4323 - val_f1-score: 0.4985\n",
      "Epoch 54/100\n",
      "12/12 [==============================] - 8s 703ms/step - loss: 0.7685 - iou_score: 0.4380 - f1-score: 0.4816 - val_loss: 0.7699 - val_iou_score: 0.4382 - val_f1-score: 0.4855\n",
      "Epoch 55/100\n",
      "12/12 [==============================] - 8s 709ms/step - loss: 0.7680 - iou_score: 0.4423 - f1-score: 0.4899 - val_loss: 0.7718 - val_iou_score: 0.4371 - val_f1-score: 0.4897\n",
      "Epoch 56/100\n",
      "12/12 [==============================] - 8s 707ms/step - loss: 0.7679 - iou_score: 0.4413 - f1-score: 0.4869 - val_loss: 0.7699 - val_iou_score: 0.4344 - val_f1-score: 0.4735\n",
      "Epoch 57/100\n",
      "12/12 [==============================] - 8s 709ms/step - loss: 0.7684 - iou_score: 0.4411 - f1-score: 0.4881 - val_loss: 0.7836 - val_iou_score: 0.4078 - val_f1-score: 0.4968\n",
      "Epoch 58/100\n",
      "12/12 [==============================] - 8s 707ms/step - loss: 0.7678 - iou_score: 0.4409 - f1-score: 0.4875 - val_loss: 0.7703 - val_iou_score: 0.4322 - val_f1-score: 0.4684\n",
      "Epoch 59/100\n",
      "12/12 [==============================] - 8s 710ms/step - loss: 0.7670 - iou_score: 0.4445 - f1-score: 0.4952 - val_loss: 0.7703 - val_iou_score: 0.4330 - val_f1-score: 0.4700\n",
      "Epoch 60/100\n",
      "12/12 [==============================] - 8s 707ms/step - loss: 0.7674 - iou_score: 0.4432 - f1-score: 0.4901 - val_loss: 0.7703 - val_iou_score: 0.4377 - val_f1-score: 0.4838\n",
      "Epoch 61/100\n",
      "12/12 [==============================] - 8s 709ms/step - loss: 0.7675 - iou_score: 0.4426 - f1-score: 0.4899 - val_loss: 0.7702 - val_iou_score: 0.4309 - val_f1-score: 0.4650\n",
      "Epoch 62/100\n",
      "12/12 [==============================] - 8s 708ms/step - loss: 0.7677 - iou_score: 0.4413 - f1-score: 0.4867 - val_loss: 0.7723 - val_iou_score: 0.4303 - val_f1-score: 0.4632\n",
      "Epoch 63/100\n",
      "12/12 [==============================] - 8s 707ms/step - loss: 0.7676 - iou_score: 0.4411 - f1-score: 0.4868 - val_loss: 0.7926 - val_iou_score: 0.4001 - val_f1-score: 0.4954\n",
      "Epoch 64/100\n",
      "12/12 [==============================] - 8s 709ms/step - loss: 0.7673 - iou_score: 0.4447 - f1-score: 0.4942 - val_loss: 0.7722 - val_iou_score: 0.4306 - val_f1-score: 0.4638\n",
      "Epoch 65/100\n",
      "12/12 [==============================] - 8s 707ms/step - loss: 0.7682 - iou_score: 0.4395 - f1-score: 0.4830 - val_loss: 0.7698 - val_iou_score: 0.4318 - val_f1-score: 0.4671\n",
      "Epoch 66/100\n",
      "12/12 [==============================] - 8s 707ms/step - loss: 0.7667 - iou_score: 0.4447 - f1-score: 0.4943 - val_loss: 0.7721 - val_iou_score: 0.4300 - val_f1-score: 0.4624\n",
      "Epoch 67/100\n",
      "12/12 [==============================] - 8s 706ms/step - loss: 0.7679 - iou_score: 0.4399 - f1-score: 0.4833 - val_loss: 0.7733 - val_iou_score: 0.4302 - val_f1-score: 0.4630\n",
      "Epoch 68/100\n",
      "12/12 [==============================] - 8s 710ms/step - loss: 0.7681 - iou_score: 0.4402 - f1-score: 0.4841 - val_loss: 0.7720 - val_iou_score: 0.4344 - val_f1-score: 0.4850\n",
      "Epoch 69/100\n",
      "12/12 [==============================] - 8s 708ms/step - loss: 0.7689 - iou_score: 0.4370 - f1-score: 0.4772 - val_loss: 0.7770 - val_iou_score: 0.4308 - val_f1-score: 0.4646\n",
      "Epoch 70/100\n",
      "12/12 [==============================] - 8s 708ms/step - loss: 0.7672 - iou_score: 0.4432 - f1-score: 0.4911 - val_loss: 0.7761 - val_iou_score: 0.4303 - val_f1-score: 0.4634\n",
      "Epoch 71/100\n",
      "12/12 [==============================] - 8s 706ms/step - loss: 0.7682 - iou_score: 0.4418 - f1-score: 0.4884 - val_loss: 0.7749 - val_iou_score: 0.4331 - val_f1-score: 0.4953\n",
      "Epoch 72/100\n",
      "12/12 [==============================] - 8s 708ms/step - loss: 0.7671 - iou_score: 0.4443 - f1-score: 0.4915 - val_loss: 0.7705 - val_iou_score: 0.4324 - val_f1-score: 0.4681\n",
      "Epoch 73/100\n",
      "12/12 [==============================] - 8s 708ms/step - loss: 0.7678 - iou_score: 0.4416 - f1-score: 0.4859 - val_loss: 0.7701 - val_iou_score: 0.4334 - val_f1-score: 0.4708\n",
      "Epoch 74/100\n",
      "12/12 [==============================] - 8s 708ms/step - loss: 0.7656 - iou_score: 0.4484 - f1-score: 0.5010 - val_loss: 0.7742 - val_iou_score: 0.4331 - val_f1-score: 0.4968\n",
      "Epoch 75/100\n",
      "12/12 [==============================] - 8s 710ms/step - loss: 0.7656 - iou_score: 0.4487 - f1-score: 0.5004 - val_loss: 0.7708 - val_iou_score: 0.4305 - val_f1-score: 0.4636\n",
      "Epoch 76/100\n",
      "12/12 [==============================] - 8s 709ms/step - loss: 0.7654 - iou_score: 0.4508 - f1-score: 0.5043 - val_loss: 0.7704 - val_iou_score: 0.4312 - val_f1-score: 0.4655\n",
      "Epoch 77/100\n",
      "12/12 [==============================] - 8s 706ms/step - loss: 0.7664 - iou_score: 0.4439 - f1-score: 0.4914 - val_loss: 0.7703 - val_iou_score: 0.4314 - val_f1-score: 0.4663\n",
      "Epoch 78/100\n",
      "12/12 [==============================] - 8s 708ms/step - loss: 0.7668 - iou_score: 0.4440 - f1-score: 0.4925 - val_loss: 0.7705 - val_iou_score: 0.4364 - val_f1-score: 0.4819\n",
      "Epoch 79/100\n",
      "12/12 [==============================] - 8s 707ms/step - loss: 0.7677 - iou_score: 0.4407 - f1-score: 0.4855 - val_loss: 0.7724 - val_iou_score: 0.4367 - val_f1-score: 0.4923\n",
      "Epoch 80/100\n",
      "12/12 [==============================] - 8s 707ms/step - loss: 0.7659 - iou_score: 0.4477 - f1-score: 0.4993 - val_loss: 0.7704 - val_iou_score: 0.4352 - val_f1-score: 0.4777\n",
      "Epoch 81/100\n",
      "12/12 [==============================] - 8s 708ms/step - loss: 0.7668 - iou_score: 0.4454 - f1-score: 0.4938 - val_loss: 0.7717 - val_iou_score: 0.4302 - val_f1-score: 0.4630\n",
      "Epoch 82/100\n",
      "10/12 [========================>.....] - ETA: 1s - loss: 0.7665 - iou_score: 0.4454 - f1-score: 0.4927"
     ]
    }
   ],
   "source": [
    "# train \n",
    "\n",
    "history=model.fit(X_train_prep, \n",
    "          Y_train,\n",
    "          batch_size=8, \n",
    "          epochs=100,\n",
    "          verbose=1,\n",
    "          validation_data=(X_val_prep, Y_val),\n",
    "         callbacks=callbacks)"
   ]
  },
  {
   "cell_type": "code",
   "execution_count": null,
   "metadata": {},
   "outputs": [],
   "source": [
    "# save the model\n",
    "\n",
    "model.save('./3DUnet/model/3D_model_vgg16_10epochs.h5')"
   ]
  },
  {
   "cell_type": "code",
   "execution_count": null,
   "metadata": {},
   "outputs": [],
   "source": [
    "# visualize the loss and IOU loss\n",
    "\n",
    "loss = history.history['loss']\n",
    "val_loss = history.history['val_loss']\n",
    "epochs = range(1, len(loss) + 1)\n",
    "plt.plot(epochs, loss, 'y', label='Training loss')\n",
    "plt.plot(epochs, val_loss, 'r', label='Validation loss')\n",
    "plt.title('Training and validation loss')\n",
    "plt.xlabel('Epochs')\n",
    "plt.ylabel('Loss')\n",
    "plt.legend()\n",
    "plt.show()\n",
    "\n",
    "acc = history.history['iou_score']\n",
    "val_acc = history.history['val_iou_score']\n",
    "\n",
    "plt.plot(epochs, acc, 'y', label='Training IOU')\n",
    "plt.plot(epochs, val_acc, 'r', label='Validation IOU')\n",
    "plt.title('Training and validation IOU')\n",
    "plt.xlabel('Epochs')\n",
    "plt.ylabel('IOU')\n",
    "plt.legend()\n",
    "plt.show() # Save model"
   ]
  },
  {
   "cell_type": "markdown",
   "metadata": {},
   "source": [
    "#### Test part"
   ]
  },
  {
   "cell_type": "code",
   "execution_count": null,
   "metadata": {},
   "outputs": [],
   "source": [
    "# load the model\n",
    "\n",
    "from keras.models import load_model\n",
    "# from keras.models import load_model\n",
    "my_model = load_model('./3DUnet/model/3D_model_vgg16_10epochs.h5', compile=False)"
   ]
  },
  {
   "cell_type": "code",
   "execution_count": null,
   "metadata": {},
   "outputs": [],
   "source": [
    "# preprocess the test data\n",
    "\n",
    "X_test_prep = preprocess_input(X_test) \n",
    "\n",
    "print('before pre:', np.min(X_test), np.max(X_test))\n",
    "print('after pre:', np.min(X_test_prep), np.max(X_test_prep))"
   ]
  },
  {
   "cell_type": "code",
   "execution_count": null,
   "metadata": {},
   "outputs": [],
   "source": [
    "# test on the test set\n",
    "\n",
    "Y_pred = my_model.predict(X_test_prep)\n",
    "\n",
    "Y_pred = np.asarray(Y_pred)\n",
    "Y_pred_argmax = np.argmax(Y_pred, axis=4) \n",
    "Y_test_argmax = np.argmax(Y_test, axis=4)"
   ]
  },
  {
   "cell_type": "code",
   "execution_count": null,
   "metadata": {},
   "outputs": [],
   "source": [
    "# sanity check for the data shape\n",
    "\n",
    "print(Y_pred_argmax.shape)\n",
    "print(Y_test_argmax.shape)\n",
    "print(np.unique(Y_pred_argmax))"
   ]
  },
  {
   "cell_type": "code",
   "execution_count": null,
   "metadata": {},
   "outputs": [],
   "source": [
    "# test in rando\n",
    "import random\n",
    "test_img_number = random.randint(0, len(X_test))\n",
    "test_img = X_test[test_img_number]\n",
    "ground_truth = Y_test[test_img_number]\n",
    "ground_truth = np.squeeze(ground_truth)\n",
    "\n",
    "test_img_input=np.expand_dims(test_img, 0)\n",
    "test_img_input1 = preprocess_input(test_img_input)\n",
    "\n",
    "test_pred1 = my_model.predict(test_img_input1)\n",
    "test_prediction1 = np.argmax(test_pred1, axis=4)[0,:,:,:]\n",
    "print('pred size:', test_prediction1.shape,' GT size:', ground_truth.shape, 'input size:', test_img.shape )\n",
    "print(test_img.dtype)"
   ]
  },
  {
   "cell_type": "code",
   "execution_count": null,
   "metadata": {},
   "outputs": [],
   "source": [
    "# test_img[0,:,:,0]"
   ]
  },
  {
   "cell_type": "code",
   "execution_count": null,
   "metadata": {},
   "outputs": [],
   "source": [
    "# sanity check for the data matching\n",
    "\n",
    "sliceNum = 10\n",
    "\n",
    "plt.subplot(1,3,1)\n",
    "plt.imshow(test_img[sliceNum,...]/255, cmap='gray')  # input\n",
    "plt.subplot(1,3,2)\n",
    "plt.imshow(ground_truth[sliceNum,...], cmap='gray')  # GT\n",
    "plt.subplot(1,3,3)\n",
    "plt.imshow(test_prediction1[sliceNum,...], cmap='gray') # pred"
   ]
  },
  {
   "cell_type": "code",
   "execution_count": null,
   "metadata": {},
   "outputs": [],
   "source": [
    "# unpatchify back into the cubes\n",
    "\n",
    "imagePatch = np.reshape(np.asarray(Y_pred_argmax),\n",
    "                (unpatchParaTest[0], unpatchParaTest[1],unpatchParaTest[2],\n",
    "                 unpatchParaTest[3], unpatchParaTest[4],unpatchParaTest[5]))\n",
    "origTest = unpatchify(imagePatch, testStackSize)\n",
    "print(origTest.shape)"
   ]
  },
  {
   "cell_type": "code",
   "execution_count": null,
   "metadata": {},
   "outputs": [],
   "source": [
    "# sorting out the input, GT and prediction\n",
    "\n",
    "# Y_test_raw needs to be binarized, then it can matched with prediction\n",
    "Y_test_raw_bi = ((Y_test_raw/ 255) > 0.5).astype(np.float)\n",
    "\n",
    "for i in range(origTest.shape[0]):\n",
    "    \n",
    "    predT = origTest[i,...] \n",
    "    focalT = X_test_raw[i,...] / 255\n",
    "    truthT = Y_test_raw_bi[i,...] \n",
    "\n",
    "    bar = np.ones((predT.shape[0], 15))   # lines\n",
    "    combTemp = np.concatenate((focalT, bar, predT, bar, truthT), axis=1)\n",
    "\n",
    "    if DOCUMENT:\n",
    "        # upload the test results into neptune with handle 'description'\n",
    "        run[\"test/sample_images\"].log(neptune.types.File.as_image(combTemp), name=str(i), description='test images from 3rd stack')  \n",
    "    \n"
   ]
  },
  {
   "cell_type": "code",
   "execution_count": null,
   "metadata": {},
   "outputs": [],
   "source": [
    "# stop the neptune\n",
    "if DOCUMENT:\n",
    "    run.stop() "
   ]
  },
  {
   "cell_type": "markdown",
   "metadata": {},
   "source": [
    "#### Check the generated results locally"
   ]
  },
  {
   "cell_type": "code",
   "execution_count": null,
   "metadata": {},
   "outputs": [],
   "source": [
    "# sanity check for the results\n",
    "\n",
    "tempIMG = origTest[0,:,:]\n",
    "\n",
    "plt.imshow(tempIMG, cmap='gray')"
   ]
  },
  {
   "cell_type": "code",
   "execution_count": null,
   "metadata": {},
   "outputs": [],
   "source": [
    "# visualize the three dataset together\n",
    "\n",
    "NUM = 0\n",
    "predT = origTest[NUM,...] #* 255\n",
    "plt.figure()\n",
    "plt.imshow(predT, cmap='gray')\n",
    "focalT = X_test_raw[NUM,...]/255\n",
    "truthT = Y_test_raw_bi[NUM,...] #* 255\n",
    "\n",
    "bar = np.ones((predT.shape[0], 15)) #* 255  # lines\n",
    "combTemp = np.concatenate((focalT, bar, predT, bar, truthT), axis=1)\n",
    "plt.imshow(combTemp, cmap='gray')\n",
    "\n",
    "\n",
    "# print(X_test_raw.shape, Y_test_raw_bi.shape)"
   ]
  },
  {
   "cell_type": "code",
   "execution_count": null,
   "metadata": {},
   "outputs": [],
   "source": [
    "# !pip install \"napari[all]\""
   ]
  },
  {
   "cell_type": "code",
   "execution_count": null,
   "metadata": {},
   "outputs": [],
   "source": [
    "# veiw the 3D volume \n",
    "# not working on the hemera\n",
    "\n",
    "# from skimage import data\n",
    "# import napari\n",
    "\n",
    "# viewer = napari.view_image(data.cells3d(), channel_axis=1, ndisplay=3)\n",
    "\n",
    "# viewer = napari.view_image(original, channel_axis=1, ndisplay=3)"
   ]
  },
  {
   "cell_type": "code",
   "execution_count": null,
   "metadata": {},
   "outputs": [],
   "source": []
  }
 ],
 "metadata": {
  "kernelspec": {
   "display_name": "CONDA (seg)",
   "language": "python",
   "name": "seg"
  },
  "language_info": {
   "codemirror_mode": {
    "name": "ipython",
    "version": 3
   },
   "file_extension": ".py",
   "mimetype": "text/x-python",
   "name": "python",
   "nbconvert_exporter": "python",
   "pygments_lexer": "ipython3",
   "version": "3.7.13"
  }
 },
 "nbformat": 4,
 "nbformat_minor": 4
}
