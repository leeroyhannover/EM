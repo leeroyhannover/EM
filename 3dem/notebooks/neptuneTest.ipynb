{
 "cells": [
  {
   "cell_type": "markdown",
   "metadata": {},
   "source": [
    "test the neptune ai"
   ]
  },
  {
   "cell_type": "code",
   "execution_count": 4,
   "metadata": {},
   "outputs": [
    {
     "name": "stdout",
     "output_type": "stream",
     "text": [
      "Defaulting to user installation because normal site-packages is not writeable\n",
      "\u001b[33mWARNING: Ignoring invalid distribution -umpy (/trinity/shared/pkg/devel/python/3.6.5/lib/python3.6/site-packages)\u001b[0m\n"
     ]
    },
    {
     "name": "stderr",
     "output_type": "stream",
     "text": [
      "Warning: string series 'monitoring/stdout' value was longer than 1000 characters and was truncated. This warning is printed only once per series.\n"
     ]
    },
    {
     "name": "stdout",
     "output_type": "stream",
     "text": [
      "\u001b[33mWARNING: Ignoring invalid distribution -umpy (/trinity/shared/pkg/devel/python/3.6.5/lib/python3.6/site-packages)\u001b[0m\n",
      "Requirement already satisfied: neptune-client in /home/li52/.local/lib/python3.6/site-packages (0.15.2)\n",
      "Requirement already satisfied: pandas in /trinity/shared/pkg/devel/python/3.6.5/lib/python3.6/site-packages (from neptune-client) (0.23.4)\n",
      "Requirement already satisfied: psutil in /trinity/shared/pkg/devel/python/3.6.5/lib/python3.6/site-packages (from neptune-client) (5.6.3)\n",
      "Requirement already satisfied: dataclasses>=0.6 in /home/li52/.local/lib/python3.6/site-packages (from neptune-client) (0.8)\n",
      "Requirement already satisfied: requests>=2.20.0 in /trinity/shared/pkg/devel/python/3.6.5/lib/python3.6/site-packages (from neptune-client) (2.22.0)\n",
      "Requirement already satisfied: future>=0.17.1 in /trinity/shared/pkg/devel/python/3.6.5/lib/python3.6/site-packages (from neptune-client) (0.18.2)\n",
      "Requirement already satisfied: PyJWT in /home/li52/.local/lib/python3.6/site-packages (from neptune-client) (2.3.0)\n",
      "Requirement already satisfied: requests-oauthlib>=1.0.0 in /home/li52/.local/lib/python3.6/site-packages (from neptune-client) (1.3.1)\n",
      "Requirement already satisfied: bravado in /home/li52/.local/lib/python3.6/site-packages (from neptune-client) (11.0.3)\n",
      "Requirement already satisfied: packaging in /trinity/shared/pkg/devel/python/3.6.5/lib/python3.6/site-packages (from neptune-client) (19.1)\n",
      "Requirement already satisfied: swagger-spec-validator>=2.7.4 in /home/li52/.local/lib/python3.6/site-packages (from neptune-client) (2.7.4)\n",
      "Requirement already satisfied: click>=7.0 in /trinity/shared/pkg/devel/python/3.6.5/lib/python3.6/site-packages (from neptune-client) (7.0)\n",
      "Requirement already satisfied: boto3>=1.16.0 in /home/li52/.local/lib/python3.6/site-packages (from neptune-client) (1.21.33)\n",
      "Requirement already satisfied: six>=1.12.0 in /trinity/shared/pkg/devel/python/3.6.5/lib/python3.6/site-packages (from neptune-client) (1.12.0)\n",
      "Requirement already satisfied: Pillow>=1.1.6 in /trinity/shared/pkg/devel/python/3.6.5/lib/python3.6/site-packages (from neptune-client) (8.2.0)\n",
      "Requirement already satisfied: GitPython>=2.0.8 in /trinity/shared/pkg/devel/python/3.6.5/lib/python3.6/site-packages (from neptune-client) (3.1.1)\n",
      "Requirement already satisfied: urllib3 in /home/li52/.local/lib/python3.6/site-packages (from neptune-client) (1.25.11)\n",
      "Requirement already satisfied: oauthlib>=2.1.0 in /home/li52/.local/lib/python3.6/site-packages (from neptune-client) (3.2.0)\n",
      "Requirement already satisfied: websocket-client!=1.0.0,>=0.35.0 in /home/li52/.local/lib/python3.6/site-packages (from neptune-client) (1.3.1)\n",
      "Requirement already satisfied: jmespath<2.0.0,>=0.7.1 in /home/li52/.local/lib/python3.6/site-packages (from boto3>=1.16.0->neptune-client) (0.10.0)\n",
      "Requirement already satisfied: botocore<1.25.0,>=1.24.33 in /home/li52/.local/lib/python3.6/site-packages (from boto3>=1.16.0->neptune-client) (1.24.33)\n",
      "Requirement already satisfied: s3transfer<0.6.0,>=0.5.0 in /home/li52/.local/lib/python3.6/site-packages (from boto3>=1.16.0->neptune-client) (0.5.2)\n",
      "Requirement already satisfied: gitdb<5,>=4.0.1 in /trinity/shared/pkg/devel/python/3.6.5/lib/python3.6/site-packages (from GitPython>=2.0.8->neptune-client) (4.0.4)\n",
      "Requirement already satisfied: certifi>=2017.4.17 in /trinity/shared/pkg/devel/python/3.6.5/lib/python3.6/site-packages (from requests>=2.20.0->neptune-client) (2019.6.16)\n",
      "Requirement already satisfied: chardet<3.1.0,>=3.0.2 in /trinity/shared/pkg/devel/python/3.6.5/lib/python3.6/site-packages (from requests>=2.20.0->neptune-client) (3.0.4)\n",
      "Requirement already satisfied: idna<2.9,>=2.5 in /trinity/shared/pkg/devel/python/3.6.5/lib/python3.6/site-packages (from requests>=2.20.0->neptune-client) (2.8)\n",
      "Requirement already satisfied: pyyaml in /trinity/shared/pkg/devel/python/3.6.5/lib/python3.6/site-packages (from swagger-spec-validator>=2.7.4->neptune-client) (5.1.1)\n",
      "Requirement already satisfied: jsonschema in /trinity/shared/pkg/devel/python/3.6.5/lib/python3.6/site-packages (from swagger-spec-validator>=2.7.4->neptune-client) (3.0.2)\n",
      "Requirement already satisfied: python-dateutil in /trinity/shared/pkg/devel/python/3.6.5/lib/python3.6/site-packages (from bravado->neptune-client) (2.7.5)\n",
      "Requirement already satisfied: bravado-core>=5.16.1 in /home/li52/.local/lib/python3.6/site-packages (from bravado->neptune-client) (5.17.0)\n",
      "Requirement already satisfied: simplejson in /home/li52/.local/lib/python3.6/site-packages (from bravado->neptune-client) (3.17.6)\n",
      "Requirement already satisfied: msgpack in /home/li52/.local/lib/python3.6/site-packages (from bravado->neptune-client) (1.0.3)\n",
      "Requirement already satisfied: monotonic in /home/li52/.local/lib/python3.6/site-packages (from bravado->neptune-client) (1.6)\n",
      "Requirement already satisfied: typing-extensions in /home/li52/.local/lib/python3.6/site-packages (from bravado->neptune-client) (4.1.1)\n",
      "Requirement already satisfied: pyparsing>=2.0.2 in /trinity/shared/pkg/devel/python/3.6.5/lib/python3.6/site-packages (from packaging->neptune-client) (2.3.0)\n",
      "Requirement already satisfied: attrs in /trinity/shared/pkg/devel/python/3.6.5/lib/python3.6/site-packages (from packaging->neptune-client) (19.1.0)\n",
      "Requirement already satisfied: numpy>=1.9.0 in /home/li52/.local/lib/python3.6/site-packages (from pandas->neptune-client) (1.19.5)\n",
      "Requirement already satisfied: pytz>=2011k in /trinity/shared/pkg/devel/python/3.6.5/lib/python3.6/site-packages (from pandas->neptune-client) (2018.4)\n",
      "Requirement already satisfied: jsonref in /home/li52/.local/lib/python3.6/site-packages (from bravado-core>=5.16.1->bravado->neptune-client) (0.2)\n",
      "Requirement already satisfied: smmap<4,>=3.0.1 in /trinity/shared/pkg/devel/python/3.6.5/lib/python3.6/site-packages (from gitdb<5,>=4.0.1->GitPython>=2.0.8->neptune-client) (3.0.2)\n",
      "Requirement already satisfied: pyrsistent>=0.14.0 in /trinity/shared/pkg/devel/python/3.6.5/lib/python3.6/site-packages (from jsonschema->swagger-spec-validator>=2.7.4->neptune-client) (0.15.4)\n",
      "Requirement already satisfied: setuptools in /trinity/shared/pkg/devel/python/3.6.5/lib/python3.6/site-packages (from jsonschema->swagger-spec-validator>=2.7.4->neptune-client) (40.6.2)\n",
      "Requirement already satisfied: jsonpointer>1.13 in /home/li52/.local/lib/python3.6/site-packages (from jsonschema->swagger-spec-validator>=2.7.4->neptune-client) (2.2)\n",
      "Requirement already satisfied: rfc3987 in /home/li52/.local/lib/python3.6/site-packages (from jsonschema->swagger-spec-validator>=2.7.4->neptune-client) (1.3.8)\n",
      "Requirement already satisfied: webcolors in /home/li52/.local/lib/python3.6/site-packages (from jsonschema->swagger-spec-validator>=2.7.4->neptune-client) (1.11.1)\n",
      "Requirement already satisfied: strict-rfc3339 in /home/li52/.local/lib/python3.6/site-packages (from jsonschema->swagger-spec-validator>=2.7.4->neptune-client) (0.7)\n",
      "\u001b[33mWARNING: Ignoring invalid distribution -umpy (/trinity/shared/pkg/devel/python/3.6.5/lib/python3.6/site-packages)\u001b[0m\n",
      "\u001b[33mWARNING: Ignoring invalid distribution -umpy (/trinity/shared/pkg/devel/python/3.6.5/lib/python3.6/site-packages)\u001b[0m\n",
      "\u001b[33mWARNING: Ignoring invalid distribution -umpy (/trinity/shared/pkg/devel/python/3.6.5/lib/python3.6/site-packages)\u001b[0m\n"
     ]
    }
   ],
   "source": [
    "! pip install neptune-client"
   ]
  },
  {
   "cell_type": "code",
   "execution_count": 5,
   "metadata": {},
   "outputs": [
    {
     "name": "stdout",
     "output_type": "stream",
     "text": [
      "https://app.neptune.ai/leeleeroy/UnetEM/e/UN-2\n",
      "Remember to stop your run once you’ve finished logging your metadata (https://docs.neptune.ai/api-reference/run#.stop). It will be stopped automatically only when the notebook kernel/interactive console is terminated.\n"
     ]
    },
    {
     "name": "stderr",
     "output_type": "stream",
     "text": [
      "/home/li52/.local/lib/python3.6/site-packages/neptune/new/internal/utils/git.py:35: UserWarning: GitPython could not be initialized\n",
      "  warnings.warn(\"GitPython could not be initialized\")\n",
      "/home/li52/.local/lib/python3.6/site-packages/neptune/new/internal/utils/git.py:35: UserWarning: GitPython could not be initialized\n",
      "  warnings.warn(\"GitPython could not be initialized\")\n"
     ]
    }
   ],
   "source": [
    "# connect script to application\n",
    "import neptune.new as neptune\n",
    "\n",
    "run = neptune.init(\n",
    "    project=\"leeleeroy/UnetEM\",\n",
    "    api_token=\"eyJhcGlfYWRkcmVzcyI6Imh0dHBzOi8vYXBwLm5lcHR1bmUuYWkiLCJhcGlfdXJsIjoiaHR0cHM6Ly9hcHAubmVwdHVuZS5haSIsImFwaV9rZXkiOiI3YjVjOGVmZi04MjA4LTQ4N2QtOWIzYy05M2YyZWI1NzY3MmEifQ==\",\n",
    ")  # credentials information\n"
   ]
  },
  {
   "cell_type": "code",
   "execution_count": 6,
   "metadata": {},
   "outputs": [],
   "source": [
    "# fake a training process\n",
    "\n",
    "import numpy as np\n",
    "from time import sleep\n",
    "\n",
    "# log score\n",
    "run[\"single_metric\"] = 0.62\n",
    "\n",
    "for i in range(100):\n",
    "    sleep(0.2)  # to see logging live\n",
    "    run[\"random_training_metric\"].log(i * np.random.random())\n",
    "    run[\"other_random_training_metric\"].log(0.5 * i * np.random.random())"
   ]
  },
  {
   "cell_type": "code",
   "execution_count": 1,
   "metadata": {},
   "outputs": [
    {
     "ename": "NameError",
     "evalue": "name 'run' is not defined",
     "output_type": "error",
     "traceback": [
      "\u001b[0;31m---------------------------------------------------------------------------\u001b[0m",
      "\u001b[0;31mNameError\u001b[0m                                 Traceback (most recent call last)",
      "\u001b[0;32m<ipython-input-1-e4ebab2e228d>\u001b[0m in \u001b[0;36m<module>\u001b[0;34m()\u001b[0m\n\u001b[0;32m----> 1\u001b[0;31m \u001b[0mrun\u001b[0m\u001b[0;34m.\u001b[0m\u001b[0mstop\u001b[0m\u001b[0;34m(\u001b[0m\u001b[0;34m)\u001b[0m\u001b[0;34m\u001b[0m\u001b[0m\n\u001b[0m",
      "\u001b[0;31mNameError\u001b[0m: name 'run' is not defined"
     ]
    }
   ],
   "source": [
    "run.stop() # 需要停止tracking"
   ]
  },
  {
   "cell_type": "code",
   "execution_count": null,
   "metadata": {},
   "outputs": [],
   "source": []
  }
 ],
 "metadata": {
  "kernelspec": {
   "display_name": "Python 3",
   "language": "python",
   "name": "python3"
  },
  "language_info": {
   "codemirror_mode": {
    "name": "ipython",
    "version": 3
   },
   "file_extension": ".py",
   "mimetype": "text/x-python",
   "name": "python",
   "nbconvert_exporter": "python",
   "pygments_lexer": "ipython3",
   "version": "3.6.5"
  }
 },
 "nbformat": 4,
 "nbformat_minor": 4
}
