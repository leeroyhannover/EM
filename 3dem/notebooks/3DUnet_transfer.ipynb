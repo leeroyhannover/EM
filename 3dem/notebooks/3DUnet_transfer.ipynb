{
 "cells": [
  {
   "cell_type": "markdown",
   "metadata": {},
   "source": [
    "#### 3D Unet using tranfer learning of VGG16 on first sythetic data"
   ]
  },
  {
   "cell_type": "code",
   "execution_count": null,
   "metadata": {},
   "outputs": [],
   "source": [
    "# !pip uninstall -y tensorflow-gpu==2.6.2\n",
    "# !pip uninstall -y tensorflow==2.6.2"
   ]
  },
  {
   "cell_type": "code",
   "execution_count": 2,
   "metadata": {},
   "outputs": [],
   "source": [
    "# import tensorflow as tf\n",
    "\n",
    "# print(tf.__version__)\n",
    "\n",
    "# import torch\n",
    "# print(torch.cuda.device_count())\n",
    "# print(torch.cuda.get_device_name(0))\n",
    "\n",
    "# print(tf.__file__)"
   ]
  },
  {
   "cell_type": "code",
   "execution_count": 3,
   "metadata": {},
   "outputs": [
    {
     "name": "stderr",
     "output_type": "stream",
     "text": [
      "2022-04-28 12:24:17.260380: I tensorflow/stream_executor/platform/default/dso_loader.cc:49] Successfully opened dynamic library libcudart.so.10.1\n"
     ]
    },
    {
     "name": "stdout",
     "output_type": "stream",
     "text": [
      "name: \"/device:GPU:0\"\n",
      "device_type: \"GPU\"\n",
      "memory_limit: 31596363136\n",
      "locality {\n",
      "  bus_id: 1\n",
      "  links {\n",
      "  }\n",
      "}\n",
      "incarnation: 10025246947985522806\n",
      "physical_device_desc: \"device: 0, name: Tesla V100-SXM2-32GB, pci bus id: 0000:61:00.0, compute capability: 7.0\"\n",
      "\n"
     ]
    },
    {
     "name": "stderr",
     "output_type": "stream",
     "text": [
      "2022-04-28 12:24:18.637384: I tensorflow/core/platform/cpu_feature_guard.cc:142] This TensorFlow binary is optimized with oneAPI Deep Neural Network Library (oneDNN) to use the following CPU instructions in performance-critical operations:  SSE4.1 SSE4.2 AVX AVX2 AVX512F FMA\n",
      "To enable them in other operations, rebuild TensorFlow with the appropriate compiler flags.\n",
      "2022-04-28 12:24:18.638981: I tensorflow/stream_executor/platform/default/dso_loader.cc:49] Successfully opened dynamic library libcuda.so.1\n",
      "2022-04-28 12:24:18.695238: I tensorflow/core/common_runtime/gpu/gpu_device.cc:1720] Found device 0 with properties: \n",
      "pciBusID: 0000:61:00.0 name: Tesla V100-SXM2-32GB computeCapability: 7.0\n",
      "coreClock: 1.53GHz coreCount: 80 deviceMemorySize: 31.75GiB deviceMemoryBandwidth: 836.37GiB/s\n",
      "2022-04-28 12:24:18.695273: I tensorflow/stream_executor/platform/default/dso_loader.cc:49] Successfully opened dynamic library libcudart.so.10.1\n",
      "2022-04-28 12:24:18.698098: I tensorflow/stream_executor/platform/default/dso_loader.cc:49] Successfully opened dynamic library libcublas.so.10\n",
      "2022-04-28 12:24:18.698161: I tensorflow/stream_executor/platform/default/dso_loader.cc:49] Successfully opened dynamic library libcublasLt.so.10\n",
      "2022-04-28 12:24:18.700533: I tensorflow/stream_executor/platform/default/dso_loader.cc:49] Successfully opened dynamic library libcufft.so.10\n",
      "2022-04-28 12:24:18.700964: I tensorflow/stream_executor/platform/default/dso_loader.cc:49] Successfully opened dynamic library libcurand.so.10\n",
      "2022-04-28 12:24:18.703759: I tensorflow/stream_executor/platform/default/dso_loader.cc:49] Successfully opened dynamic library libcusolver.so.10\n",
      "2022-04-28 12:24:18.705046: I tensorflow/stream_executor/platform/default/dso_loader.cc:49] Successfully opened dynamic library libcusparse.so.10\n",
      "2022-04-28 12:24:18.710491: I tensorflow/stream_executor/platform/default/dso_loader.cc:49] Successfully opened dynamic library libcudnn.so.7\n",
      "2022-04-28 12:24:18.711390: I tensorflow/core/common_runtime/gpu/gpu_device.cc:1862] Adding visible gpu devices: 0\n",
      "2022-04-28 12:24:18.711419: I tensorflow/stream_executor/platform/default/dso_loader.cc:49] Successfully opened dynamic library libcudart.so.10.1\n",
      "2022-04-28 12:24:19.293337: I tensorflow/core/common_runtime/gpu/gpu_device.cc:1261] Device interconnect StreamExecutor with strength 1 edge matrix:\n",
      "2022-04-28 12:24:19.293376: I tensorflow/core/common_runtime/gpu/gpu_device.cc:1267]      0 \n",
      "2022-04-28 12:24:19.293386: I tensorflow/core/common_runtime/gpu/gpu_device.cc:1280] 0:   N \n",
      "2022-04-28 12:24:19.294840: I tensorflow/core/common_runtime/gpu/gpu_device.cc:1406] Created TensorFlow device (/device:GPU:0 with 30132 MB memory) -> physical GPU (device: 0, name: Tesla V100-SXM2-32GB, pci bus id: 0000:61:00.0, compute capability: 7.0)\n",
      "2022-04-28 12:24:19.295083: I tensorflow/compiler/jit/xla_gpu_device.cc:99] Not creating XLA devices, tf_xla_enable_xla_devices not set\n"
     ]
    },
    {
     "data": {
      "text/plain": [
       "[None]"
      ]
     },
     "execution_count": 3,
     "metadata": {},
     "output_type": "execute_result"
    }
   ],
   "source": [
    "# check the status of GPU\n",
    "from tensorflow.python.client import device_lib\n",
    "\n",
    "local_device_protos = device_lib.list_local_devices()\n",
    "\n",
    "[print(x) for x in local_device_protos if x.device_type == 'GPU']\n"
   ]
  },
  {
   "cell_type": "code",
   "execution_count": 4,
   "metadata": {},
   "outputs": [],
   "source": [
    "# !pip install classification-models-3D\n",
    "# !pip install efficientnet-3D"
   ]
  },
  {
   "cell_type": "code",
   "execution_count": 5,
   "metadata": {},
   "outputs": [],
   "source": [
    "DOCUMENT = False"
   ]
  },
  {
   "cell_type": "code",
   "execution_count": 6,
   "metadata": {},
   "outputs": [],
   "source": [
    "# neptune document\n",
    "\n",
    "import neptune.new as neptune\n",
    "\n",
    "\n",
    "if DOCUMENT:\n",
    "\n",
    "    run = neptune.init(\n",
    "        project=\"leeleeroy/UNet-3D-EM\",\n",
    "        api_token=\"eyJhcGlfYWRkcmVzcyI6Imh0dHBzOi8vYXBwLm5lcHR1bmUuYWkiLCJhcGlfdXJsIjoiaHR0cHM6Ly9hcHAubmVwdHVuZS5haSIsImFwaV9rZXkiOiI3YjVjOGVmZi04MjA4LTQ4N2QtOWIzYy05M2YyZWI1NzY3MmEifQ==\",\n",
    "        name = \"UNet3D_64_vgg16\",\n",
    "    ) # necessary credentials, the name could be used to reproduce the results \n",
    "\n",
    "    # for callbacks in training\n",
    "\n",
    "    from neptune.new.integrations.tensorflow_keras import NeptuneCallback\n",
    "\n",
    "    neptune_cbk = NeptuneCallback(run=run, base_namespace='metrics')  # neptune for the training process\n",
    "    # neptune document the hyper param.\n",
    "\n",
    "    PARAMS = {'patchify': 64,\n",
    "              \"optimizer\": {\"learning_rate\": 0.001, \"beta_1\":0.9,\"optimizer\": \"Adam\"},\n",
    "              'epochs':100,\n",
    "              'batch_size':8}\n",
    "\n",
    "    # log hyper-parameters\n",
    "    run['hyper-parameters'] = PARAMS\n",
    "    run[\"sys/tags\"].add([\"3D_64\",\"transfer\", \"vgg16\", \"self test\", \"100\"])\n"
   ]
  },
  {
   "cell_type": "markdown",
   "metadata": {},
   "source": [
    "#### read in the raw data"
   ]
  },
  {
   "cell_type": "code",
   "execution_count": 7,
   "metadata": {},
   "outputs": [
    {
     "name": "stderr",
     "output_type": "stream",
     "text": [
      "Using TensorFlow backend.\n"
     ]
    },
    {
     "name": "stdout",
     "output_type": "stream",
     "text": [
      "Segmentation Models: using `tf.keras` framework.\n"
     ]
    }
   ],
   "source": [
    "import os\n",
    "import mrcfile\n",
    "import numpy as np\n",
    "import matplotlib.pyplot as plt\n",
    "from scipy import ndimage\n",
    "from tqdm import tqdm  # ! this might result into problem with 'object'\n",
    "import os\n",
    "import pandas as pd\n",
    "import random\n",
    "import tensorflow as tf\n",
    "from tensorflow import keras\n",
    "import tensorflow.keras as k\n",
    "import segmentation_models_3D as sm\n",
    "from tensorflow.keras.utils import to_categorical\n",
    "\n",
    "from skimage import io\n",
    "from patchify import patchify, unpatchify\n",
    "from sklearn.model_selection import train_test_split\n",
    "# import keras"
   ]
  },
  {
   "cell_type": "code",
   "execution_count": 8,
   "metadata": {},
   "outputs": [
    {
     "name": "stderr",
     "output_type": "stream",
     "text": [
      "  0%|          | 0/3 [00:00<?, ?it/s]"
     ]
    },
    {
     "name": "stdout",
     "output_type": "stream",
     "text": [
      "tomo2_focalseries.mrc\n",
      "tomo3_focalseries.mrc\n",
      "tomo1_focalseries.mrc\n"
     ]
    },
    {
     "name": "stderr",
     "output_type": "stream",
     "text": [
      "/home/li52/.conda/envs/seg/lib/python3.7/site-packages/mrcfile/mrcinterpreter.py:219: RuntimeWarning: Unrecognised machine stamp: 0x00 0x00 0x00 0x00\n",
      "  warnings.warn(str(err), RuntimeWarning)\n"
     ]
    },
    {
     "name": "stdout",
     "output_type": "stream",
     "text": [
      "tomo2_groundtruth.mrc\n",
      "tomo3_groundtruth.mrc\n"
     ]
    },
    {
     "name": "stderr",
     "output_type": "stream",
     "text": [
      "100%|██████████| 3/3 [00:00<00:00, 12.60it/s]"
     ]
    },
    {
     "name": "stdout",
     "output_type": "stream",
     "text": [
      "tomo1_groundtruth.mrc\n"
     ]
    },
    {
     "name": "stderr",
     "output_type": "stream",
     "text": [
      "\n"
     ]
    }
   ],
   "source": [
    "def readMRC(path):\n",
    "    with mrcfile.open(path, mode='r+', permissive=True) as mrc:\n",
    "        mrc.header.map = mrcfile.constants.MAP_ID # for synthetic data, need to generate ID\n",
    "        data = mrc.data\n",
    "    return data\n",
    "\n",
    "# DATA_PATH = 'F:/MDC/4.1dataAugNeat/EM/3dem/data/interim/synthetic/'\n",
    "DATA_PATH = './synthetic/'  # in hemera, only use relative path\n",
    "data_ids = next(os.walk(DATA_PATH))[1]\n",
    "raw = []\n",
    "for n, id_ in tqdm(enumerate(data_ids), total=len(data_ids)):  \n",
    "    path = DATA_PATH + id_\n",
    "    datanames = os.listdir(path)\n",
    "    for dataname in datanames:\n",
    "        if os.path.splitext(dataname)[1] == '.mrc': # all .mrc under the path\n",
    "            temp = readMRC(path + \"/\" + dataname).astype(np.uint8)\n",
    "            raw.append(temp)\n",
    "            print(dataname)\n",
    "            \n",
    "focal = raw[0:3]\n",
    "GT = raw[3:len(raw)]\n",
    "del raw, temp, datanames, dataname, path, data_ids, n, id_"
   ]
  },
  {
   "cell_type": "code",
   "execution_count": 9,
   "metadata": {},
   "outputs": [
    {
     "name": "stderr",
     "output_type": "stream",
     "text": [
      "/home/li52/.conda/envs/seg/lib/python3.7/site-packages/tqdm/auto.py:22: TqdmWarning: IProgress not found. Please update jupyter and ipywidgets. See https://ipywidgets.readthedocs.io/en/stable/user_install.html\n",
      "  from .autonotebook import tqdm as notebook_tqdm\n"
     ]
    },
    {
     "name": "stdout",
     "output_type": "stream",
     "text": [
      "(512, 256, 256)\n",
      "(512, 256, 256)\n"
     ]
    }
   ],
   "source": [
    "# raw data sorting: padding, reshape\n",
    "\n",
    "import torchio as tio\n",
    "from patchify import patchify, unpatchify\n",
    "\n",
    "# training dataset raw\n",
    "train_raw = np.vstack(([focal[0], focal[1]]));train = train_raw[...,np.newaxis].transpose((3,1,2,0)); label = np.vstack(([GT[0], GT[1]]))#;label = train_label[...,np.newaxis]\n",
    "\n",
    "trainIO = tio.ScalarImage(tensor=train)\n",
    "target_shape = 256,256,512  # padding into the same size\n",
    "crop_pad = tio.CropOrPad(target_shape, padding_mode='mean'); resized = crop_pad(trainIO) # padding with mean\n",
    "train_padd = resized.numpy().transpose((3,1,2,0)); train_padd = train_padd[...,0]\n",
    "print(train_padd.shape);print(label.shape)\n",
    "\n",
    "# testing dataset raw\n",
    "X_test = focal[2]; X_test = X_test[...,np.newaxis].transpose((3,1,2,0))\n",
    "Y_test_label = GT[2]\n",
    "# Y_test_label = (Y_test_label > 0.5).astype(np.float) # 这里不要做二元化，下面再做二元化\n",
    "\n",
    "testIO = tio.ScalarImage(tensor=X_test)\n",
    "target_shape = 256,256,256\n",
    "crop_pad = tio.CropOrPad(target_shape, padding_mode='mean'); resized = crop_pad(testIO)\n",
    "test_padd = resized.numpy().transpose((3,1,2,0)); test_padd = test_padd[...,0];\n",
    "\n",
    "testStackSize = test_padd.shape  # document the original size of image stack"
   ]
  },
  {
   "cell_type": "code",
   "execution_count": 10,
   "metadata": {},
   "outputs": [
    {
     "name": "stdout",
     "output_type": "stream",
     "text": [
      "float64 float64\n",
      "(4, 4, 4, 64, 64, 64) (4, 4, 4, 64, 64, 64)\n"
     ]
    }
   ],
   "source": [
    "# pre-processing the data: scaling, binarize \n",
    "\n",
    "X_train = train_padd; Y_train = label\n",
    "\n",
    "X_test = test_padd; Y_test = Y_test_label\n",
    "\n",
    "# binary the mask here\n",
    "X_train = (X_train / 255.).astype(np.float)\n",
    "Y_train = ((Y_train / 255) > 0.5).astype(np.float)\n",
    "\n",
    "X_test = (X_test / 255.).astype(np.float)\n",
    "Y_test = ((Y_test / 255) > 0.5).astype(np.float)\n",
    "\n",
    "print(X_train.dtype, Y_train.dtype)\n",
    "\n",
    "# patchify the training data\n",
    "img_patches = patchify(X_train, (64, 64, 64), step=64)  #Step=64 for 64 patches means no overlap\n",
    "mask_patches = patchify(Y_train, (64, 64, 64), step=64)  \n",
    "unpatchParaTrain = img_patches.shape\n",
    "\n",
    "# patchify the test data\n",
    "test_img_patches = patchify(X_test, (64, 64, 64), step=64) \n",
    "test_mask_patches = patchify(Y_test, (64, 64, 64), step=64) \n",
    "unpatchParaTest = test_img_patches.shape\n",
    "\n",
    "print(test_mask_patches.shape, test_img_patches.shape)"
   ]
  },
  {
   "cell_type": "code",
   "execution_count": 11,
   "metadata": {},
   "outputs": [
    {
     "data": {
      "text/plain": [
       "<matplotlib.image.AxesImage at 0x2aac6ea1b910>"
      ]
     },
     "execution_count": 11,
     "metadata": {},
     "output_type": "execute_result"
    },
    {
     "data": {
      "image/png": "[encoded data removed]",
      "text/plain": [
       "<Figure size 432x288 with 1 Axes>"
      ]
     },
     "metadata": {
      "needs_background": "light"
     },
     "output_type": "display_data"
    },
    {
     "data": {
      "image/png": "[encoded data removed]",
      "text/plain": [
       "<Figure size 432x288 with 1 Axes>"
      ]
     },
     "metadata": {
      "needs_background": "light"
     },
     "output_type": "display_data"
    }
   ],
   "source": [
    "# sanity check\n",
    "\n",
    "plt.imshow(img_patches[1,2,3,32,:,:], cmap='gray')  # 注意交换过次序，第一维表示图片\n",
    "plt.figure();plt.imshow(mask_patches[1,2,3,32,:,:], cmap='gray')"
   ]
  },
  {
   "cell_type": "code",
   "execution_count": 12,
   "metadata": {},
   "outputs": [
    {
     "name": "stdout",
     "output_type": "stream",
     "text": [
      "(64, 64, 64, 64)\n",
      "(64, 64, 64, 64)\n"
     ]
    }
   ],
   "source": [
    "# flatten the patches\n",
    "\n",
    "input_img = np.reshape(img_patches, (-1, unpatchParaTrain[3], unpatchParaTrain[4], unpatchParaTrain[5]))\n",
    "input_mask = np.reshape(mask_patches, (-1, unpatchParaTrain[3], unpatchParaTrain[4], unpatchParaTrain[5]))\n",
    "\n",
    "X_test = np.reshape(test_img_patches, (-1, unpatchParaTest[3], unpatchParaTest[4], unpatchParaTest[5]))\n",
    "Y_test = np.reshape(test_mask_patches, (-1, unpatchParaTest[3], unpatchParaTest[4], unpatchParaTest[5]))\n",
    "\n",
    "print(X_test.shape)  # n_patches, x, y, z\n",
    "print(Y_test.shape)"
   ]
  },
  {
   "cell_type": "code",
   "execution_count": 13,
   "metadata": {},
   "outputs": [
    {
     "name": "stdout",
     "output_type": "stream",
     "text": [
      "(64, 64, 64)\n"
     ]
    },
    {
     "data": {
      "text/plain": [
       "<matplotlib.image.AxesImage at 0x2aac9eb778d0>"
      ]
     },
     "execution_count": 13,
     "metadata": {},
     "output_type": "execute_result"
    },
    {
     "data": {
      "image/png": "[encoded data removed]",
      "text/plain": [
       "<Figure size 432x288 with 1 Axes>"
      ]
     },
     "metadata": {
      "needs_background": "light"
     },
     "output_type": "display_data"
    }
   ],
   "source": [
    "# sanity check the order\n",
    "\n",
    "test1 = X_test[0,...]\n",
    "print(test1.shape)\n",
    "plt.imshow(test1[0,...], cmap='gray')"
   ]
  },
  {
   "cell_type": "code",
   "execution_count": 14,
   "metadata": {},
   "outputs": [
    {
     "name": "stdout",
     "output_type": "stream",
     "text": [
      "(128, 64, 64, 64, 3) (128, 64, 64, 64, 1)\n"
     ]
    }
   ],
   "source": [
    "# preprocessing the img into RGB 3 channel\n",
    "n_classes = 2   # many classes by the final segmentation # 需要二元化mask才能做分类\n",
    "\n",
    "train_img = np.stack((input_img,)*3, axis=-1)\n",
    "train_mask = np.expand_dims(input_mask, axis=4) # expand one version\n",
    "print(train_img.shape, train_mask.shape)"
   ]
  },
  {
   "cell_type": "code",
   "execution_count": 15,
   "metadata": {},
   "outputs": [
    {
     "name": "stdout",
     "output_type": "stream",
     "text": [
      "(64, 64, 64, 64, 3) (64, 64, 64, 64, 1)\n"
     ]
    }
   ],
   "source": [
    "# pre-processing for the test image\n",
    "\n",
    "X_test = np.stack((X_test,)*3, axis=-1)\n",
    "Y_test = np.expand_dims(Y_test, axis=4) # expand one version\n",
    "print(X_test.shape, Y_test.shape)"
   ]
  },
  {
   "cell_type": "code",
   "execution_count": 16,
   "metadata": {},
   "outputs": [
    {
     "name": "stdout",
     "output_type": "stream",
     "text": [
      "[[0. 1. 0. ... 1. 0. 0.]\n",
      " [1. 0. 0. ... 0. 0. 0.]\n",
      " [0. 0. 0. ... 1. 0. 1.]\n",
      " ...\n",
      " [0. 0. 0. ... 0. 0. 0.]\n",
      " [0. 0. 0. ... 0. 0. 0.]\n",
      " [0. 0. 0. ... 0. 0. 0.]]\n"
     ]
    }
   ],
   "source": [
    "# sanity check for the binary\n",
    "\n",
    "test = train_mask[0,...]\n",
    "print(test[0,:,:,0])"
   ]
  },
  {
   "cell_type": "code",
   "execution_count": 17,
   "metadata": {},
   "outputs": [],
   "source": [
    "# pre-processing the data into categories\n",
    "\n",
    "train_mask_cat = to_categorical(train_mask, num_classes=n_classes) # trun into the sorts\n",
    "\n",
    "X_train, X_val, Y_train, Y_val = train_test_split(train_img, train_mask_cat, test_size = 0.25, random_state = 0) # Slitting into validation sets"
   ]
  },
  {
   "cell_type": "code",
   "execution_count": 18,
   "metadata": {},
   "outputs": [],
   "source": [
    "# define the loss\n",
    "\n",
    "# careful with the focal loss\n",
    "def dice_coefficient(y_true, y_pred):\n",
    "    smoothing_factor = 1\n",
    "    flat_y_true = K.flatten(y_true)\n",
    "    flat_y_pred = K.flatten(y_pred)\n",
    "    return (2. * K.sum(flat_y_true * flat_y_pred) + smoothing_factor) / (K.sum(flat_y_true) + K.sum(flat_y_pred) + smoothing_factor)  # 损失函数\n",
    "\n",
    "def dice_coefficient_loss(y_true, y_pred):\n",
    "    return 1 - dice_coefficient(y_true, y_pred)"
   ]
  },
  {
   "cell_type": "code",
   "execution_count": 19,
   "metadata": {},
   "outputs": [],
   "source": [
    "# hyper param of the models\n",
    "\n",
    "encoder_weights = 'imagenet'\n",
    "BACKBONE = 'vgg16'  # other available models: vgg16, efficientnetb7, inceptionv3, resnet50\n",
    "AKTIV = 'softmax'  \n",
    "patch_size = 64\n",
    "n_classes = 2\n",
    "channels=3\n",
    "\n",
    "LR = 0.0001\n",
    "optim = k.optimizers.Adam(LR)\n",
    "\n",
    "# Segmentation models losses can be combined together by '+' and scaled by integer or float factor\n",
    "# set class weights for dice_loss (car: 1.; pedestrian: 2.; background: 0.5;)\n",
    "dice_loss = sm.losses.DiceLoss(class_weights=np.array([0.5, 0.5])) # weights for segmentation classes\n",
    "focal_loss = sm.losses.CategoricalFocalLoss()  # handiling the inbalance dataset\n",
    "total_loss = dice_loss + (1 * focal_loss)\n",
    "\n",
    "# actulally total_loss can be imported directly from library, above example just show you how to manipulate with losses\n",
    "# total_loss = sm.losses.binary_focal_dice_loss # or sm.losses.categorical_focal_dice_loss \n",
    "\n",
    "metrics = [sm.metrics.IOUScore(threshold=0.5), sm.metrics.FScore(threshold=0.5)]  "
   ]
  },
  {
   "cell_type": "code",
   "execution_count": 20,
   "metadata": {},
   "outputs": [],
   "source": [
    "# print(X_train_prep.shape, X_val_prep.shape)"
   ]
  },
  {
   "cell_type": "code",
   "execution_count": 21,
   "metadata": {},
   "outputs": [
    {
     "name": "stderr",
     "output_type": "stream",
     "text": [
      "2022-04-28 12:24:24.615400: I tensorflow/core/profiler/lib/profiler_session.cc:136] Profiler session initializing.\n",
      "2022-04-28 12:24:24.615431: I tensorflow/core/profiler/lib/profiler_session.cc:155] Profiler session started.\n",
      "2022-04-28 12:24:24.615473: I tensorflow/core/profiler/internal/gpu/cupti_tracer.cc:1365] Profiler found 1 GPUs\n",
      "2022-04-28 12:24:24.616848: I tensorflow/stream_executor/platform/default/dso_loader.cc:49] Successfully opened dynamic library libcupti.so.10.1\n",
      "2022-04-28 12:24:24.717238: E tensorflow/core/profiler/internal/gpu/cupti_tracer.cc:1415] function cupti_interface_->Subscribe( &subscriber_, (CUpti_CallbackFunc)ApiCallback, this)failed with error CUPTI_ERROR_INSUFFICIENT_PRIVILEGES\n",
      "2022-04-28 12:24:24.717409: I tensorflow/core/profiler/lib/profiler_session.cc:172] Profiler session tear down.\n"
     ]
    }
   ],
   "source": [
    "# define the callback \n",
    "\n",
    "# setting checkpoints\n",
    "checkpointer = k.callbacks.ModelCheckpoint('./transfer3D/model/3d_unet_transfer.h5', verbose=1, save_best_only=True)\n",
    "\n",
    "if DOCUMENT:\n",
    "    callbacks = [\n",
    "        #k.callbacks.EarlyStopping(patience=10, monitor='val_loss'),\n",
    "        neptune_cbk, \n",
    "        k.callbacks.TensorBoard(log_dir = './transfer3D/tensorBoard')  # save in new folder in hemera. Also update in neptune\n",
    "    ]\n",
    "else:\n",
    "    callbacks = [\n",
    "        #k.callbacks.EarlyStopping(patience=10, monitor='val_loss'),\n",
    "        k.callbacks.TensorBoard(log_dir = './transfer3D/tensorBoard')  # save in new folder in hemera. Also update in neptune\n",
    "    ]"
   ]
  },
  {
   "cell_type": "code",
   "execution_count": 22,
   "metadata": {},
   "outputs": [],
   "source": [
    "# !pip install h5py==2.10.0\n",
    "# !pip install tensorboard==1.11.0\n",
    "# !pip install setuptools==39.1.0"
   ]
  },
  {
   "cell_type": "code",
   "execution_count": 23,
   "metadata": {},
   "outputs": [],
   "source": [
    "# preprocess the data\n",
    "\n",
    "preprocess_input = sm.get_preprocessing(BACKBONE)\n",
    "X_train_prep = preprocess_input(X_train)  # normalize和scaling现有的数据\n",
    "X_val_prep = preprocess_input(X_val)"
   ]
  },
  {
   "cell_type": "code",
   "execution_count": 24,
   "metadata": {},
   "outputs": [
    {
     "name": "stderr",
     "output_type": "stream",
     "text": [
      "2022-04-28 12:24:24.956662: I tensorflow/compiler/jit/xla_cpu_device.cc:41] Not creating XLA devices, tf_xla_enable_xla_devices not set\n",
      "2022-04-28 12:24:24.957299: I tensorflow/core/common_runtime/gpu/gpu_device.cc:1720] Found device 0 with properties: \n",
      "pciBusID: 0000:61:00.0 name: Tesla V100-SXM2-32GB computeCapability: 7.0\n",
      "coreClock: 1.53GHz coreCount: 80 deviceMemorySize: 31.75GiB deviceMemoryBandwidth: 836.37GiB/s\n",
      "2022-04-28 12:24:24.957330: I tensorflow/stream_executor/platform/default/dso_loader.cc:49] Successfully opened dynamic library libcudart.so.10.1\n",
      "2022-04-28 12:24:24.957352: I tensorflow/stream_executor/platform/default/dso_loader.cc:49] Successfully opened dynamic library libcublas.so.10\n",
      "2022-04-28 12:24:24.957362: I tensorflow/stream_executor/platform/default/dso_loader.cc:49] Successfully opened dynamic library libcublasLt.so.10\n",
      "2022-04-28 12:24:24.957371: I tensorflow/stream_executor/platform/default/dso_loader.cc:49] Successfully opened dynamic library libcufft.so.10\n",
      "2022-04-28 12:24:24.957380: I tensorflow/stream_executor/platform/default/dso_loader.cc:49] Successfully opened dynamic library libcurand.so.10\n",
      "2022-04-28 12:24:24.957389: I tensorflow/stream_executor/platform/default/dso_loader.cc:49] Successfully opened dynamic library libcusolver.so.10\n",
      "2022-04-28 12:24:24.957398: I tensorflow/stream_executor/platform/default/dso_loader.cc:49] Successfully opened dynamic library libcusparse.so.10\n",
      "2022-04-28 12:24:24.957408: I tensorflow/stream_executor/platform/default/dso_loader.cc:49] Successfully opened dynamic library libcudnn.so.7\n",
      "2022-04-28 12:24:24.958279: I tensorflow/core/common_runtime/gpu/gpu_device.cc:1862] Adding visible gpu devices: 0\n",
      "2022-04-28 12:24:24.958972: I tensorflow/core/common_runtime/gpu/gpu_device.cc:1720] Found device 0 with properties: \n",
      "pciBusID: 0000:61:00.0 name: Tesla V100-SXM2-32GB computeCapability: 7.0\n",
      "coreClock: 1.53GHz coreCount: 80 deviceMemorySize: 31.75GiB deviceMemoryBandwidth: 836.37GiB/s\n",
      "2022-04-28 12:24:24.958995: I tensorflow/stream_executor/platform/default/dso_loader.cc:49] Successfully opened dynamic library libcudart.so.10.1\n",
      "2022-04-28 12:24:24.959011: I tensorflow/stream_executor/platform/default/dso_loader.cc:49] Successfully opened dynamic library libcublas.so.10\n",
      "2022-04-28 12:24:24.959020: I tensorflow/stream_executor/platform/default/dso_loader.cc:49] Successfully opened dynamic library libcublasLt.so.10\n",
      "2022-04-28 12:24:24.959029: I tensorflow/stream_executor/platform/default/dso_loader.cc:49] Successfully opened dynamic library libcufft.so.10\n",
      "2022-04-28 12:24:24.959038: I tensorflow/stream_executor/platform/default/dso_loader.cc:49] Successfully opened dynamic library libcurand.so.10\n",
      "2022-04-28 12:24:24.959047: I tensorflow/stream_executor/platform/default/dso_loader.cc:49] Successfully opened dynamic library libcusolver.so.10\n",
      "2022-04-28 12:24:24.959055: I tensorflow/stream_executor/platform/default/dso_loader.cc:49] Successfully opened dynamic library libcusparse.so.10\n",
      "2022-04-28 12:24:24.959064: I tensorflow/stream_executor/platform/default/dso_loader.cc:49] Successfully opened dynamic library libcudnn.so.7\n",
      "2022-04-28 12:24:24.959853: I tensorflow/core/common_runtime/gpu/gpu_device.cc:1862] Adding visible gpu devices: 0\n",
      "2022-04-28 12:24:24.959889: I tensorflow/core/common_runtime/gpu/gpu_device.cc:1261] Device interconnect StreamExecutor with strength 1 edge matrix:\n",
      "2022-04-28 12:24:24.959895: I tensorflow/core/common_runtime/gpu/gpu_device.cc:1267]      0 \n",
      "2022-04-28 12:24:24.959901: I tensorflow/core/common_runtime/gpu/gpu_device.cc:1280] 0:   N \n",
      "2022-04-28 12:24:24.960736: I tensorflow/core/common_runtime/gpu/gpu_device.cc:1406] Created TensorFlow device (/job:localhost/replica:0/task:0/device:GPU:0 with 30132 MB memory) -> physical GPU (device: 0, name: Tesla V100-SXM2-32GB, pci bus id: 0000:61:00.0, compute capability: 7.0)\n",
      "2022-04-28 12:24:24.960760: I tensorflow/compiler/jit/xla_gpu_device.cc:99] Not creating XLA devices, tf_xla_enable_xla_devices not set\n"
     ]
    },
    {
     "name": "stdout",
     "output_type": "stream",
     "text": [
      "Model: \"model\"\n",
      "__________________________________________________________________________________________________\n",
      "Layer (type)                    Output Shape         Param #     Connected to                     \n",
      "==================================================================================================\n",
      "input_1 (InputLayer)            [(None, 64, 64, 64,  0                                            \n",
      "__________________________________________________________________________________________________\n",
      "block1_conv1 (Conv3D)           (None, 64, 64, 64, 6 5248        input_1[0][0]                    \n",
      "__________________________________________________________________________________________________\n",
      "block1_conv2 (Conv3D)           (None, 64, 64, 64, 6 110656      block1_conv1[0][0]               \n",
      "__________________________________________________________________________________________________\n",
      "block1_pool (MaxPooling3D)      (None, 32, 32, 32, 6 0           block1_conv2[0][0]               \n",
      "__________________________________________________________________________________________________\n",
      "block2_conv1 (Conv3D)           (None, 32, 32, 32, 1 221312      block1_pool[0][0]                \n",
      "__________________________________________________________________________________________________\n",
      "block2_conv2 (Conv3D)           (None, 32, 32, 32, 1 442496      block2_conv1[0][0]               \n",
      "__________________________________________________________________________________________________\n",
      "block2_pool (MaxPooling3D)      (None, 16, 16, 16, 1 0           block2_conv2[0][0]               \n",
      "__________________________________________________________________________________________________\n",
      "block3_conv1 (Conv3D)           (None, 16, 16, 16, 2 884992      block2_pool[0][0]                \n",
      "__________________________________________________________________________________________________\n",
      "block3_conv2 (Conv3D)           (None, 16, 16, 16, 2 1769728     block3_conv1[0][0]               \n",
      "__________________________________________________________________________________________________\n",
      "block3_conv3 (Conv3D)           (None, 16, 16, 16, 2 1769728     block3_conv2[0][0]               \n",
      "__________________________________________________________________________________________________\n",
      "block3_pool (MaxPooling3D)      (None, 8, 8, 8, 256) 0           block3_conv3[0][0]               \n",
      "__________________________________________________________________________________________________\n",
      "block4_conv1 (Conv3D)           (None, 8, 8, 8, 512) 3539456     block3_pool[0][0]                \n",
      "__________________________________________________________________________________________________\n",
      "block4_conv2 (Conv3D)           (None, 8, 8, 8, 512) 7078400     block4_conv1[0][0]               \n",
      "__________________________________________________________________________________________________\n",
      "block4_conv3 (Conv3D)           (None, 8, 8, 8, 512) 7078400     block4_conv2[0][0]               \n",
      "__________________________________________________________________________________________________\n",
      "block4_pool (MaxPooling3D)      (None, 4, 4, 4, 512) 0           block4_conv3[0][0]               \n",
      "__________________________________________________________________________________________________\n",
      "block5_conv1 (Conv3D)           (None, 4, 4, 4, 512) 7078400     block4_pool[0][0]                \n",
      "__________________________________________________________________________________________________\n",
      "block5_conv2 (Conv3D)           (None, 4, 4, 4, 512) 7078400     block5_conv1[0][0]               \n",
      "__________________________________________________________________________________________________\n",
      "block5_conv3 (Conv3D)           (None, 4, 4, 4, 512) 7078400     block5_conv2[0][0]               \n",
      "__________________________________________________________________________________________________\n",
      "block5_pool (MaxPooling3D)      (None, 2, 2, 2, 512) 0           block5_conv3[0][0]               \n",
      "__________________________________________________________________________________________________\n",
      "center_block1_conv (Conv3D)     (None, 2, 2, 2, 512) 7077888     block5_pool[0][0]                \n",
      "__________________________________________________________________________________________________\n",
      "center_block1_bn (BatchNormaliz (None, 2, 2, 2, 512) 2048        center_block1_conv[0][0]         \n",
      "__________________________________________________________________________________________________\n",
      "center_block1_relu (Activation) (None, 2, 2, 2, 512) 0           center_block1_bn[0][0]           \n",
      "__________________________________________________________________________________________________\n",
      "center_block2_conv (Conv3D)     (None, 2, 2, 2, 512) 7077888     center_block1_relu[0][0]         \n",
      "__________________________________________________________________________________________________\n",
      "center_block2_bn (BatchNormaliz (None, 2, 2, 2, 512) 2048        center_block2_conv[0][0]         \n",
      "__________________________________________________________________________________________________\n",
      "center_block2_relu (Activation) (None, 2, 2, 2, 512) 0           center_block2_bn[0][0]           \n",
      "__________________________________________________________________________________________________\n",
      "decoder_stage0_upsampling (UpSa (None, 4, 4, 4, 512) 0           center_block2_relu[0][0]         \n",
      "__________________________________________________________________________________________________\n",
      "decoder_stage0_concat (Concaten (None, 4, 4, 4, 1024 0           decoder_stage0_upsampling[0][0]  \n",
      "                                                                 block5_conv3[0][0]               \n",
      "__________________________________________________________________________________________________\n",
      "decoder_stage0a_conv (Conv3D)   (None, 4, 4, 4, 256) 7077888     decoder_stage0_concat[0][0]      \n",
      "__________________________________________________________________________________________________\n",
      "decoder_stage0a_bn (BatchNormal (None, 4, 4, 4, 256) 1024        decoder_stage0a_conv[0][0]       \n",
      "__________________________________________________________________________________________________\n",
      "decoder_stage0a_relu (Activatio (None, 4, 4, 4, 256) 0           decoder_stage0a_bn[0][0]         \n",
      "__________________________________________________________________________________________________\n",
      "decoder_stage0b_conv (Conv3D)   (None, 4, 4, 4, 256) 1769472     decoder_stage0a_relu[0][0]       \n",
      "__________________________________________________________________________________________________\n",
      "decoder_stage0b_bn (BatchNormal (None, 4, 4, 4, 256) 1024        decoder_stage0b_conv[0][0]       \n",
      "__________________________________________________________________________________________________\n",
      "decoder_stage0b_relu (Activatio (None, 4, 4, 4, 256) 0           decoder_stage0b_bn[0][0]         \n",
      "__________________________________________________________________________________________________\n",
      "decoder_stage1_upsampling (UpSa (None, 8, 8, 8, 256) 0           decoder_stage0b_relu[0][0]       \n",
      "__________________________________________________________________________________________________\n",
      "decoder_stage1_concat (Concaten (None, 8, 8, 8, 768) 0           decoder_stage1_upsampling[0][0]  \n",
      "                                                                 block4_conv3[0][0]               \n",
      "__________________________________________________________________________________________________\n",
      "decoder_stage1a_conv (Conv3D)   (None, 8, 8, 8, 128) 2654208     decoder_stage1_concat[0][0]      \n",
      "__________________________________________________________________________________________________\n",
      "decoder_stage1a_bn (BatchNormal (None, 8, 8, 8, 128) 512         decoder_stage1a_conv[0][0]       \n",
      "__________________________________________________________________________________________________\n",
      "decoder_stage1a_relu (Activatio (None, 8, 8, 8, 128) 0           decoder_stage1a_bn[0][0]         \n",
      "__________________________________________________________________________________________________\n",
      "decoder_stage1b_conv (Conv3D)   (None, 8, 8, 8, 128) 442368      decoder_stage1a_relu[0][0]       \n",
      "__________________________________________________________________________________________________\n",
      "decoder_stage1b_bn (BatchNormal (None, 8, 8, 8, 128) 512         decoder_stage1b_conv[0][0]       \n",
      "__________________________________________________________________________________________________\n",
      "decoder_stage1b_relu (Activatio (None, 8, 8, 8, 128) 0           decoder_stage1b_bn[0][0]         \n",
      "__________________________________________________________________________________________________\n",
      "decoder_stage2_upsampling (UpSa (None, 16, 16, 16, 1 0           decoder_stage1b_relu[0][0]       \n",
      "__________________________________________________________________________________________________\n",
      "decoder_stage2_concat (Concaten (None, 16, 16, 16, 3 0           decoder_stage2_upsampling[0][0]  \n",
      "                                                                 block3_conv3[0][0]               \n",
      "__________________________________________________________________________________________________\n",
      "decoder_stage2a_conv (Conv3D)   (None, 16, 16, 16, 6 663552      decoder_stage2_concat[0][0]      \n",
      "__________________________________________________________________________________________________\n",
      "decoder_stage2a_bn (BatchNormal (None, 16, 16, 16, 6 256         decoder_stage2a_conv[0][0]       \n",
      "__________________________________________________________________________________________________\n",
      "decoder_stage2a_relu (Activatio (None, 16, 16, 16, 6 0           decoder_stage2a_bn[0][0]         \n",
      "__________________________________________________________________________________________________\n",
      "decoder_stage2b_conv (Conv3D)   (None, 16, 16, 16, 6 110592      decoder_stage2a_relu[0][0]       \n",
      "__________________________________________________________________________________________________\n",
      "decoder_stage2b_bn (BatchNormal (None, 16, 16, 16, 6 256         decoder_stage2b_conv[0][0]       \n",
      "__________________________________________________________________________________________________\n",
      "decoder_stage2b_relu (Activatio (None, 16, 16, 16, 6 0           decoder_stage2b_bn[0][0]         \n",
      "__________________________________________________________________________________________________\n",
      "decoder_stage3_upsampling (UpSa (None, 32, 32, 32, 6 0           decoder_stage2b_relu[0][0]       \n",
      "__________________________________________________________________________________________________\n",
      "decoder_stage3_concat (Concaten (None, 32, 32, 32, 1 0           decoder_stage3_upsampling[0][0]  \n",
      "                                                                 block2_conv2[0][0]               \n",
      "__________________________________________________________________________________________________\n",
      "decoder_stage3a_conv (Conv3D)   (None, 32, 32, 32, 3 165888      decoder_stage3_concat[0][0]      \n",
      "__________________________________________________________________________________________________\n",
      "decoder_stage3a_bn (BatchNormal (None, 32, 32, 32, 3 128         decoder_stage3a_conv[0][0]       \n",
      "__________________________________________________________________________________________________\n",
      "decoder_stage3a_relu (Activatio (None, 32, 32, 32, 3 0           decoder_stage3a_bn[0][0]         \n",
      "__________________________________________________________________________________________________\n",
      "decoder_stage3b_conv (Conv3D)   (None, 32, 32, 32, 3 27648       decoder_stage3a_relu[0][0]       \n",
      "__________________________________________________________________________________________________\n",
      "decoder_stage3b_bn (BatchNormal (None, 32, 32, 32, 3 128         decoder_stage3b_conv[0][0]       \n",
      "__________________________________________________________________________________________________\n",
      "decoder_stage3b_relu (Activatio (None, 32, 32, 32, 3 0           decoder_stage3b_bn[0][0]         \n",
      "__________________________________________________________________________________________________\n",
      "decoder_stage4_upsampling (UpSa (None, 64, 64, 64, 3 0           decoder_stage3b_relu[0][0]       \n",
      "__________________________________________________________________________________________________\n",
      "decoder_stage4a_conv (Conv3D)   (None, 64, 64, 64, 1 13824       decoder_stage4_upsampling[0][0]  \n",
      "__________________________________________________________________________________________________\n",
      "decoder_stage4a_bn (BatchNormal (None, 64, 64, 64, 1 64          decoder_stage4a_conv[0][0]       \n",
      "__________________________________________________________________________________________________\n",
      "decoder_stage4a_relu (Activatio (None, 64, 64, 64, 1 0           decoder_stage4a_bn[0][0]         \n",
      "__________________________________________________________________________________________________\n",
      "decoder_stage4b_conv (Conv3D)   (None, 64, 64, 64, 1 6912        decoder_stage4a_relu[0][0]       \n",
      "__________________________________________________________________________________________________\n",
      "decoder_stage4b_bn (BatchNormal (None, 64, 64, 64, 1 64          decoder_stage4b_conv[0][0]       \n",
      "__________________________________________________________________________________________________\n",
      "decoder_stage4b_relu (Activatio (None, 64, 64, 64, 1 0           decoder_stage4b_bn[0][0]         \n",
      "__________________________________________________________________________________________________\n",
      "final_conv (Conv3D)             (None, 64, 64, 64, 2 866         decoder_stage4b_relu[0][0]       \n",
      "__________________________________________________________________________________________________\n",
      "softmax (Activation)            (None, 64, 64, 64, 2 0           final_conv[0][0]                 \n",
      "==================================================================================================\n",
      "Total params: 71,232,674\n",
      "Trainable params: 71,228,642\n",
      "Non-trainable params: 4,032\n",
      "__________________________________________________________________________________________________\n",
      "None\n"
     ]
    }
   ],
   "source": [
    "# define the model\n",
    "\n",
    "model = sm.Unet(BACKBONE, classes=n_classes, \n",
    "                input_shape=(patch_size, patch_size, patch_size, channels), # 64，64，64，3\n",
    "                encoder_weights=encoder_weights,  # encoder initialized with imagenet\n",
    "                activation=AKTIV)\n",
    "\n",
    "model.compile(optimizer = optim, loss=total_loss, metrics=metrics)\n",
    "print(model.summary())"
   ]
  },
  {
   "cell_type": "code",
   "execution_count": 25,
   "metadata": {},
   "outputs": [
    {
     "name": "stderr",
     "output_type": "stream",
     "text": [
      "2022-04-28 12:24:26.589634: I tensorflow/compiler/mlir/mlir_graph_optimization_pass.cc:116] None of the MLIR optimization passes are enabled (registered 2)\n",
      "2022-04-28 12:24:26.590269: I tensorflow/core/platform/profile_utils/cpu_utils.cc:112] CPU Frequency: 3000000000 Hz\n"
     ]
    },
    {
     "name": "stdout",
     "output_type": "stream",
     "text": [
      "Epoch 1/100\n"
     ]
    },
    {
     "name": "stderr",
     "output_type": "stream",
     "text": [
      "2022-04-28 12:24:30.283629: I tensorflow/stream_executor/platform/default/dso_loader.cc:49] Successfully opened dynamic library libcudnn.so.7\n",
      "2022-04-28 12:24:31.327740: W tensorflow/stream_executor/gpu/asm_compiler.cc:98] *** WARNING *** You are using ptxas 9.0.176, which is older than 9.2.88. ptxas 9.x before 9.2.88 is known to miscompile XLA code, leading to incorrect results or invalid-address errors.\n",
      "\n",
      "You do not need to update to CUDA 9.2.88; cherry-picking the ptxas binary is sufficient.\n",
      "2022-04-28 12:24:31.420569: I tensorflow/stream_executor/platform/default/dso_loader.cc:49] Successfully opened dynamic library libcublas.so.10\n"
     ]
    },
    {
     "name": "stdout",
     "output_type": "stream",
     "text": [
      " 1/12 [=>............................] - ETA: 1:25 - loss: 0.8908 - iou_score: 0.1321 - f1-score: 0.2333"
     ]
    },
    {
     "name": "stderr",
     "output_type": "stream",
     "text": [
      "2022-04-28 12:24:34.445314: I tensorflow/core/profiler/lib/profiler_session.cc:136] Profiler session initializing.\n",
      "2022-04-28 12:24:34.445351: I tensorflow/core/profiler/lib/profiler_session.cc:155] Profiler session started.\n",
      "2022-04-28 12:24:34.446035: E tensorflow/core/profiler/internal/gpu/cupti_tracer.cc:1415] function cupti_interface_->Subscribe( &subscriber_, (CUpti_CallbackFunc)ApiCallback, this)failed with error CUPTI_ERROR_INSUFFICIENT_PRIVILEGES\n"
     ]
    },
    {
     "name": "stdout",
     "output_type": "stream",
     "text": [
      " 2/12 [====>.........................] - ETA: 7s - loss: 0.8842 - iou_score: 0.1375 - f1-score: 0.2416  "
     ]
    },
    {
     "name": "stderr",
     "output_type": "stream",
     "text": [
      "2022-04-28 12:24:35.070383: I tensorflow/core/profiler/lib/profiler_session.cc:71] Profiler session collecting data.\n",
      "2022-04-28 12:24:35.085888: I tensorflow/core/profiler/internal/gpu/cupti_collector.cc:228]  GpuTracer has collected 0 callback api events and 0 activity events. \n",
      "2022-04-28 12:24:35.089429: I tensorflow/core/profiler/lib/profiler_session.cc:172] Profiler session tear down.\n",
      "2022-04-28 12:24:35.092495: I tensorflow/core/profiler/rpc/client/save_profile.cc:137] Creating directory: ./transfer3D/tensorBoard/train/plugins/profile/2022_04_28_12_24_35\n",
      "2022-04-28 12:24:35.102234: I tensorflow/core/profiler/rpc/client/save_profile.cc:143] Dumped gzipped tool data for trace.json.gz to ./transfer3D/tensorBoard/train/plugins/profile/2022_04_28_12_24_35/gv017.cluster.trace.json.gz\n",
      "2022-04-28 12:24:35.137856: I tensorflow/core/profiler/rpc/client/save_profile.cc:137] Creating directory: ./transfer3D/tensorBoard/train/plugins/profile/2022_04_28_12_24_35\n",
      "2022-04-28 12:24:35.145456: I tensorflow/core/profiler/rpc/client/save_profile.cc:143] Dumped gzipped tool data for memory_profile.json.gz to ./transfer3D/tensorBoard/train/plugins/profile/2022_04_28_12_24_35/gv017.cluster.memory_profile.json.gz\n",
      "2022-04-28 12:24:35.149793: I tensorflow/core/profiler/rpc/client/capture_profile.cc:251] Creating directory: ./transfer3D/tensorBoard/train/plugins/profile/2022_04_28_12_24_35Dumped tool data for xplane.pb to ./transfer3D/tensorBoard/train/plugins/profile/2022_04_28_12_24_35/gv017.cluster.xplane.pb\n",
      "Dumped tool data for overview_page.pb to ./transfer3D/tensorBoard/train/plugins/profile/2022_04_28_12_24_35/gv017.cluster.overview_page.pb\n",
      "Dumped tool data for input_pipeline.pb to ./transfer3D/tensorBoard/train/plugins/profile/2022_04_28_12_24_35/gv017.cluster.input_pipeline.pb\n",
      "Dumped tool data for tensorflow_stats.pb to ./transfer3D/tensorBoard/train/plugins/profile/2022_04_28_12_24_35/gv017.cluster.tensorflow_stats.pb\n",
      "Dumped tool data for kernel_stats.pb to ./transfer3D/tensorBoard/train/plugins/profile/2022_04_28_12_24_35/gv017.cluster.kernel_stats.pb\n",
      "\n"
     ]
    },
    {
     "name": "stdout",
     "output_type": "stream",
     "text": [
      "12/12 [==============================] - 17s 815ms/step - loss: 0.8516 - iou_score: 0.2066 - f1-score: 0.3227 - val_loss: 0.8429 - val_iou_score: 0.4215 - val_f1-score: 0.4988\n",
      "Epoch 2/100\n",
      "12/12 [==============================] - 8s 702ms/step - loss: 0.7901 - iou_score: 0.4221 - f1-score: 0.4931 - val_loss: 0.8504 - val_iou_score: 0.4303 - val_f1-score: 0.4888\n",
      "Epoch 3/100\n",
      "12/12 [==============================] - 8s 703ms/step - loss: 0.7768 - iou_score: 0.4305 - f1-score: 0.4683 - val_loss: 0.8258 - val_iou_score: 0.4312 - val_f1-score: 0.4830\n",
      "Epoch 4/100\n",
      "12/12 [==============================] - 8s 702ms/step - loss: 0.7727 - iou_score: 0.4299 - f1-score: 0.4644 - val_loss: 0.8014 - val_iou_score: 0.4313 - val_f1-score: 0.4835\n",
      "Epoch 5/100\n",
      "12/12 [==============================] - 8s 703ms/step - loss: 0.7713 - iou_score: 0.4288 - f1-score: 0.4625 - val_loss: 0.7955 - val_iou_score: 0.4311 - val_f1-score: 0.4853\n",
      "Epoch 6/100\n",
      "12/12 [==============================] - 8s 704ms/step - loss: 0.7708 - iou_score: 0.4294 - f1-score: 0.4626 - val_loss: 0.7897 - val_iou_score: 0.4315 - val_f1-score: 0.4800\n",
      "Epoch 7/100\n",
      "12/12 [==============================] - 8s 706ms/step - loss: 0.7705 - iou_score: 0.4292 - f1-score: 0.4622 - val_loss: 0.7818 - val_iou_score: 0.4316 - val_f1-score: 0.4820\n",
      "Epoch 8/100\n",
      "12/12 [==============================] - 8s 705ms/step - loss: 0.7705 - iou_score: 0.4285 - f1-score: 0.4617 - val_loss: 0.7791 - val_iou_score: 0.4316 - val_f1-score: 0.4806\n",
      "Epoch 9/100\n",
      "12/12 [==============================] - 8s 707ms/step - loss: 0.7705 - iou_score: 0.4292 - f1-score: 0.4621 - val_loss: 0.7764 - val_iou_score: 0.4315 - val_f1-score: 0.4834\n",
      "Epoch 10/100\n",
      "12/12 [==============================] - 8s 706ms/step - loss: 0.7704 - iou_score: 0.4284 - f1-score: 0.4617 - val_loss: 0.7759 - val_iou_score: 0.4316 - val_f1-score: 0.4826\n",
      "Epoch 11/100\n",
      "12/12 [==============================] - 8s 707ms/step - loss: 0.7704 - iou_score: 0.4286 - f1-score: 0.4617 - val_loss: 0.7772 - val_iou_score: 0.4311 - val_f1-score: 0.4872\n",
      "Epoch 12/100\n",
      "12/12 [==============================] - 8s 706ms/step - loss: 0.7704 - iou_score: 0.4281 - f1-score: 0.4613 - val_loss: 0.7821 - val_iou_score: 0.4313 - val_f1-score: 0.4855\n",
      "Epoch 13/100\n",
      "12/12 [==============================] - 8s 708ms/step - loss: 0.7703 - iou_score: 0.4287 - f1-score: 0.4616 - val_loss: 0.7777 - val_iou_score: 0.4317 - val_f1-score: 0.4771\n",
      "Epoch 14/100\n",
      "12/12 [==============================] - 8s 705ms/step - loss: 0.7703 - iou_score: 0.4291 - f1-score: 0.4619 - val_loss: 0.7815 - val_iou_score: 0.4316 - val_f1-score: 0.4850\n",
      "Epoch 15/100\n",
      "12/12 [==============================] - 8s 707ms/step - loss: 0.7703 - iou_score: 0.4286 - f1-score: 0.4616 - val_loss: 0.7805 - val_iou_score: 0.4316 - val_f1-score: 0.4764\n",
      "Epoch 16/100\n",
      "12/12 [==============================] - 8s 706ms/step - loss: 0.7703 - iou_score: 0.4282 - f1-score: 0.4613 - val_loss: 0.7799 - val_iou_score: 0.4311 - val_f1-score: 0.4707\n",
      "Epoch 17/100\n",
      "12/12 [==============================] - 8s 709ms/step - loss: 0.7702 - iou_score: 0.4292 - f1-score: 0.4619 - val_loss: 0.7784 - val_iou_score: 0.4308 - val_f1-score: 0.4683\n",
      "Epoch 18/100\n",
      "12/12 [==============================] - 8s 708ms/step - loss: 0.7703 - iou_score: 0.4295 - f1-score: 0.4621 - val_loss: 0.7735 - val_iou_score: 0.4300 - val_f1-score: 0.4626\n",
      "Epoch 19/100\n",
      "12/12 [==============================] - 8s 706ms/step - loss: 0.7703 - iou_score: 0.4299 - f1-score: 0.4623 - val_loss: 0.7761 - val_iou_score: 0.4300 - val_f1-score: 0.4624\n",
      "Epoch 20/100\n",
      "12/12 [==============================] - 8s 706ms/step - loss: 0.7702 - iou_score: 0.4295 - f1-score: 0.4621 - val_loss: 0.7740 - val_iou_score: 0.4300 - val_f1-score: 0.4624\n",
      "Epoch 21/100\n",
      "12/12 [==============================] - 8s 708ms/step - loss: 0.7702 - iou_score: 0.4287 - f1-score: 0.4617 - val_loss: 0.7748 - val_iou_score: 0.4300 - val_f1-score: 0.4624\n",
      "Epoch 22/100\n",
      "12/12 [==============================] - 8s 709ms/step - loss: 0.7702 - iou_score: 0.4284 - f1-score: 0.4615 - val_loss: 0.7748 - val_iou_score: 0.4300 - val_f1-score: 0.4624\n",
      "Epoch 23/100\n",
      "12/12 [==============================] - 8s 709ms/step - loss: 0.7702 - iou_score: 0.4292 - f1-score: 0.4619 - val_loss: 0.7784 - val_iou_score: 0.4304 - val_f1-score: 0.4642\n",
      "Epoch 24/100\n",
      "12/12 [==============================] - 8s 708ms/step - loss: 0.7702 - iou_score: 0.4288 - f1-score: 0.4617 - val_loss: 0.7720 - val_iou_score: 0.4300 - val_f1-score: 0.4624\n",
      "Epoch 25/100\n",
      "12/12 [==============================] - 8s 703ms/step - loss: 0.7701 - iou_score: 0.4282 - f1-score: 0.4613 - val_loss: 0.7707 - val_iou_score: 0.4300 - val_f1-score: 0.4624\n",
      "Epoch 26/100\n",
      "12/12 [==============================] - 8s 704ms/step - loss: 0.7702 - iou_score: 0.4287 - f1-score: 0.4616 - val_loss: 0.7722 - val_iou_score: 0.4300 - val_f1-score: 0.4624\n",
      "Epoch 27/100\n",
      "12/12 [==============================] - 8s 707ms/step - loss: 0.7701 - iou_score: 0.4288 - f1-score: 0.4617 - val_loss: 0.7716 - val_iou_score: 0.4300 - val_f1-score: 0.4624\n",
      "Epoch 28/100\n",
      "12/12 [==============================] - 8s 707ms/step - loss: 0.7702 - iou_score: 0.4277 - f1-score: 0.4610 - val_loss: 0.7728 - val_iou_score: 0.4300 - val_f1-score: 0.4624\n",
      "Epoch 29/100\n",
      "12/12 [==============================] - 8s 707ms/step - loss: 0.7702 - iou_score: 0.4278 - f1-score: 0.4611 - val_loss: 0.7724 - val_iou_score: 0.4300 - val_f1-score: 0.4624\n",
      "Epoch 30/100\n",
      "12/12 [==============================] - 8s 705ms/step - loss: 0.7701 - iou_score: 0.4289 - f1-score: 0.4618 - val_loss: 0.7705 - val_iou_score: 0.4300 - val_f1-score: 0.4623\n",
      "Epoch 31/100\n",
      "12/12 [==============================] - 8s 705ms/step - loss: 0.7702 - iou_score: 0.4291 - f1-score: 0.4618 - val_loss: 0.7710 - val_iou_score: 0.4300 - val_f1-score: 0.4623\n",
      "Epoch 32/100\n",
      "12/12 [==============================] - 8s 708ms/step - loss: 0.7701 - iou_score: 0.4292 - f1-score: 0.4619 - val_loss: 0.7714 - val_iou_score: 0.4300 - val_f1-score: 0.4623\n",
      "Epoch 33/100\n",
      "12/12 [==============================] - 8s 708ms/step - loss: 0.7701 - iou_score: 0.4284 - f1-score: 0.4615 - val_loss: 0.7706 - val_iou_score: 0.4300 - val_f1-score: 0.4624\n",
      "Epoch 34/100\n",
      "12/12 [==============================] - 8s 705ms/step - loss: 0.7701 - iou_score: 0.4287 - f1-score: 0.4616 - val_loss: 0.7704 - val_iou_score: 0.4300 - val_f1-score: 0.4623\n",
      "Epoch 35/100\n",
      "12/12 [==============================] - 8s 705ms/step - loss: 0.7700 - iou_score: 0.4290 - f1-score: 0.4618 - val_loss: 0.7713 - val_iou_score: 0.4300 - val_f1-score: 0.4623\n",
      "Epoch 36/100\n",
      "12/12 [==============================] - 8s 705ms/step - loss: 0.7701 - iou_score: 0.4284 - f1-score: 0.4615 - val_loss: 0.7705 - val_iou_score: 0.4300 - val_f1-score: 0.4623\n",
      "Epoch 37/100\n",
      "12/12 [==============================] - 8s 707ms/step - loss: 0.7701 - iou_score: 0.4301 - f1-score: 0.4624 - val_loss: 0.7704 - val_iou_score: 0.4300 - val_f1-score: 0.4623\n",
      "Epoch 38/100\n",
      "12/12 [==============================] - 8s 706ms/step - loss: 0.7702 - iou_score: 0.4290 - f1-score: 0.4618 - val_loss: 0.7703 - val_iou_score: 0.4300 - val_f1-score: 0.4623\n",
      "Epoch 39/100\n",
      "12/12 [==============================] - 8s 707ms/step - loss: 0.7701 - iou_score: 0.4286 - f1-score: 0.4615 - val_loss: 0.7777 - val_iou_score: 0.4304 - val_f1-score: 0.4635\n",
      "Epoch 40/100\n",
      "12/12 [==============================] - 8s 707ms/step - loss: 0.7700 - iou_score: 0.4289 - f1-score: 0.4617 - val_loss: 0.7806 - val_iou_score: 0.4306 - val_f1-score: 0.4641\n",
      "Epoch 41/100\n",
      "12/12 [==============================] - 8s 708ms/step - loss: 0.7700 - iou_score: 0.4289 - f1-score: 0.4617 - val_loss: 0.7752 - val_iou_score: 0.4302 - val_f1-score: 0.4633\n",
      "Epoch 42/100\n",
      "12/12 [==============================] - 8s 706ms/step - loss: 0.7700 - iou_score: 0.4293 - f1-score: 0.4619 - val_loss: 0.7709 - val_iou_score: 0.4300 - val_f1-score: 0.4623\n",
      "Epoch 43/100\n",
      "12/12 [==============================] - 8s 704ms/step - loss: 0.7700 - iou_score: 0.4289 - f1-score: 0.4618 - val_loss: 0.7710 - val_iou_score: 0.4300 - val_f1-score: 0.4623\n",
      "Epoch 44/100\n",
      "12/12 [==============================] - 8s 707ms/step - loss: 0.7700 - iou_score: 0.4293 - f1-score: 0.4620 - val_loss: 0.7707 - val_iou_score: 0.4300 - val_f1-score: 0.4623\n",
      "Epoch 45/100\n",
      "12/12 [==============================] - 8s 707ms/step - loss: 0.7700 - iou_score: 0.4289 - f1-score: 0.4617 - val_loss: 0.7722 - val_iou_score: 0.4300 - val_f1-score: 0.4623\n",
      "Epoch 46/100\n",
      "12/12 [==============================] - 8s 705ms/step - loss: 0.7696 - iou_score: 0.4286 - f1-score: 0.4618 - val_loss: 0.7709 - val_iou_score: 0.4299 - val_f1-score: 0.4623\n",
      "Epoch 47/100\n",
      "12/12 [==============================] - 8s 705ms/step - loss: 0.7701 - iou_score: 0.4292 - f1-score: 0.4619 - val_loss: 0.7783 - val_iou_score: 0.4303 - val_f1-score: 0.4633\n",
      "Epoch 48/100\n",
      "12/12 [==============================] - 8s 707ms/step - loss: 0.7700 - iou_score: 0.4300 - f1-score: 0.4624 - val_loss: 0.7715 - val_iou_score: 0.4299 - val_f1-score: 0.4623\n",
      "Epoch 49/100\n",
      "12/12 [==============================] - 8s 706ms/step - loss: 0.7700 - iou_score: 0.4293 - f1-score: 0.4622 - val_loss: 0.7831 - val_iou_score: 0.4317 - val_f1-score: 0.4771\n",
      "Epoch 50/100\n",
      "12/12 [==============================] - 8s 707ms/step - loss: 0.7701 - iou_score: 0.4295 - f1-score: 0.4624 - val_loss: 0.7908 - val_iou_score: 0.3229 - val_f1-score: 0.4514\n",
      "Epoch 51/100\n",
      "12/12 [==============================] - 8s 707ms/step - loss: 0.7696 - iou_score: 0.4298 - f1-score: 0.4646 - val_loss: 0.7709 - val_iou_score: 0.4300 - val_f1-score: 0.4623\n",
      "Epoch 52/100\n",
      "12/12 [==============================] - 8s 705ms/step - loss: 0.7699 - iou_score: 0.4292 - f1-score: 0.4625 - val_loss: 0.7778 - val_iou_score: 0.4302 - val_f1-score: 0.4632\n",
      "Epoch 53/100\n",
      "12/12 [==============================] - 8s 706ms/step - loss: 0.7697 - iou_score: 0.4305 - f1-score: 0.4651 - val_loss: 0.7760 - val_iou_score: 0.4301 - val_f1-score: 0.4627\n",
      "Epoch 54/100\n",
      "12/12 [==============================] - 8s 705ms/step - loss: 0.7697 - iou_score: 0.4306 - f1-score: 0.4652 - val_loss: 0.7791 - val_iou_score: 0.4316 - val_f1-score: 0.4883\n",
      "Epoch 55/100\n",
      "12/12 [==============================] - 8s 705ms/step - loss: 0.7697 - iou_score: 0.4303 - f1-score: 0.4650 - val_loss: 0.7704 - val_iou_score: 0.4300 - val_f1-score: 0.4624\n",
      "Epoch 56/100\n",
      "12/12 [==============================] - 8s 704ms/step - loss: 0.7697 - iou_score: 0.4299 - f1-score: 0.4652 - val_loss: 0.7757 - val_iou_score: 0.4300 - val_f1-score: 0.4628\n",
      "Epoch 57/100\n",
      "12/12 [==============================] - 8s 705ms/step - loss: 0.7696 - iou_score: 0.4320 - f1-score: 0.4689 - val_loss: 0.7704 - val_iou_score: 0.4300 - val_f1-score: 0.4623\n",
      "Epoch 58/100\n",
      "12/12 [==============================] - 8s 706ms/step - loss: 0.7696 - iou_score: 0.4319 - f1-score: 0.4685 - val_loss: 0.7703 - val_iou_score: 0.4300 - val_f1-score: 0.4624\n",
      "Epoch 59/100\n",
      "12/12 [==============================] - 8s 705ms/step - loss: 0.7695 - iou_score: 0.4335 - f1-score: 0.4724 - val_loss: 0.7730 - val_iou_score: 0.4300 - val_f1-score: 0.4624\n",
      "Epoch 60/100\n",
      "12/12 [==============================] - 8s 707ms/step - loss: 0.7695 - iou_score: 0.4304 - f1-score: 0.4653 - val_loss: 0.7703 - val_iou_score: 0.4300 - val_f1-score: 0.4624\n",
      "Epoch 61/100\n",
      "12/12 [==============================] - 8s 708ms/step - loss: 0.7697 - iou_score: 0.4304 - f1-score: 0.4667 - val_loss: 0.7718 - val_iou_score: 0.4300 - val_f1-score: 0.4623\n",
      "Epoch 62/100\n",
      "12/12 [==============================] - 8s 704ms/step - loss: 0.7695 - iou_score: 0.4323 - f1-score: 0.4702 - val_loss: 0.7703 - val_iou_score: 0.4301 - val_f1-score: 0.4627\n",
      "Epoch 63/100\n",
      "12/12 [==============================] - 8s 706ms/step - loss: 0.7695 - iou_score: 0.4330 - f1-score: 0.4706 - val_loss: 0.7845 - val_iou_score: 0.3846 - val_f1-score: 0.4928\n",
      "Epoch 64/100\n",
      "12/12 [==============================] - 8s 704ms/step - loss: 0.7696 - iou_score: 0.4320 - f1-score: 0.4704 - val_loss: 0.7749 - val_iou_score: 0.4316 - val_f1-score: 0.4666\n",
      "Epoch 65/100\n",
      "12/12 [==============================] - 8s 704ms/step - loss: 0.7692 - iou_score: 0.4349 - f1-score: 0.4765 - val_loss: 0.7725 - val_iou_score: 0.4300 - val_f1-score: 0.4624\n",
      "Epoch 66/100\n",
      "12/12 [==============================] - 8s 706ms/step - loss: 0.7696 - iou_score: 0.4307 - f1-score: 0.4671 - val_loss: 0.7983 - val_iou_score: 0.3251 - val_f1-score: 0.4531\n",
      "Epoch 67/100\n",
      "12/12 [==============================] - 8s 705ms/step - loss: 0.7691 - iou_score: 0.4355 - f1-score: 0.4771 - val_loss: 0.7784 - val_iou_score: 0.4316 - val_f1-score: 0.4669\n",
      "Epoch 68/100\n",
      "12/12 [==============================] - 8s 705ms/step - loss: 0.7694 - iou_score: 0.4344 - f1-score: 0.4740 - val_loss: 0.7945 - val_iou_score: 0.3268 - val_f1-score: 0.4544\n",
      "Epoch 69/100\n",
      "12/12 [==============================] - 8s 705ms/step - loss: 0.7694 - iou_score: 0.4344 - f1-score: 0.4741 - val_loss: 0.7879 - val_iou_score: 0.3582 - val_f1-score: 0.4769\n",
      "Epoch 70/100\n",
      "12/12 [==============================] - 8s 705ms/step - loss: 0.7691 - iou_score: 0.4360 - f1-score: 0.4767 - val_loss: 0.7835 - val_iou_score: 0.4069 - val_f1-score: 0.5029\n",
      "Epoch 71/100\n",
      "12/12 [==============================] - 8s 705ms/step - loss: 0.7693 - iou_score: 0.4344 - f1-score: 0.4730 - val_loss: 0.7996 - val_iou_score: 0.2961 - val_f1-score: 0.4291\n",
      "Epoch 72/100\n",
      "12/12 [==============================] - 8s 707ms/step - loss: 0.7692 - iou_score: 0.4349 - f1-score: 0.4753 - val_loss: 0.7715 - val_iou_score: 0.4300 - val_f1-score: 0.4624\n",
      "Epoch 73/100\n",
      "12/12 [==============================] - 8s 704ms/step - loss: 0.7698 - iou_score: 0.4303 - f1-score: 0.4646 - val_loss: 0.8103 - val_iou_score: 0.2867 - val_f1-score: 0.4207\n",
      "Epoch 74/100\n",
      "12/12 [==============================] - 8s 707ms/step - loss: 0.7691 - iou_score: 0.4354 - f1-score: 0.4777 - val_loss: 0.7840 - val_iou_score: 0.4302 - val_f1-score: 0.4992\n",
      "Epoch 75/100\n",
      "12/12 [==============================] - 8s 705ms/step - loss: 0.7693 - iou_score: 0.4340 - f1-score: 0.4743 - val_loss: 0.7941 - val_iou_score: 0.3215 - val_f1-score: 0.4504\n",
      "Epoch 76/100\n",
      "12/12 [==============================] - 8s 705ms/step - loss: 0.7692 - iou_score: 0.4346 - f1-score: 0.4736 - val_loss: 0.7756 - val_iou_score: 0.4359 - val_f1-score: 0.4806\n",
      "Epoch 77/100\n",
      "12/12 [==============================] - 8s 708ms/step - loss: 0.7693 - iou_score: 0.4341 - f1-score: 0.4754 - val_loss: 0.7716 - val_iou_score: 0.4300 - val_f1-score: 0.4627\n",
      "Epoch 78/100\n",
      "12/12 [==============================] - 8s 705ms/step - loss: 0.7696 - iou_score: 0.4328 - f1-score: 0.4707 - val_loss: 0.8021 - val_iou_score: 0.3093 - val_f1-score: 0.4404\n",
      "Epoch 79/100\n",
      "12/12 [==============================] - 8s 707ms/step - loss: 0.7691 - iou_score: 0.4350 - f1-score: 0.4758 - val_loss: 0.7710 - val_iou_score: 0.4342 - val_f1-score: 0.4731\n",
      "Epoch 80/100\n",
      "12/12 [==============================] - 8s 703ms/step - loss: 0.7686 - iou_score: 0.4384 - f1-score: 0.4825 - val_loss: 0.7708 - val_iou_score: 0.4330 - val_f1-score: 0.4700\n",
      "Epoch 81/100\n",
      "12/12 [==============================] - 8s 705ms/step - loss: 0.7697 - iou_score: 0.4325 - f1-score: 0.4692 - val_loss: 0.7860 - val_iou_score: 0.3732 - val_f1-score: 0.4871\n",
      "Epoch 82/100\n",
      "12/12 [==============================] - 8s 704ms/step - loss: 0.7691 - iou_score: 0.4373 - f1-score: 0.4814 - val_loss: 0.7935 - val_iou_score: 0.3307 - val_f1-score: 0.4575\n",
      "Epoch 83/100\n",
      "12/12 [==============================] - 8s 702ms/step - loss: 0.7695 - iou_score: 0.4344 - f1-score: 0.4741 - val_loss: 0.7793 - val_iou_score: 0.4294 - val_f1-score: 0.5034\n",
      "Epoch 84/100\n",
      "12/12 [==============================] - 8s 704ms/step - loss: 0.7695 - iou_score: 0.4341 - f1-score: 0.4733 - val_loss: 0.8015 - val_iou_score: 0.3010 - val_f1-score: 0.4334\n",
      "Epoch 85/100\n",
      "12/12 [==============================] - 8s 706ms/step - loss: 0.7688 - iou_score: 0.4371 - f1-score: 0.4811 - val_loss: 0.7742 - val_iou_score: 0.4342 - val_f1-score: 0.4738\n",
      "Epoch 86/100\n",
      "12/12 [==============================] - 8s 703ms/step - loss: 0.7695 - iou_score: 0.4330 - f1-score: 0.4717 - val_loss: 0.7923 - val_iou_score: 0.3662 - val_f1-score: 0.4820\n",
      "Epoch 87/100\n",
      "12/12 [==============================] - 8s 705ms/step - loss: 0.7688 - iou_score: 0.4400 - f1-score: 0.4861 - val_loss: 0.7732 - val_iou_score: 0.4300 - val_f1-score: 0.4625\n",
      "Epoch 88/100\n",
      "12/12 [==============================] - 8s 706ms/step - loss: 0.7693 - iou_score: 0.4337 - f1-score: 0.4731 - val_loss: 0.8014 - val_iou_score: 0.3105 - val_f1-score: 0.4414\n",
      "Epoch 89/100\n",
      "12/12 [==============================] - 8s 707ms/step - loss: 0.7693 - iou_score: 0.4337 - f1-score: 0.4728 - val_loss: 0.7743 - val_iou_score: 0.4361 - val_f1-score: 0.4812\n",
      "Epoch 90/100\n",
      "12/12 [==============================] - 8s 704ms/step - loss: 0.7689 - iou_score: 0.4371 - f1-score: 0.4806 - val_loss: 0.7716 - val_iou_score: 0.4300 - val_f1-score: 0.4624\n",
      "Epoch 91/100\n",
      "12/12 [==============================] - 8s 704ms/step - loss: 0.7694 - iou_score: 0.4341 - f1-score: 0.4723 - val_loss: 0.7891 - val_iou_score: 0.3811 - val_f1-score: 0.4903\n",
      "Epoch 92/100\n",
      "12/12 [==============================] - 8s 704ms/step - loss: 0.7689 - iou_score: 0.4373 - f1-score: 0.4801 - val_loss: 0.7766 - val_iou_score: 0.4371 - val_f1-score: 0.4864\n",
      "Epoch 93/100\n",
      "12/12 [==============================] - 8s 705ms/step - loss: 0.7688 - iou_score: 0.4373 - f1-score: 0.4803 - val_loss: 0.8110 - val_iou_score: 0.3157 - val_f1-score: 0.4456\n",
      "Epoch 94/100\n",
      "12/12 [==============================] - 8s 705ms/step - loss: 0.7688 - iou_score: 0.4369 - f1-score: 0.4800 - val_loss: 0.7713 - val_iou_score: 0.4331 - val_f1-score: 0.4717\n",
      "Epoch 95/100\n",
      "12/12 [==============================] - 8s 702ms/step - loss: 0.7689 - iou_score: 0.4362 - f1-score: 0.4789 - val_loss: 0.8191 - val_iou_score: 0.3148 - val_f1-score: 0.4449\n",
      "Epoch 96/100\n",
      "12/12 [==============================] - 8s 707ms/step - loss: 0.7696 - iou_score: 0.4324 - f1-score: 0.4695 - val_loss: 0.8052 - val_iou_score: 0.3295 - val_f1-score: 0.4565\n",
      "Epoch 97/100\n",
      "12/12 [==============================] - 8s 706ms/step - loss: 0.7686 - iou_score: 0.4397 - f1-score: 0.4865 - val_loss: 0.7732 - val_iou_score: 0.4300 - val_f1-score: 0.4624\n",
      "Epoch 98/100\n",
      "12/12 [==============================] - 8s 707ms/step - loss: 0.7689 - iou_score: 0.4342 - f1-score: 0.4745 - val_loss: 0.8050 - val_iou_score: 0.2932 - val_f1-score: 0.4265\n",
      "Epoch 99/100\n",
      "12/12 [==============================] - 8s 705ms/step - loss: 0.7694 - iou_score: 0.4349 - f1-score: 0.4753 - val_loss: 0.7727 - val_iou_score: 0.4317 - val_f1-score: 0.4686\n",
      "Epoch 100/100\n",
      "12/12 [==============================] - 8s 704ms/step - loss: 0.7694 - iou_score: 0.4341 - f1-score: 0.4740 - val_loss: 0.7753 - val_iou_score: 0.4348 - val_f1-score: 0.4915\n"
     ]
    }
   ],
   "source": [
    "# train \n",
    "\n",
    "history=model.fit(X_train_prep, \n",
    "          Y_train,\n",
    "          batch_size=8, \n",
    "          epochs=100,\n",
    "          verbose=1,\n",
    "          validation_data=(X_val_prep, Y_val),\n",
    "         callbacks=callbacks)"
   ]
  },
  {
   "cell_type": "code",
   "execution_count": 26,
   "metadata": {},
   "outputs": [],
   "source": [
    "# save the model\n",
    "\n",
    "model.save('./3DUnet/model/3D_model_vgg16_100epochs.h5')"
   ]
  },
  {
   "cell_type": "code",
   "execution_count": 27,
   "metadata": {},
   "outputs": [
    {
     "data": {
      "image/png": "[encoded data removed]",
      "text/plain": [
       "<Figure size 432x288 with 1 Axes>"
      ]
     },
     "metadata": {
      "needs_background": "light"
     },
     "output_type": "display_data"
    },
    {
     "data": {
      "image/png": "[encoded data removed]",
      "text/plain": [
       "<Figure size 432x288 with 1 Axes>"
      ]
     },
     "metadata": {
      "needs_background": "light"
     },
     "output_type": "display_data"
    }
   ],
   "source": [
    "# visualize the loss and IOU loss\n",
    "\n",
    "loss = history.history['loss']\n",
    "val_loss = history.history['val_loss']\n",
    "epochs = range(1, len(loss) + 1)\n",
    "plt.plot(epochs, loss, 'y', label='Training loss')\n",
    "plt.plot(epochs, val_loss, 'r', label='Validation loss')\n",
    "plt.title('Training and validation loss')\n",
    "plt.xlabel('Epochs')\n",
    "plt.ylabel('Loss')\n",
    "plt.legend()\n",
    "plt.show()\n",
    "\n",
    "acc = history.history['iou_score']\n",
    "val_acc = history.history['val_iou_score']\n",
    "\n",
    "plt.plot(epochs, acc, 'y', label='Training IOU')\n",
    "plt.plot(epochs, val_acc, 'r', label='Validation IOU')\n",
    "plt.title('Training and validation IOU')\n",
    "plt.xlabel('Epochs')\n",
    "plt.ylabel('IOU')\n",
    "plt.legend()\n",
    "plt.show() # Save model"
   ]
  },
  {
   "cell_type": "markdown",
   "metadata": {},
   "source": [
    "#### Test part"
   ]
  },
  {
   "cell_type": "code",
   "execution_count": 28,
   "metadata": {},
   "outputs": [],
   "source": [
    "# import tensorflow.keras as k"
   ]
  },
  {
   "cell_type": "code",
   "execution_count": 29,
   "metadata": {},
   "outputs": [],
   "source": [
    "# print(k.__version__)"
   ]
  },
  {
   "cell_type": "code",
   "execution_count": 29,
   "metadata": {},
   "outputs": [],
   "source": [
    "# load the model\n",
    "\n",
    "from keras.models import load_model\n",
    "# from keras.models import load_model\n",
    "my_model = load_model('./3DUnet/model/3D_model_vgg16_100epochs.h5', compile=False)"
   ]
  },
  {
   "cell_type": "code",
   "execution_count": 31,
   "metadata": {},
   "outputs": [
    {
     "name": "stdout",
     "output_type": "stream",
     "text": [
      "(64, 64, 64, 64, 3)\n"
     ]
    }
   ],
   "source": [
    "X_test_prep = preprocess_input(X_test)  \n",
    "print(X_test_prep.shape)\n",
    "# X_val_prep = preprocess_input(X_val)\n",
    "# print(X_train_prep.shape)"
   ]
  },
  {
   "cell_type": "code",
   "execution_count": 32,
   "metadata": {},
   "outputs": [],
   "source": [
    "# test on the test set\n",
    "# Y_pred = []\n",
    "\n",
    "# for i in range(X_test.shape[0]):\n",
    "#     pTemp = my_model.predict(X_test_prep[i,...])\n",
    "#     Y_pred.append(pTemp)\n",
    "\n",
    "Y_pred = my_model.predict(X_test_prep)\n",
    "\n",
    "Y_pred = np.asarray(Y_pred)\n",
    "Y_pred_argmax = np.argmax(Y_pred, axis=4) \n",
    "Y_test_argmax = np.argmax(Y_test, axis=4)"
   ]
  },
  {
   "cell_type": "code",
   "execution_count": 33,
   "metadata": {},
   "outputs": [
    {
     "name": "stdout",
     "output_type": "stream",
     "text": [
      "(64, 64, 64, 64)\n",
      "(64, 64, 64, 64)\n",
      "[0 1]\n"
     ]
    }
   ],
   "source": [
    "print(Y_pred_argmax.shape)\n",
    "print(Y_test_argmax.shape)\n",
    "print(np.unique(Y_pred_argmax))"
   ]
  },
  {
   "cell_type": "code",
   "execution_count": 34,
   "metadata": {},
   "outputs": [
    {
     "name": "stdout",
     "output_type": "stream",
     "text": [
      "(64, 64, 64)\n"
     ]
    }
   ],
   "source": [
    "# test in rando\n",
    "import random\n",
    "test_img_number = random.randint(0, len(X_test))\n",
    "test_img = X_test[test_img_number]\n",
    "ground_truth=Y_test[test_img_number]\n",
    "\n",
    "test_img_input=np.expand_dims(test_img, 0)\n",
    "test_img_input1 = preprocess_input(test_img_input)\n",
    "\n",
    "test_pred1 = my_model.predict(test_img_input1)\n",
    "test_prediction1 = np.argmax(test_pred1, axis=4)[0,:,:,:]\n",
    "print(test_prediction1.shape)"
   ]
  },
  {
   "cell_type": "code",
   "execution_count": null,
   "metadata": {},
   "outputs": [],
   "source": []
  },
  {
   "cell_type": "code",
   "execution_count": 35,
   "metadata": {},
   "outputs": [],
   "source": [
    "imagePatch = np.reshape(np.asarray(Y_pred_argmax),\n",
    "                (unpatchParaTest[0], unpatchParaTest[1],unpatchParaTest[2],\n",
    "                 unpatchParaTest[3], unpatchParaTest[4],unpatchParaTest[5]))\n",
    "original = unpatchify(imagePatch, testStackSize)"
   ]
  },
  {
   "cell_type": "code",
   "execution_count": 36,
   "metadata": {},
   "outputs": [
    {
     "name": "stdout",
     "output_type": "stream",
     "text": [
      "(256, 256, 256)\n"
     ]
    }
   ],
   "source": [
    "print(original.shape)"
   ]
  },
  {
   "cell_type": "code",
   "execution_count": 43,
   "metadata": {},
   "outputs": [
    {
     "data": {
      "text/plain": [
       "<matplotlib.image.AxesImage at 0x2aacf4a23a10>"
      ]
     },
     "execution_count": 43,
     "metadata": {},
     "output_type": "execute_result"
    },
    {
     "data": {
      "image/png": "[encoded data removed]",
      "text/plain": [
       "<Figure size 432x288 with 1 Axes>"
      ]
     },
     "metadata": {
      "needs_background": "light"
     },
     "output_type": "display_data"
    }
   ],
   "source": [
    "tempIMG = original[:,:,:]\n",
    "\n",
    "plt.imshow(tempIMG, cmap='gray')"
   ]
  },
  {
   "cell_type": "code",
   "execution_count": 30,
   "metadata": {
    "collapsed": true,
    "jupyter": {
     "outputs_hidden": true
    }
   },
   "outputs": [
    {
     "name": "stdout",
     "output_type": "stream",
     "text": [
      "Defaulting to user installation because normal site-packages is not writeable\n",
      "\u001b[33mWARNING: Ignoring invalid distribution -umpy (/trinity/shared/pkg/devel/python/3.6.5/lib/python3.6/site-packages)\u001b[0m\n",
      "Collecting napari[all]\n",
      "  Downloading napari-0.3.8-py3-none-any.whl (850 kB)\n",
      "     |################################| 850 kB 4.3 MB/s            \n",
      "\u001b[?25hRequirement already satisfied: Pillow!=7.1.0,!=7.1.1 in /trinity/shared/pkg/devel/python/3.6.5/lib/python3.6/site-packages (from napari[all]) (8.2.0)\n",
      "Requirement already satisfied: scipy>=1.2.0 in /home/li52/.local/lib/python3.6/site-packages (from napari[all]) (1.5.4)\n",
      "Requirement already satisfied: qtpy>=1.7.0 in /trinity/shared/pkg/devel/python/3.6.5/lib/python3.6/site-packages (from napari[all]) (1.9.0)\n",
      "Collecting PyOpenGL>=3.1.0\n",
      "  Using cached PyOpenGL-3.1.6-py3-none-any.whl (2.4 MB)\n",
      "Requirement already satisfied: psutil>=5.0 in /trinity/shared/pkg/devel/python/3.6.5/lib/python3.6/site-packages (from napari[all]) (5.6.3)\n",
      "Collecting numpydoc>=0.9.2\n",
      "  Downloading numpydoc-1.1.0-py3-none-any.whl (47 kB)\n",
      "     |################################| 47 kB 6.1 MB/s             \n",
      "\u001b[?25hRequirement already satisfied: imageio>=2.5.0 in /trinity/shared/pkg/devel/python/3.6.5/lib/python3.6/site-packages (from napari[all]) (2.5.0)\n",
      "Requirement already satisfied: PyYAML>=5.1 in /trinity/shared/pkg/devel/python/3.6.5/lib/python3.6/site-packages (from napari[all]) (5.1.1)\n",
      "Requirement already satisfied: wrapt>=1.11.1 in /home/li52/.local/lib/python3.6/site-packages (from napari[all]) (1.12.1)\n",
      "Requirement already satisfied: tifffile>=2020.2.16 in /home/li52/.local/lib/python3.6/site-packages (from napari[all]) (2020.9.3)\n",
      "Collecting qtconsole>=4.5.1\n",
      "  Downloading qtconsole-5.2.2-py3-none-any.whl (120 kB)\n",
      "     |################################| 120 kB 99.4 MB/s            \n",
      "\u001b[?25hCollecting cachey>=0.2.1\n",
      "  Using cached cachey-0.2.1-py3-none-any.whl (6.4 kB)\n",
      "Collecting appdirs>=1.4.4\n",
      "  Downloading appdirs-1.4.4-py2.py3-none-any.whl (9.6 kB)\n",
      "Collecting ipykernel>=5.2.0\n",
      "  Downloading ipykernel-5.5.6-py3-none-any.whl (121 kB)\n",
      "     |################################| 121 kB 91.8 MB/s            \n",
      "\u001b[?25hCollecting IPython>=7.7.0\n",
      "  Downloading ipython-7.16.3-py3-none-any.whl (783 kB)\n",
      "     |################################| 783 kB 93.7 MB/s            \n",
      "\u001b[?25hCollecting vispy>=0.6.4\n",
      "  Downloading vispy-0.10.0.tar.gz (2.4 MB)\n",
      "     |################################| 2.4 MB 70.4 MB/s            \n",
      "\u001b[?25h  Installing build dependencies ... \u001b[?25ldone\n",
      "\u001b[?25h  Getting requirements to build wheel ... \u001b[?25ldone\n",
      "\u001b[?25h  Preparing metadata (pyproject.toml) ... \u001b[?25ldone\n",
      "\u001b[?25hCollecting napari-svg>=0.1.4\n",
      "  Downloading napari-svg-0.1.4.tar.gz (12 kB)\n",
      "  Preparing metadata (setup.py) ... \u001b[?25ldone\n",
      "\u001b[?25hCollecting importlib-metadata>=1.5.0\n",
      "  Downloading importlib_metadata-4.8.3-py3-none-any.whl (17 kB)\n",
      "Collecting napari-plugin-engine>=0.1.5\n",
      "  Using cached napari_plugin_engine-0.2.0-py3-none-any.whl (33 kB)\n",
      "Collecting dask[array]>=2.1.0\n",
      "  Downloading dask-2021.3.0-py3-none-any.whl (925 kB)\n",
      "     |################################| 925 kB 91.2 MB/s            \n",
      "\u001b[?25hRequirement already satisfied: typing-extensions in /home/li52/.local/lib/python3.6/site-packages (from napari[all]) (3.7.4.3)\n",
      "Collecting toolz>=0.10.0\n",
      "  Downloading toolz-0.11.2-py3-none-any.whl (55 kB)\n",
      "     |################################| 55 kB 5.3 MB/s             \n",
      "\u001b[?25hRequirement already satisfied: numpy>=1.16.0 in /home/li52/.local/lib/python3.6/site-packages (from napari[all]) (1.19.5)\n",
      "Requirement already satisfied: PyQt5<5.15.0,>=5.12.3 in /trinity/shared/pkg/devel/python/3.6.5/lib/python3.6/site-packages (from napari[all]) (5.12.3)\n",
      "Collecting heapdict\n",
      "  Downloading HeapDict-1.0.1-py3-none-any.whl (3.9 kB)\n",
      "Requirement already satisfied: zipp>=0.5 in /home/li52/.local/lib/python3.6/site-packages (from importlib-metadata>=1.5.0->napari[all]) (3.6.0)\n",
      "Requirement already satisfied: ipython-genutils in /trinity/shared/pkg/devel/python/3.6.5/lib/python3.6/site-packages (from ipykernel>=5.2.0->napari[all]) (0.2.0)\n",
      "Requirement already satisfied: tornado>=4.2 in /trinity/shared/pkg/devel/python/3.6.5/lib/python3.6/site-packages (from ipykernel>=5.2.0->napari[all]) (5.0.2)\n",
      "Requirement already satisfied: jupyter-client in /trinity/shared/pkg/devel/python/3.6.5/lib/python3.6/site-packages (from ipykernel>=5.2.0->napari[all]) (5.2.3)\n",
      "Requirement already satisfied: traitlets>=4.1.0 in /trinity/shared/pkg/devel/python/3.6.5/lib/python3.6/site-packages (from ipykernel>=5.2.0->napari[all]) (4.3.2)\n",
      "Requirement already satisfied: decorator in /trinity/shared/pkg/devel/python/3.6.5/lib/python3.6/site-packages (from IPython>=7.7.0->napari[all]) (4.3.0)\n",
      "Requirement already satisfied: setuptools>=18.5 in /home/li52/.local/lib/python3.6/site-packages (from IPython>=7.7.0->napari[all]) (59.6.0)\n",
      "Requirement already satisfied: pygments in /trinity/shared/pkg/devel/python/3.6.5/lib/python3.6/site-packages (from IPython>=7.7.0->napari[all]) (2.2.0)\n",
      "Requirement already satisfied: pexpect in /trinity/shared/pkg/devel/python/3.6.5/lib/python3.6/site-packages (from IPython>=7.7.0->napari[all]) (4.5.0)\n",
      "Requirement already satisfied: jedi<=0.17.2,>=0.10 in /trinity/shared/pkg/devel/python/3.6.5/lib/python3.6/site-packages (from IPython>=7.7.0->napari[all]) (0.12.0)\n",
      "Requirement already satisfied: pickleshare in /trinity/shared/pkg/devel/python/3.6.5/lib/python3.6/site-packages (from IPython>=7.7.0->napari[all]) (0.7.4)\n",
      "Requirement already satisfied: backcall in /trinity/shared/pkg/devel/python/3.6.5/lib/python3.6/site-packages (from IPython>=7.7.0->napari[all]) (0.1.0)\n",
      "Collecting prompt-toolkit!=3.0.0,!=3.0.1,<3.1.0,>=2.0.0\n",
      "  Downloading prompt_toolkit-3.0.29-py3-none-any.whl (381 kB)\n",
      "     |################################| 381 kB 90.4 MB/s            \n",
      "\u001b[?25hRequirement already satisfied: Jinja2>=2.3 in /trinity/shared/pkg/devel/python/3.6.5/lib/python3.6/site-packages (from numpydoc>=0.9.2->napari[all]) (2.10)\n",
      "Requirement already satisfied: sphinx>=1.6.5 in /trinity/shared/pkg/devel/python/3.6.5/lib/python3.6/site-packages (from numpydoc>=0.9.2->napari[all]) (2.1.2)\n",
      "Requirement already satisfied: PyQt5_sip<13,>=4.19.14 in /trinity/shared/pkg/devel/python/3.6.5/lib/python3.6/site-packages (from PyQt5<5.15.0,>=5.12.3->napari[all]) (4.19.18)\n",
      "Requirement already satisfied: jupyter-core in /trinity/shared/pkg/devel/python/3.6.5/lib/python3.6/site-packages (from qtconsole>=4.5.1->napari[all]) (4.4.0)\n",
      "Collecting pyzmq>=17.1\n",
      "  Downloading pyzmq-22.3.0-cp36-cp36m-manylinux_2_5_x86_64.manylinux1_x86_64.whl (1.1 MB)\n",
      "     |################################| 1.1 MB 92.5 MB/s            \n",
      "\u001b[?25hCollecting hsluv\n",
      "  Using cached hsluv-5.0.2-py2.py3-none-any.whl (5.1 kB)\n",
      "Collecting freetype-py\n",
      "  Using cached freetype_py-2.2.0-py3-none-manylinux1_x86_64.whl (890 kB)\n",
      "Requirement already satisfied: kiwisolver in /trinity/shared/pkg/devel/python/3.6.5/lib/python3.6/site-packages (from vispy>=0.6.4->napari[all]) (1.0.1)\n",
      "Requirement already satisfied: parso>=0.2.0 in /trinity/shared/pkg/devel/python/3.6.5/lib/python3.6/site-packages (from jedi<=0.17.2,>=0.10->IPython>=7.7.0->napari[all]) (0.2.1)\n",
      "Requirement already satisfied: MarkupSafe>=0.23 in /trinity/shared/pkg/devel/python/3.6.5/lib/python3.6/site-packages (from Jinja2>=2.3->numpydoc>=0.9.2->napari[all]) (1.1.0)\n",
      "Requirement already satisfied: python-dateutil>=2.1 in /trinity/shared/pkg/devel/python/3.6.5/lib/python3.6/site-packages (from jupyter-client->ipykernel>=5.2.0->napari[all]) (2.7.5)\n",
      "Requirement already satisfied: wcwidth in /trinity/shared/pkg/devel/python/3.6.5/lib/python3.6/site-packages (from prompt-toolkit!=3.0.0,!=3.0.1,<3.1.0,>=2.0.0->IPython>=7.7.0->napari[all]) (0.1.7)\n",
      "Requirement already satisfied: alabaster<0.8,>=0.7 in /trinity/shared/pkg/devel/python/3.6.5/lib/python3.6/site-packages (from sphinx>=1.6.5->numpydoc>=0.9.2->napari[all]) (0.7.12)\n",
      "Requirement already satisfied: sphinxcontrib-qthelp in /trinity/shared/pkg/devel/python/3.6.5/lib/python3.6/site-packages (from sphinx>=1.6.5->numpydoc>=0.9.2->napari[all]) (1.0.2)\n",
      "Requirement already satisfied: sphinxcontrib-serializinghtml in /trinity/shared/pkg/devel/python/3.6.5/lib/python3.6/site-packages (from sphinx>=1.6.5->numpydoc>=0.9.2->napari[all]) (1.1.3)\n",
      "Requirement already satisfied: packaging in /trinity/shared/pkg/devel/python/3.6.5/lib/python3.6/site-packages (from sphinx>=1.6.5->numpydoc>=0.9.2->napari[all]) (19.1)\n",
      "Requirement already satisfied: imagesize in /trinity/shared/pkg/devel/python/3.6.5/lib/python3.6/site-packages (from sphinx>=1.6.5->numpydoc>=0.9.2->napari[all]) (1.1.0)\n",
      "Requirement already satisfied: sphinxcontrib-applehelp in /trinity/shared/pkg/devel/python/3.6.5/lib/python3.6/site-packages (from sphinx>=1.6.5->numpydoc>=0.9.2->napari[all]) (1.0.1)\n",
      "Requirement already satisfied: sphinxcontrib-devhelp in /trinity/shared/pkg/devel/python/3.6.5/lib/python3.6/site-packages (from sphinx>=1.6.5->numpydoc>=0.9.2->napari[all]) (1.0.1)\n",
      "Requirement already satisfied: snowballstemmer>=1.1 in /trinity/shared/pkg/devel/python/3.6.5/lib/python3.6/site-packages (from sphinx>=1.6.5->numpydoc>=0.9.2->napari[all]) (1.9.0)\n",
      "Requirement already satisfied: requests>=2.5.0 in /trinity/shared/pkg/devel/python/3.6.5/lib/python3.6/site-packages (from sphinx>=1.6.5->numpydoc>=0.9.2->napari[all]) (2.22.0)\n",
      "Requirement already satisfied: docutils>=0.12 in /trinity/shared/pkg/devel/python/3.6.5/lib/python3.6/site-packages (from sphinx>=1.6.5->numpydoc>=0.9.2->napari[all]) (0.15.2)\n",
      "Requirement already satisfied: sphinxcontrib-jsmath in /trinity/shared/pkg/devel/python/3.6.5/lib/python3.6/site-packages (from sphinx>=1.6.5->numpydoc>=0.9.2->napari[all]) (1.0.1)\n",
      "Requirement already satisfied: sphinxcontrib-htmlhelp in /trinity/shared/pkg/devel/python/3.6.5/lib/python3.6/site-packages (from sphinx>=1.6.5->numpydoc>=0.9.2->napari[all]) (1.0.2)\n",
      "Requirement already satisfied: babel!=2.0,>=1.3 in /trinity/shared/pkg/devel/python/3.6.5/lib/python3.6/site-packages (from sphinx>=1.6.5->numpydoc>=0.9.2->napari[all]) (2.7.0)\n",
      "Requirement already satisfied: six in /home/li52/.local/lib/python3.6/site-packages (from traitlets>=4.1.0->ipykernel>=5.2.0->napari[all]) (1.15.0)\n",
      "Requirement already satisfied: ptyprocess>=0.5 in /trinity/shared/pkg/devel/python/3.6.5/lib/python3.6/site-packages (from pexpect->IPython>=7.7.0->napari[all]) (0.5.2)\n",
      "Requirement already satisfied: pytz>=2015.7 in /trinity/shared/pkg/devel/python/3.6.5/lib/python3.6/site-packages (from babel!=2.0,>=1.3->sphinx>=1.6.5->numpydoc>=0.9.2->napari[all]) (2018.4)\n",
      "Requirement already satisfied: certifi>=2017.4.17 in /trinity/shared/pkg/devel/python/3.6.5/lib/python3.6/site-packages (from requests>=2.5.0->sphinx>=1.6.5->numpydoc>=0.9.2->napari[all]) (2019.6.16)\n",
      "Requirement already satisfied: urllib3!=1.25.0,!=1.25.1,<1.26,>=1.21.1 in /home/li52/.local/lib/python3.6/site-packages (from requests>=2.5.0->sphinx>=1.6.5->numpydoc>=0.9.2->napari[all]) (1.25.11)\n",
      "Requirement already satisfied: idna<2.9,>=2.5 in /trinity/shared/pkg/devel/python/3.6.5/lib/python3.6/site-packages (from requests>=2.5.0->sphinx>=1.6.5->numpydoc>=0.9.2->napari[all]) (2.8)\n",
      "Requirement already satisfied: chardet<3.1.0,>=3.0.2 in /trinity/shared/pkg/devel/python/3.6.5/lib/python3.6/site-packages (from requests>=2.5.0->sphinx>=1.6.5->numpydoc>=0.9.2->napari[all]) (3.0.4)\n",
      "Requirement already satisfied: attrs in /trinity/shared/pkg/devel/python/3.6.5/lib/python3.6/site-packages (from packaging->sphinx>=1.6.5->numpydoc>=0.9.2->napari[all]) (19.1.0)\n",
      "Requirement already satisfied: pyparsing>=2.0.2 in /trinity/shared/pkg/devel/python/3.6.5/lib/python3.6/site-packages (from packaging->sphinx>=1.6.5->numpydoc>=0.9.2->napari[all]) (2.3.0)\n",
      "Building wheels for collected packages: napari-svg, vispy\n",
      "  Building wheel for napari-svg (setup.py) ... \u001b[?25ldone\n",
      "\u001b[?25h  Created wheel for napari-svg: filename=napari_svg-0.1.4-py3-none-any.whl size=12115 sha256=95c4380be71df595f55e9da123a475b47ec32e2186efff227bb159cc075ba893\n",
      "  Stored in directory: /home/li52/.cache/pip/wheels/99/b9/fb/154ffa21220377f1c64149f0b938968895d06bfb9a6fa22b94\n",
      "  Building wheel for vispy (pyproject.toml) ... \u001b[?25ldone\n",
      "\u001b[?25h  Created wheel for vispy: filename=vispy-0.10.0-cp36-cp36m-linux_x86_64.whl size=1449949 sha256=c86f0c5f1daf71f48417b61b7f60203be08a3b523319a86265b590f1bf6cca7d\n",
      "  Stored in directory: /home/li52/.cache/pip/wheels/9e/0d/00/9a489c14de7ea57bc72a714510e63713653755a7a5e296c274\n",
      "Successfully built napari-svg vispy\n",
      "\u001b[33mWARNING: Ignoring invalid distribution -umpy (/trinity/shared/pkg/devel/python/3.6.5/lib/python3.6/site-packages)\u001b[0m\n",
      "Installing collected packages: pyzmq, prompt-toolkit, IPython, importlib-metadata, hsluv, freetype-py, vispy, toolz, napari-plugin-engine, ipykernel, heapdict, dask, qtconsole, PyOpenGL, numpydoc, napari-svg, cachey, appdirs, napari\n",
      "\u001b[33m  WARNING: The scripts iptest, iptest3, ipython and ipython3 are installed in '/home/li52/.local/bin' which is not on PATH.\n",
      "  Consider adding this directory to PATH or, if you prefer to suppress this warning, use --no-warn-script-location.\u001b[0m\n",
      "\u001b[33m  WARNING: The script napari is installed in '/home/li52/.local/bin' which is not on PATH.\n",
      "  Consider adding this directory to PATH or, if you prefer to suppress this warning, use --no-warn-script-location.\u001b[0m\n",
      "\u001b[31mERROR: pip's dependency resolver does not currently take into account all the packages that are installed. This behaviour is the source of the following dependency conflicts.\n",
      "jupyter-console 5.2.0 requires prompt-toolkit<2.0.0,>=1.0.0, but you have prompt-toolkit 3.0.29 which is incompatible.\u001b[0m\n",
      "Successfully installed IPython-7.16.3 PyOpenGL-3.1.6 appdirs-1.4.4 cachey-0.2.1 dask-2021.3.0 freetype-py-2.2.0 heapdict-1.0.1 hsluv-5.0.2 importlib-metadata-4.8.3 ipykernel-5.5.6 napari-0.3.8 napari-plugin-engine-0.2.0 napari-svg-0.1.4 numpydoc-1.1.0 prompt-toolkit-3.0.29 pyzmq-22.3.0 qtconsole-5.2.2 toolz-0.11.2 vispy-0.10.0\n",
      "\u001b[33mWARNING: Ignoring invalid distribution -umpy (/trinity/shared/pkg/devel/python/3.6.5/lib/python3.6/site-packages)\u001b[0m\n"
     ]
    }
   ],
   "source": [
    "# !pip install \"napari[all]\""
   ]
  },
  {
   "cell_type": "code",
   "execution_count": 32,
   "metadata": {},
   "outputs": [],
   "source": [
    "# veiw the 3D volume \n",
    "# not working on the hemera\n",
    "\n",
    "from skimage import data\n",
    "import napari\n",
    "\n",
    "viewer = napari.view_image(data.cells3d(), channel_axis=1, ndisplay=3)"
   ]
  },
  {
   "cell_type": "code",
   "execution_count": null,
   "metadata": {},
   "outputs": [],
   "source": []
  }
 ],
 "metadata": {
  "kernelspec": {
   "display_name": "CONDA (seg)",
   "language": "python",
   "name": "seg"
  },
  "language_info": {
   "codemirror_mode": {
    "name": "ipython",
    "version": 3
   },
   "file_extension": ".py",
   "mimetype": "text/x-python",
   "name": "python",
   "nbconvert_exporter": "python",
   "pygments_lexer": "ipython3",
   "version": "3.7.13"
  }
 },
 "nbformat": 4,
 "nbformat_minor": 4
}
